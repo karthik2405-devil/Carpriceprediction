{
 "cells": [
  {
   "cell_type": "code",
   "execution_count": 0,
   "metadata": {
    "colab": {},
    "colab_type": "code",
    "id": "MrL7qOcMgu7e"
   },
   "outputs": [],
   "source": [
    "import pandas as pd\n",
    "import numpy as np\n",
    "import matplotlib.pyplot as plt\n",
    "from pandas import get_dummies from google.colab import files\n"
   ]
  },
  {
   "cell_type": "code",
   "execution_count": 3,
   "metadata": {
    "colab": {
     "base_uri": "https://localhost:8080/",
     "height": 131,
     "resources": {
      "http://localhost:8080/nbextensions/google.colab/files.js": {
       "data": "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",
       "headers": [
        [
         "content-type",
         "application/javascript"
        ]
       ],
       "ok": true,
       "status": 200,
       "status_text": ""
      }
     }
    },
    "colab_type": "code",
    "id": "nhOfGbk9g5ZM",
    "outputId": "8dfcd950-06d6-4471-f8be-08b73c132a1f"
   },
   "outputs": [
    {
     "data": {
      "text/html": [
       "\n",
       "     <input type=\"file\" id=\"files-9efbcb5f-0d57-471f-ba70-2774099dc1c2\" name=\"files[]\" multiple disabled />\n",
       "     <output id=\"result-9efbcb5f-0d57-471f-ba70-2774099dc1c2\">\n",
       "      Upload widget is only available when the cell has been executed in the\n",
       "      current browser session. Please rerun this cell to enable.\n",
       "      </output>\n",
       "      <script src=\"/nbextensions/google.colab/files.js\"></script> "
      ],
      "text/plain": [
       "<IPython.core.display.HTML object>"
      ]
     },
     "metadata": {
      "tags": []
     },
     "output_type": "display_data"
    },
    {
     "name": "stdout",
     "output_type": "stream",
     "text": [
      "Saving Data_Train.xlsx to Data_Train.xlsx\n"
     ]
    },
    {
     "data": {
      "text/html": [
       "\n",
       "     <input type=\"file\" id=\"files-644dd2df-7845-44a9-aa56-d7c7641e8ebc\" name=\"files[]\" multiple disabled />\n",
       "     <output id=\"result-644dd2df-7845-44a9-aa56-d7c7641e8ebc\">\n",
       "      Upload widget is only available when the cell has been executed in the\n",
       "      current browser session. Please rerun this cell to enable.\n",
       "      </output>\n",
       "      <script src=\"/nbextensions/google.colab/files.js\"></script> "
      ],
      "text/plain": [
       "<IPython.core.display.HTML object>"
      ]
     },
     "metadata": {
      "tags": []
     },
     "output_type": "display_data"
    },
    {
     "name": "stdout",
     "output_type": "stream",
     "text": [
      "Saving Data_Test.xlsx to Data_Test.xlsx\n"
     ]
    }
   ],
   "source": [
    "from google.colab import files\n",
    "uploaded = files.upload()\n",
    "uploaded1 = files.upload()"
   ]
  },
  {
   "cell_type": "code",
   "execution_count": 0,
   "metadata": {
    "colab": {},
    "colab_type": "code",
    "id": "BK1_9wP9g5uM"
   },
   "outputs": [],
   "source": [
    "import io\n",
    "dfTest = pd.read_excel(io.BytesIO(uploaded1['Data_Test.xlsx'])) #Loading and viewing the test dataset\n",
    "dfTrain = pd.read_excel(io.BytesIO(uploaded['Data_Train.xlsx'])) #Loading and viewing the train dataset"
   ]
  },
  {
   "cell_type": "code",
   "execution_count": 11,
   "metadata": {
    "colab": {
     "base_uri": "https://localhost:8080/",
     "height": 272
    },
    "colab_type": "code",
    "id": "jVw0br2wh6TR",
    "outputId": "b91d2b4f-73d8-4209-9f85-61cac465ce1e"
   },
   "outputs": [
    {
     "name": "stdout",
     "output_type": "stream",
     "text": [
      "                                        Name    Location  ...  Seats        Price\n",
      "0                    Maruti Alto K10 LXI CNG       Delhi  ...    4.0  100000000.0\n",
      "1              Maruti Alto 800 2016-2019 LXI  Coimbatore  ...    5.0  100000000.0\n",
      "2  Toyota Innova Crysta Touring Sport 2.4 MT      Mumbai  ...    7.0  100000000.0\n",
      "3                       Toyota Etios Liva GD   Hyderabad  ...    5.0  100000000.0\n",
      "4                          Hyundai i20 Magna      Mumbai  ...    5.0  100000000.0\n",
      "\n",
      "[5 rows x 12 columns]                                Name    Location  Year  ...      Power Seats  Price\n",
      "0            Maruti Wagon R LXI CNG      Mumbai  2010  ...  58.16 bhp   5.0   1.75\n",
      "1  Hyundai Creta 1.6 CRDi SX Option        Pune  2015  ...  126.2 bhp   5.0  12.50\n",
      "2                      Honda Jazz V     Chennai  2011  ...   88.7 bhp   5.0   4.50\n",
      "3                 Maruti Ertiga VDI     Chennai  2012  ...  88.76 bhp   7.0   6.00\n",
      "4   Audi A4 New 2.0 TDI Multitronic  Coimbatore  2013  ...  140.8 bhp   5.0  17.74\n",
      "\n",
      "[5 rows x 12 columns]\n"
     ]
    }
   ],
   "source": [
    "dfTest.dropna(inplace = True)\n",
    "dfTrain.dropna(inplace = True)\n",
    "dfTest['Price'] = 1e8\n",
    "print(dfTest.head(), dfTrain.head())"
   ]
  },
  {
   "cell_type": "code",
   "execution_count": 27,
   "metadata": {
    "colab": {
     "base_uri": "https://localhost:8080/",
     "height": 34
    },
    "colab_type": "code",
    "id": "i1ruWGsjg64C",
    "outputId": "f67d27ca-e4a5-4f1e-f163-81c24de847a2"
   },
   "outputs": [
    {
     "data": {
      "text/plain": [
       "(7198, 12)"
      ]
     },
     "execution_count": 27,
     "metadata": {
      "tags": []
     },
     "output_type": "execute_result"
    }
   ],
   "source": [
    "frames = [dfTrain, dfTest]\n",
    "dfCombined = pd.concat(frames)\n",
    "dfCombined.reset_index(drop = True, inplace = True)\n",
    "dfCombined.shape"
   ]
  },
  {
   "cell_type": "code",
   "execution_count": 28,
   "metadata": {
    "colab": {
     "base_uri": "https://localhost:8080/",
     "height": 289
    },
    "colab_type": "code",
    "id": "E66yUx8mjWuu",
    "outputId": "32e82baf-299d-476a-b02f-58b6f802cb2b"
   },
   "outputs": [
    {
     "name": "stdout",
     "output_type": "stream",
     "text": [
      "                               Name    Location  Year  ...      Power Seats  Price\n",
      "0            Maruti Wagon R LXI CNG      Mumbai  2010  ...  58.16 bhp   5.0   1.75\n",
      "1  Hyundai Creta 1.6 CRDi SX Option        Pune  2015  ...  126.2 bhp   5.0  12.50\n",
      "2                      Honda Jazz V     Chennai  2011  ...   88.7 bhp   5.0   4.50\n",
      "3                 Maruti Ertiga VDI     Chennai  2012  ...  88.76 bhp   7.0   6.00\n",
      "4   Audi A4 New 2.0 TDI Multitronic  Coimbatore  2013  ...  140.8 bhp   5.0  17.74\n",
      "\n",
      "[5 rows x 12 columns]\n",
      "                                                   Name  ...        Price\n",
      "7193                  Volkswagen Vento Diesel Trendline  ...  100000000.0\n",
      "7194                             Volkswagen Polo GT TSI  ...  100000000.0\n",
      "7195                             Nissan Micra Diesel XV  ...  100000000.0\n",
      "7196                             Volkswagen Polo GT TSI  ...  100000000.0\n",
      "7197  Mercedes-Benz E-Class 2009-2013 E 220 CDI Avan...  ...  100000000.0\n",
      "\n",
      "[5 rows x 12 columns]\n"
     ]
    }
   ],
   "source": [
    "print(dfCombined.head())\n",
    "print(dfCombined.tail())"
   ]
  },
  {
   "cell_type": "code",
   "execution_count": 0,
   "metadata": {
    "colab": {},
    "colab_type": "code",
    "id": "8lspFtfah46C"
   },
   "outputs": [],
   "source": [
    "dfCombined['Mileage'] = dfCombined['Mileage'].apply(lambda x: float(list(x.split(' '))[0]))\n",
    "dfCombined['Engine'] = dfCombined['Engine'].apply(lambda x: float(list(x.split(' '))[0]))  #Cleaning the data a little bit\n",
    "dfCombined['Power'] = dfCombined['Power'].apply(lambda x: list(x.split(' '))[0]) #from experience, power has a 'null' string entry\n",
    "lisNull = [index for index, element in enumerate(dfCombined['Power']) if element == 'null']\n",
    "dfCombined.drop(lisNull, inplace = True)\n",
    "dfCombined['Power'] = dfCombined['Power'].astype('float64')"
   ]
  },
  {
   "cell_type": "code",
   "execution_count": 30,
   "metadata": {
    "colab": {
     "base_uri": "https://localhost:8080/",
     "height": 34
    },
    "colab_type": "code",
    "id": "THJ4wvXNh4AG",
    "outputId": "52e97e02-d290-4c01-b728-76c2d3cda042"
   },
   "outputs": [
    {
     "data": {
      "text/plain": [
       "(7073, 12)"
      ]
     },
     "execution_count": 30,
     "metadata": {
      "tags": []
     },
     "output_type": "execute_result"
    }
   ],
   "source": [
    "dfCombined.head()\n",
    "dfCombined.shape"
   ]
  },
  {
   "cell_type": "code",
   "execution_count": 31,
   "metadata": {
    "colab": {
     "base_uri": "https://localhost:8080/",
     "height": 224
    },
    "colab_type": "code",
    "id": "jExn7NOHg69n",
    "outputId": "5654d265-dfab-4512-93d0-30ae417d28e2"
   },
   "outputs": [
    {
     "data": {
      "text/html": [
       "<div>\n",
       "<style scoped>\n",
       "    .dataframe tbody tr th:only-of-type {\n",
       "        vertical-align: middle;\n",
       "    }\n",
       "\n",
       "    .dataframe tbody tr th {\n",
       "        vertical-align: top;\n",
       "    }\n",
       "\n",
       "    .dataframe thead th {\n",
       "        text-align: right;\n",
       "    }\n",
       "</style>\n",
       "<table border=\"1\" class=\"dataframe\">\n",
       "  <thead>\n",
       "    <tr style=\"text-align: right;\">\n",
       "      <th></th>\n",
       "      <th>Location</th>\n",
       "      <th>Year</th>\n",
       "      <th>Kilometers_Driven</th>\n",
       "      <th>Fuel_Type</th>\n",
       "      <th>Transmission</th>\n",
       "      <th>Owner_Type</th>\n",
       "      <th>Mileage</th>\n",
       "      <th>Engine</th>\n",
       "      <th>Power</th>\n",
       "      <th>Seats</th>\n",
       "      <th>Price</th>\n",
       "      <th>0</th>\n",
       "      <th>1</th>\n",
       "      <th>2</th>\n",
       "      <th>3</th>\n",
       "      <th>4</th>\n",
       "    </tr>\n",
       "  </thead>\n",
       "  <tbody>\n",
       "    <tr>\n",
       "      <th>0</th>\n",
       "      <td>Mumbai</td>\n",
       "      <td>2010.0</td>\n",
       "      <td>72000.0</td>\n",
       "      <td>CNG</td>\n",
       "      <td>Manual</td>\n",
       "      <td>First</td>\n",
       "      <td>26.60</td>\n",
       "      <td>998.0</td>\n",
       "      <td>58.16</td>\n",
       "      <td>5.0</td>\n",
       "      <td>1.75</td>\n",
       "      <td>0.032974</td>\n",
       "      <td>0.360398</td>\n",
       "      <td>-0.008919</td>\n",
       "      <td>0.006582</td>\n",
       "      <td>-0.021047</td>\n",
       "    </tr>\n",
       "    <tr>\n",
       "      <th>1</th>\n",
       "      <td>Pune</td>\n",
       "      <td>2015.0</td>\n",
       "      <td>41000.0</td>\n",
       "      <td>Diesel</td>\n",
       "      <td>Manual</td>\n",
       "      <td>First</td>\n",
       "      <td>19.67</td>\n",
       "      <td>1582.0</td>\n",
       "      <td>126.20</td>\n",
       "      <td>5.0</td>\n",
       "      <td>12.50</td>\n",
       "      <td>0.483737</td>\n",
       "      <td>-0.039499</td>\n",
       "      <td>-0.000391</td>\n",
       "      <td>0.029244</td>\n",
       "      <td>0.062713</td>\n",
       "    </tr>\n",
       "    <tr>\n",
       "      <th>2</th>\n",
       "      <td>Chennai</td>\n",
       "      <td>2011.0</td>\n",
       "      <td>46000.0</td>\n",
       "      <td>Petrol</td>\n",
       "      <td>Manual</td>\n",
       "      <td>First</td>\n",
       "      <td>18.20</td>\n",
       "      <td>1199.0</td>\n",
       "      <td>88.70</td>\n",
       "      <td>5.0</td>\n",
       "      <td>4.50</td>\n",
       "      <td>0.018396</td>\n",
       "      <td>0.006070</td>\n",
       "      <td>0.395627</td>\n",
       "      <td>-0.058941</td>\n",
       "      <td>0.019167</td>\n",
       "    </tr>\n",
       "    <tr>\n",
       "      <th>3</th>\n",
       "      <td>Chennai</td>\n",
       "      <td>2012.0</td>\n",
       "      <td>87000.0</td>\n",
       "      <td>Diesel</td>\n",
       "      <td>Manual</td>\n",
       "      <td>First</td>\n",
       "      <td>20.77</td>\n",
       "      <td>1248.0</td>\n",
       "      <td>88.76</td>\n",
       "      <td>7.0</td>\n",
       "      <td>6.00</td>\n",
       "      <td>0.042067</td>\n",
       "      <td>0.476564</td>\n",
       "      <td>-0.015554</td>\n",
       "      <td>-0.018619</td>\n",
       "      <td>0.006441</td>\n",
       "    </tr>\n",
       "    <tr>\n",
       "      <th>4</th>\n",
       "      <td>Coimbatore</td>\n",
       "      <td>2013.0</td>\n",
       "      <td>40670.0</td>\n",
       "      <td>Diesel</td>\n",
       "      <td>Automatic</td>\n",
       "      <td>Second</td>\n",
       "      <td>15.20</td>\n",
       "      <td>1968.0</td>\n",
       "      <td>140.80</td>\n",
       "      <td>5.0</td>\n",
       "      <td>17.74</td>\n",
       "      <td>0.006327</td>\n",
       "      <td>0.002710</td>\n",
       "      <td>0.010114</td>\n",
       "      <td>0.114445</td>\n",
       "      <td>0.211779</td>\n",
       "    </tr>\n",
       "  </tbody>\n",
       "</table>\n",
       "</div>"
      ],
      "text/plain": [
       "     Location    Year  Kilometers_Driven  ...         2         3         4\n",
       "0      Mumbai  2010.0            72000.0  ... -0.008919  0.006582 -0.021047\n",
       "1        Pune  2015.0            41000.0  ... -0.000391  0.029244  0.062713\n",
       "2     Chennai  2011.0            46000.0  ...  0.395627 -0.058941  0.019167\n",
       "3     Chennai  2012.0            87000.0  ... -0.015554 -0.018619  0.006441\n",
       "4  Coimbatore  2013.0            40670.0  ...  0.010114  0.114445  0.211779\n",
       "\n",
       "[5 rows x 16 columns]"
      ]
     },
     "execution_count": 31,
     "metadata": {
      "tags": []
     },
     "output_type": "execute_result"
    }
   ],
   "source": [
    "#Vectorising the text data, lemmatisation and other advanced text normalisation wasn't done because of obvious reasons\n",
    "\n",
    "textData = dfCombined['Name']\n",
    "from sklearn.feature_extraction.text import TfidfVectorizer\n",
    "vectoriser = TfidfVectorizer()\n",
    "textData = vectoriser.fit_transform(textData)\n",
    "\n",
    "from sklearn.decomposition import TruncatedSVD\n",
    "\n",
    "svDec = TruncatedSVD(n_components=5, n_iter=10)\n",
    "\n",
    "textDataTransformed = svDec.fit_transform(textData)\n",
    "textDataTransformed.shape\n",
    "\n",
    "dfCombined.drop(['Name'], axis = 1, inplace = True)\n",
    "\n",
    "dfCombined = pd.concat([dfCombined, pd.DataFrame(textDataTransformed)], axis = 1)\n",
    "dfCombined.head()"
   ]
  },
  {
   "cell_type": "code",
   "execution_count": 0,
   "metadata": {
    "colab": {},
    "colab_type": "code",
    "id": "4yhnQKisg7C4"
   },
   "outputs": [],
   "source": [
    "mEnc = pd.get_dummies(dfCombined, columns = ['Location', 'Fuel_Type', 'Transmission', 'Owner_Type'])"
   ]
  },
  {
   "cell_type": "code",
   "execution_count": 33,
   "metadata": {
    "colab": {
     "base_uri": "https://localhost:8080/",
     "height": 241
    },
    "colab_type": "code",
    "id": "aHDfaZcmg7IW",
    "outputId": "dbfc04d9-03ee-40c2-934a-1d2669f5250e"
   },
   "outputs": [
    {
     "data": {
      "text/html": [
       "<div>\n",
       "<style scoped>\n",
       "    .dataframe tbody tr th:only-of-type {\n",
       "        vertical-align: middle;\n",
       "    }\n",
       "\n",
       "    .dataframe tbody tr th {\n",
       "        vertical-align: top;\n",
       "    }\n",
       "\n",
       "    .dataframe thead th {\n",
       "        text-align: right;\n",
       "    }\n",
       "</style>\n",
       "<table border=\"1\" class=\"dataframe\">\n",
       "  <thead>\n",
       "    <tr style=\"text-align: right;\">\n",
       "      <th></th>\n",
       "      <th>Year</th>\n",
       "      <th>Kilometers_Driven</th>\n",
       "      <th>Mileage</th>\n",
       "      <th>Engine</th>\n",
       "      <th>Power</th>\n",
       "      <th>Seats</th>\n",
       "      <th>Price</th>\n",
       "      <th>0</th>\n",
       "      <th>1</th>\n",
       "      <th>2</th>\n",
       "      <th>3</th>\n",
       "      <th>4</th>\n",
       "      <th>Location_Ahmedabad</th>\n",
       "      <th>Location_Bangalore</th>\n",
       "      <th>Location_Chennai</th>\n",
       "      <th>Location_Coimbatore</th>\n",
       "      <th>Location_Delhi</th>\n",
       "      <th>Location_Hyderabad</th>\n",
       "      <th>Location_Jaipur</th>\n",
       "      <th>Location_Kochi</th>\n",
       "      <th>Location_Kolkata</th>\n",
       "      <th>Location_Mumbai</th>\n",
       "      <th>Location_Pune</th>\n",
       "      <th>Fuel_Type_CNG</th>\n",
       "      <th>Fuel_Type_Diesel</th>\n",
       "      <th>Fuel_Type_LPG</th>\n",
       "      <th>Fuel_Type_Petrol</th>\n",
       "      <th>Transmission_Automatic</th>\n",
       "      <th>Transmission_Manual</th>\n",
       "      <th>Owner_Type_First</th>\n",
       "      <th>Owner_Type_Fourth &amp; Above</th>\n",
       "      <th>Owner_Type_Second</th>\n",
       "      <th>Owner_Type_Third</th>\n",
       "    </tr>\n",
       "  </thead>\n",
       "  <tbody>\n",
       "    <tr>\n",
       "      <th>0</th>\n",
       "      <td>2010.0</td>\n",
       "      <td>72000.0</td>\n",
       "      <td>26.60</td>\n",
       "      <td>998.0</td>\n",
       "      <td>58.16</td>\n",
       "      <td>5.0</td>\n",
       "      <td>1.75</td>\n",
       "      <td>0.032974</td>\n",
       "      <td>0.360398</td>\n",
       "      <td>-0.008919</td>\n",
       "      <td>0.006582</td>\n",
       "      <td>-0.021047</td>\n",
       "      <td>0</td>\n",
       "      <td>0</td>\n",
       "      <td>0</td>\n",
       "      <td>0</td>\n",
       "      <td>0</td>\n",
       "      <td>0</td>\n",
       "      <td>0</td>\n",
       "      <td>0</td>\n",
       "      <td>0</td>\n",
       "      <td>1</td>\n",
       "      <td>0</td>\n",
       "      <td>1</td>\n",
       "      <td>0</td>\n",
       "      <td>0</td>\n",
       "      <td>0</td>\n",
       "      <td>0</td>\n",
       "      <td>1</td>\n",
       "      <td>1</td>\n",
       "      <td>0</td>\n",
       "      <td>0</td>\n",
       "      <td>0</td>\n",
       "    </tr>\n",
       "    <tr>\n",
       "      <th>1</th>\n",
       "      <td>2015.0</td>\n",
       "      <td>41000.0</td>\n",
       "      <td>19.67</td>\n",
       "      <td>1582.0</td>\n",
       "      <td>126.20</td>\n",
       "      <td>5.0</td>\n",
       "      <td>12.50</td>\n",
       "      <td>0.483737</td>\n",
       "      <td>-0.039499</td>\n",
       "      <td>-0.000391</td>\n",
       "      <td>0.029244</td>\n",
       "      <td>0.062713</td>\n",
       "      <td>0</td>\n",
       "      <td>0</td>\n",
       "      <td>0</td>\n",
       "      <td>0</td>\n",
       "      <td>0</td>\n",
       "      <td>0</td>\n",
       "      <td>0</td>\n",
       "      <td>0</td>\n",
       "      <td>0</td>\n",
       "      <td>0</td>\n",
       "      <td>1</td>\n",
       "      <td>0</td>\n",
       "      <td>1</td>\n",
       "      <td>0</td>\n",
       "      <td>0</td>\n",
       "      <td>0</td>\n",
       "      <td>1</td>\n",
       "      <td>1</td>\n",
       "      <td>0</td>\n",
       "      <td>0</td>\n",
       "      <td>0</td>\n",
       "    </tr>\n",
       "    <tr>\n",
       "      <th>2</th>\n",
       "      <td>2011.0</td>\n",
       "      <td>46000.0</td>\n",
       "      <td>18.20</td>\n",
       "      <td>1199.0</td>\n",
       "      <td>88.70</td>\n",
       "      <td>5.0</td>\n",
       "      <td>4.50</td>\n",
       "      <td>0.018396</td>\n",
       "      <td>0.006070</td>\n",
       "      <td>0.395627</td>\n",
       "      <td>-0.058941</td>\n",
       "      <td>0.019167</td>\n",
       "      <td>0</td>\n",
       "      <td>0</td>\n",
       "      <td>1</td>\n",
       "      <td>0</td>\n",
       "      <td>0</td>\n",
       "      <td>0</td>\n",
       "      <td>0</td>\n",
       "      <td>0</td>\n",
       "      <td>0</td>\n",
       "      <td>0</td>\n",
       "      <td>0</td>\n",
       "      <td>0</td>\n",
       "      <td>0</td>\n",
       "      <td>0</td>\n",
       "      <td>1</td>\n",
       "      <td>0</td>\n",
       "      <td>1</td>\n",
       "      <td>1</td>\n",
       "      <td>0</td>\n",
       "      <td>0</td>\n",
       "      <td>0</td>\n",
       "    </tr>\n",
       "    <tr>\n",
       "      <th>3</th>\n",
       "      <td>2012.0</td>\n",
       "      <td>87000.0</td>\n",
       "      <td>20.77</td>\n",
       "      <td>1248.0</td>\n",
       "      <td>88.76</td>\n",
       "      <td>7.0</td>\n",
       "      <td>6.00</td>\n",
       "      <td>0.042067</td>\n",
       "      <td>0.476564</td>\n",
       "      <td>-0.015554</td>\n",
       "      <td>-0.018619</td>\n",
       "      <td>0.006441</td>\n",
       "      <td>0</td>\n",
       "      <td>0</td>\n",
       "      <td>1</td>\n",
       "      <td>0</td>\n",
       "      <td>0</td>\n",
       "      <td>0</td>\n",
       "      <td>0</td>\n",
       "      <td>0</td>\n",
       "      <td>0</td>\n",
       "      <td>0</td>\n",
       "      <td>0</td>\n",
       "      <td>0</td>\n",
       "      <td>1</td>\n",
       "      <td>0</td>\n",
       "      <td>0</td>\n",
       "      <td>0</td>\n",
       "      <td>1</td>\n",
       "      <td>1</td>\n",
       "      <td>0</td>\n",
       "      <td>0</td>\n",
       "      <td>0</td>\n",
       "    </tr>\n",
       "    <tr>\n",
       "      <th>4</th>\n",
       "      <td>2013.0</td>\n",
       "      <td>40670.0</td>\n",
       "      <td>15.20</td>\n",
       "      <td>1968.0</td>\n",
       "      <td>140.80</td>\n",
       "      <td>5.0</td>\n",
       "      <td>17.74</td>\n",
       "      <td>0.006327</td>\n",
       "      <td>0.002710</td>\n",
       "      <td>0.010114</td>\n",
       "      <td>0.114445</td>\n",
       "      <td>0.211779</td>\n",
       "      <td>0</td>\n",
       "      <td>0</td>\n",
       "      <td>0</td>\n",
       "      <td>1</td>\n",
       "      <td>0</td>\n",
       "      <td>0</td>\n",
       "      <td>0</td>\n",
       "      <td>0</td>\n",
       "      <td>0</td>\n",
       "      <td>0</td>\n",
       "      <td>0</td>\n",
       "      <td>0</td>\n",
       "      <td>1</td>\n",
       "      <td>0</td>\n",
       "      <td>0</td>\n",
       "      <td>1</td>\n",
       "      <td>0</td>\n",
       "      <td>0</td>\n",
       "      <td>0</td>\n",
       "      <td>1</td>\n",
       "      <td>0</td>\n",
       "    </tr>\n",
       "  </tbody>\n",
       "</table>\n",
       "</div>"
      ],
      "text/plain": [
       "     Year  Kilometers_Driven  ...  Owner_Type_Second  Owner_Type_Third\n",
       "0  2010.0            72000.0  ...                  0                 0\n",
       "1  2015.0            41000.0  ...                  0                 0\n",
       "2  2011.0            46000.0  ...                  0                 0\n",
       "3  2012.0            87000.0  ...                  0                 0\n",
       "4  2013.0            40670.0  ...                  1                 0\n",
       "\n",
       "[5 rows x 33 columns]"
      ]
     },
     "execution_count": 33,
     "metadata": {
      "tags": []
     },
     "output_type": "execute_result"
    }
   ],
   "source": [
    "mEnc.head()"
   ]
  },
  {
   "cell_type": "code",
   "execution_count": 37,
   "metadata": {
    "colab": {
     "base_uri": "https://localhost:8080/",
     "height": 34
    },
    "colab_type": "code",
    "id": "QJ2mCtOtg7NX",
    "outputId": "1fa71ed3-425e-42a7-cfa1-e538074b27f9"
   },
   "outputs": [
    {
     "data": {
      "text/plain": [
       "(7197, 33)"
      ]
     },
     "execution_count": 37,
     "metadata": {
      "tags": []
     },
     "output_type": "execute_result"
    }
   ],
   "source": [
    "mEnc.shape"
   ]
  },
  {
   "cell_type": "code",
   "execution_count": 0,
   "metadata": {
    "colab": {},
    "colab_type": "code",
    "id": "FGB3J4mAoAdH"
   },
   "outputs": [],
   "source": [
    "mEnc.dropna(inplace = True)\n",
    "mEnc.reset_index(drop = True, inplace = True)"
   ]
  },
  {
   "cell_type": "code",
   "execution_count": 43,
   "metadata": {
    "colab": {
     "base_uri": "https://localhost:8080/",
     "height": 1000
    },
    "colab_type": "code",
    "id": "3bDJgCNtg7T_",
    "outputId": "d44add08-8325-4774-b831-5252032eaa9c"
   },
   "outputs": [
    {
     "name": "stdout",
     "output_type": "stream",
     "text": [
      "<class 'pandas.core.frame.DataFrame'>\n",
      "Int64Index: 6941 entries, 0 to 6948\n",
      "Data columns (total 33 columns):\n",
      " #   Column                     Non-Null Count  Dtype  \n",
      "---  ------                     --------------  -----  \n",
      " 0   Year                       6941 non-null   float64\n",
      " 1   Kilometers_Driven          6941 non-null   float64\n",
      " 2   Mileage                    6941 non-null   float64\n",
      " 3   Engine                     6941 non-null   float64\n",
      " 4   Power                      6941 non-null   float64\n",
      " 5   Seats                      6941 non-null   float64\n",
      " 6   Price                      6941 non-null   float64\n",
      " 7   0                          6941 non-null   float64\n",
      " 8   1                          6941 non-null   float64\n",
      " 9   2                          6941 non-null   float64\n",
      " 10  3                          6941 non-null   float64\n",
      " 11  4                          6941 non-null   float64\n",
      " 12  Location_Ahmedabad         6941 non-null   uint8  \n",
      " 13  Location_Bangalore         6941 non-null   uint8  \n",
      " 14  Location_Chennai           6941 non-null   uint8  \n",
      " 15  Location_Coimbatore        6941 non-null   uint8  \n",
      " 16  Location_Delhi             6941 non-null   uint8  \n",
      " 17  Location_Hyderabad         6941 non-null   uint8  \n",
      " 18  Location_Jaipur            6941 non-null   uint8  \n",
      " 19  Location_Kochi             6941 non-null   uint8  \n",
      " 20  Location_Kolkata           6941 non-null   uint8  \n",
      " 21  Location_Mumbai            6941 non-null   uint8  \n",
      " 22  Location_Pune              6941 non-null   uint8  \n",
      " 23  Fuel_Type_CNG              6941 non-null   uint8  \n",
      " 24  Fuel_Type_Diesel           6941 non-null   uint8  \n",
      " 25  Fuel_Type_LPG              6941 non-null   uint8  \n",
      " 26  Fuel_Type_Petrol           6941 non-null   uint8  \n",
      " 27  Transmission_Automatic     6941 non-null   uint8  \n",
      " 28  Transmission_Manual        6941 non-null   uint8  \n",
      " 29  Owner_Type_First           6941 non-null   uint8  \n",
      " 30  Owner_Type_Fourth & Above  6941 non-null   uint8  \n",
      " 31  Owner_Type_Second          6941 non-null   uint8  \n",
      " 32  Owner_Type_Third           6941 non-null   uint8  \n",
      "dtypes: float64(12), uint8(21)\n",
      "memory usage: 847.3 KB\n",
      "(1052, 33) (5690, 33)\n",
      "<class 'pandas.core.frame.DataFrame'>\n",
      "RangeIndex: 6616 entries, 0 to 6615\n",
      "Data columns (total 33 columns):\n",
      " #   Column                     Non-Null Count  Dtype  \n",
      "---  ------                     --------------  -----  \n",
      " 0   Year                       6616 non-null   float64\n",
      " 1   Kilometers_Driven          6616 non-null   float64\n",
      " 2   Mileage                    6616 non-null   float64\n",
      " 3   Engine                     6616 non-null   float64\n",
      " 4   Power                      6616 non-null   float64\n",
      " 5   Seats                      6616 non-null   float64\n",
      " 6   Price                      6616 non-null   float64\n",
      " 7   0                          6616 non-null   float64\n",
      " 8   1                          6616 non-null   float64\n",
      " 9   2                          6616 non-null   float64\n",
      " 10  3                          6616 non-null   float64\n",
      " 11  4                          6616 non-null   float64\n",
      " 12  Location_Ahmedabad         6616 non-null   uint8  \n",
      " 13  Location_Bangalore         6616 non-null   uint8  \n",
      " 14  Location_Chennai           6616 non-null   uint8  \n",
      " 15  Location_Coimbatore        6616 non-null   uint8  \n",
      " 16  Location_Delhi             6616 non-null   uint8  \n",
      " 17  Location_Hyderabad         6616 non-null   uint8  \n",
      " 18  Location_Jaipur            6616 non-null   uint8  \n",
      " 19  Location_Kochi             6616 non-null   uint8  \n",
      " 20  Location_Kolkata           6616 non-null   uint8  \n",
      " 21  Location_Mumbai            6616 non-null   uint8  \n",
      " 22  Location_Pune              6616 non-null   uint8  \n",
      " 23  Fuel_Type_CNG              6616 non-null   uint8  \n",
      " 24  Fuel_Type_Diesel           6616 non-null   uint8  \n",
      " 25  Fuel_Type_LPG              6616 non-null   uint8  \n",
      " 26  Fuel_Type_Petrol           6616 non-null   uint8  \n",
      " 27  Transmission_Automatic     6616 non-null   uint8  \n",
      " 28  Transmission_Manual        6616 non-null   uint8  \n",
      " 29  Owner_Type_First           6616 non-null   uint8  \n",
      " 30  Owner_Type_Fourth & Above  6616 non-null   uint8  \n",
      " 31  Owner_Type_Second          6616 non-null   uint8  \n",
      " 32  Owner_Type_Third           6616 non-null   uint8  \n",
      "dtypes: float64(12), uint8(21)\n",
      "memory usage: 756.1 KB\n"
     ]
    },
    {
     "data": {
      "text/html": [
       "<div>\n",
       "<style scoped>\n",
       "    .dataframe tbody tr th:only-of-type {\n",
       "        vertical-align: middle;\n",
       "    }\n",
       "\n",
       "    .dataframe tbody tr th {\n",
       "        vertical-align: top;\n",
       "    }\n",
       "\n",
       "    .dataframe thead th {\n",
       "        text-align: right;\n",
       "    }\n",
       "</style>\n",
       "<table border=\"1\" class=\"dataframe\">\n",
       "  <thead>\n",
       "    <tr style=\"text-align: right;\">\n",
       "      <th></th>\n",
       "      <th>Year</th>\n",
       "      <th>Kilometers_Driven</th>\n",
       "      <th>Mileage</th>\n",
       "      <th>Engine</th>\n",
       "      <th>Power</th>\n",
       "      <th>Seats</th>\n",
       "      <th>0</th>\n",
       "      <th>1</th>\n",
       "      <th>2</th>\n",
       "      <th>3</th>\n",
       "      <th>4</th>\n",
       "      <th>Location_Ahmedabad</th>\n",
       "      <th>Location_Bangalore</th>\n",
       "      <th>Location_Chennai</th>\n",
       "      <th>Location_Coimbatore</th>\n",
       "      <th>Location_Delhi</th>\n",
       "      <th>Location_Hyderabad</th>\n",
       "      <th>Location_Jaipur</th>\n",
       "      <th>Location_Kochi</th>\n",
       "      <th>Location_Kolkata</th>\n",
       "      <th>Location_Mumbai</th>\n",
       "      <th>Location_Pune</th>\n",
       "      <th>Fuel_Type_CNG</th>\n",
       "      <th>Fuel_Type_Diesel</th>\n",
       "      <th>Fuel_Type_LPG</th>\n",
       "      <th>Fuel_Type_Petrol</th>\n",
       "      <th>Transmission_Automatic</th>\n",
       "      <th>Transmission_Manual</th>\n",
       "      <th>Owner_Type_First</th>\n",
       "      <th>Owner_Type_Fourth &amp; Above</th>\n",
       "      <th>Owner_Type_Second</th>\n",
       "      <th>Owner_Type_Third</th>\n",
       "      <th>Price</th>\n",
       "    </tr>\n",
       "  </thead>\n",
       "  <tbody>\n",
       "    <tr>\n",
       "      <th>0</th>\n",
       "      <td>-0.136709</td>\n",
       "      <td>-0.093197</td>\n",
       "      <td>1.525683</td>\n",
       "      <td>-1.489205</td>\n",
       "      <td>-1.410520</td>\n",
       "      <td>-0.372011</td>\n",
       "      <td>-0.424614</td>\n",
       "      <td>-0.379656</td>\n",
       "      <td>2.916587</td>\n",
       "      <td>-1.103199</td>\n",
       "      <td>0.109309</td>\n",
       "      <td>-0.203464</td>\n",
       "      <td>-0.246508</td>\n",
       "      <td>-0.298719</td>\n",
       "      <td>2.974095</td>\n",
       "      <td>-0.317252</td>\n",
       "      <td>-0.370352</td>\n",
       "      <td>-0.276853</td>\n",
       "      <td>-0.345079</td>\n",
       "      <td>-0.316674</td>\n",
       "      <td>-0.390914</td>\n",
       "      <td>-0.344531</td>\n",
       "      <td>-0.082754</td>\n",
       "      <td>-1.051825</td>\n",
       "      <td>-0.042627</td>\n",
       "      <td>1.070171</td>\n",
       "      <td>-0.583866</td>\n",
       "      <td>0.583866</td>\n",
       "      <td>-2.158596</td>\n",
       "      <td>-0.036908</td>\n",
       "      <td>2.314180</td>\n",
       "      <td>-0.135337</td>\n",
       "      <td>100000000.0</td>\n",
       "    </tr>\n",
       "    <tr>\n",
       "      <th>1</th>\n",
       "      <td>1.134503</td>\n",
       "      <td>-0.698360</td>\n",
       "      <td>-1.189595</td>\n",
       "      <td>1.600497</td>\n",
       "      <td>0.980964</td>\n",
       "      <td>2.135603</td>\n",
       "      <td>0.032790</td>\n",
       "      <td>-0.434952</td>\n",
       "      <td>1.944849</td>\n",
       "      <td>-0.727607</td>\n",
       "      <td>0.284909</td>\n",
       "      <td>-0.203464</td>\n",
       "      <td>-0.246508</td>\n",
       "      <td>-0.298719</td>\n",
       "      <td>-0.336237</td>\n",
       "      <td>-0.317252</td>\n",
       "      <td>-0.370352</td>\n",
       "      <td>-0.276853</td>\n",
       "      <td>-0.345079</td>\n",
       "      <td>-0.316674</td>\n",
       "      <td>2.558105</td>\n",
       "      <td>-0.344531</td>\n",
       "      <td>-0.082754</td>\n",
       "      <td>0.950729</td>\n",
       "      <td>-0.042627</td>\n",
       "      <td>-0.934430</td>\n",
       "      <td>-0.583866</td>\n",
       "      <td>0.583866</td>\n",
       "      <td>0.463264</td>\n",
       "      <td>-0.036908</td>\n",
       "      <td>-0.432119</td>\n",
       "      <td>-0.135337</td>\n",
       "      <td>100000000.0</td>\n",
       "    </tr>\n",
       "    <tr>\n",
       "      <th>2</th>\n",
       "      <td>0.181094</td>\n",
       "      <td>-0.846012</td>\n",
       "      <td>-0.001969</td>\n",
       "      <td>-0.713394</td>\n",
       "      <td>-0.564577</td>\n",
       "      <td>-0.372011</td>\n",
       "      <td>-0.531676</td>\n",
       "      <td>-0.424485</td>\n",
       "      <td>-0.341221</td>\n",
       "      <td>-0.300156</td>\n",
       "      <td>0.158203</td>\n",
       "      <td>-0.203464</td>\n",
       "      <td>-0.246508</td>\n",
       "      <td>-0.298719</td>\n",
       "      <td>-0.336237</td>\n",
       "      <td>-0.317252</td>\n",
       "      <td>-0.370352</td>\n",
       "      <td>-0.276853</td>\n",
       "      <td>-0.345079</td>\n",
       "      <td>-0.316674</td>\n",
       "      <td>2.558105</td>\n",
       "      <td>-0.344531</td>\n",
       "      <td>-0.082754</td>\n",
       "      <td>-1.051825</td>\n",
       "      <td>-0.042627</td>\n",
       "      <td>1.070171</td>\n",
       "      <td>-0.583866</td>\n",
       "      <td>0.583866</td>\n",
       "      <td>0.463264</td>\n",
       "      <td>-0.036908</td>\n",
       "      <td>-0.432119</td>\n",
       "      <td>-0.135337</td>\n",
       "      <td>100000000.0</td>\n",
       "    </tr>\n",
       "    <tr>\n",
       "      <th>3</th>\n",
       "      <td>0.816700</td>\n",
       "      <td>0.825667</td>\n",
       "      <td>-0.617958</td>\n",
       "      <td>1.186473</td>\n",
       "      <td>0.795356</td>\n",
       "      <td>2.135603</td>\n",
       "      <td>-0.409555</td>\n",
       "      <td>-0.355374</td>\n",
       "      <td>2.977251</td>\n",
       "      <td>-0.830703</td>\n",
       "      <td>-0.091481</td>\n",
       "      <td>-0.203464</td>\n",
       "      <td>-0.246508</td>\n",
       "      <td>-0.298719</td>\n",
       "      <td>2.974095</td>\n",
       "      <td>-0.317252</td>\n",
       "      <td>-0.370352</td>\n",
       "      <td>-0.276853</td>\n",
       "      <td>-0.345079</td>\n",
       "      <td>-0.316674</td>\n",
       "      <td>-0.390914</td>\n",
       "      <td>-0.344531</td>\n",
       "      <td>-0.082754</td>\n",
       "      <td>0.950729</td>\n",
       "      <td>-0.042627</td>\n",
       "      <td>-0.934430</td>\n",
       "      <td>-0.583866</td>\n",
       "      <td>0.583866</td>\n",
       "      <td>-2.158596</td>\n",
       "      <td>-0.036908</td>\n",
       "      <td>2.314180</td>\n",
       "      <td>-0.135337</td>\n",
       "      <td>100000000.0</td>\n",
       "    </tr>\n",
       "    <tr>\n",
       "      <th>4</th>\n",
       "      <td>0.498897</td>\n",
       "      <td>0.039896</td>\n",
       "      <td>-1.468022</td>\n",
       "      <td>2.740030</td>\n",
       "      <td>1.478298</td>\n",
       "      <td>2.135603</td>\n",
       "      <td>-0.535485</td>\n",
       "      <td>-0.416006</td>\n",
       "      <td>-0.304514</td>\n",
       "      <td>-0.145867</td>\n",
       "      <td>0.887705</td>\n",
       "      <td>-0.203464</td>\n",
       "      <td>-0.246508</td>\n",
       "      <td>-0.298719</td>\n",
       "      <td>-0.336237</td>\n",
       "      <td>-0.317252</td>\n",
       "      <td>-0.370352</td>\n",
       "      <td>-0.276853</td>\n",
       "      <td>-0.345079</td>\n",
       "      <td>-0.316674</td>\n",
       "      <td>-0.390914</td>\n",
       "      <td>2.902499</td>\n",
       "      <td>-0.082754</td>\n",
       "      <td>0.950729</td>\n",
       "      <td>-0.042627</td>\n",
       "      <td>-0.934430</td>\n",
       "      <td>1.712721</td>\n",
       "      <td>-1.712721</td>\n",
       "      <td>0.463264</td>\n",
       "      <td>-0.036908</td>\n",
       "      <td>-0.432119</td>\n",
       "      <td>-0.135337</td>\n",
       "      <td>100000000.0</td>\n",
       "    </tr>\n",
       "  </tbody>\n",
       "</table>\n",
       "</div>"
      ],
      "text/plain": [
       "       Year  Kilometers_Driven  ...  Owner_Type_Third        Price\n",
       "0 -0.136709          -0.093197  ...         -0.135337  100000000.0\n",
       "1  1.134503          -0.698360  ...         -0.135337  100000000.0\n",
       "2  0.181094          -0.846012  ...         -0.135337  100000000.0\n",
       "3  0.816700           0.825667  ...         -0.135337  100000000.0\n",
       "4  0.498897           0.039896  ...         -0.135337  100000000.0\n",
       "\n",
       "[5 rows x 33 columns]"
      ]
     },
     "execution_count": 43,
     "metadata": {
      "tags": []
     },
     "output_type": "execute_result"
    }
   ],
   "source": [
    "from scipy import stats\n",
    "zScore = np.abs(stats.zscore(mEnc['Kilometers_Driven']))\n",
    "R = mEnc[zScore < 3]\n",
    "R.info()\n",
    "zScore = np.abs(stats.zscore(R['Mileage']))\n",
    "R = R[zScore < 3]\n",
    "# R.info()\n",
    "zScore = np.abs(stats.zscore(R['Engine']))\n",
    "R = R[zScore < 3]\n",
    "# R.info()\n",
    "zScore = np.abs(stats.zscore(R['Power']))\n",
    "R = R[zScore < 3]\n",
    "R.fillna(1e8, inplace = True)\n",
    "RN = R[R['Price']==1e8]\n",
    "RP = R[R['Price']!= 1e8]\n",
    "print(RN.shape, RP.shape)\n",
    "RN.reset_index(drop = True, inplace = True)\n",
    "RP.reset_index(drop=True, inplace = True)\n",
    "\n",
    "zScore = np.abs(stats.zscore(RP['Price']))\n",
    "RP = RP[zScore < 3]\n",
    "\n",
    "framesNew = [RN, RP]\n",
    "rEnc = pd.concat(framesNew)\n",
    "rEnc.reset_index(drop=True, inplace = True)\n",
    "rEnc.info()\n",
    "\n",
    "rEncY = rEnc.iloc[:, 6]\n",
    "rEnc.drop(['Price'], axis = 1, inplace= True)\n",
    "rEnc.head()\n",
    "rEnc = rEnc.apply(lambda x: (x-np.mean(x))/(np.std(x)))\n",
    "rEnc.head()\n",
    "\n",
    "rEnc['Price'] = rEncY\n",
    "rEnc.head()\n",
    "\n"
   ]
  },
  {
   "cell_type": "code",
   "execution_count": 0,
   "metadata": {
    "colab": {},
    "colab_type": "code",
    "id": "-KrTBgqog7X6"
   },
   "outputs": [],
   "source": [
    "rEnc.to_csv('combibedSetNormalisedZScoreDimensionReduced.csv')"
   ]
  },
  {
   "cell_type": "code",
   "execution_count": 45,
   "metadata": {
    "colab": {
     "base_uri": "https://localhost:8080/",
     "height": 122
    },
    "colab_type": "code",
    "id": "Q0EqLcRMg7dl",
    "outputId": "8e1841bb-9e07-4665-db48-ede93bebdc8d"
   },
   "outputs": [
    {
     "name": "stdout",
     "output_type": "stream",
     "text": [
      "Go to this URL in a browser: https://accounts.google.com/o/oauth2/auth?client_id=947318989803-6bn6qk8qdgf4n4g3pfee6491hc0brc4i.apps.googleusercontent.com&redirect_uri=urn%3aietf%3awg%3aoauth%3a2.0%3aoob&response_type=code&scope=email%20https%3a%2f%2fwww.googleapis.com%2fauth%2fdocs.test%20https%3a%2f%2fwww.googleapis.com%2fauth%2fdrive%20https%3a%2f%2fwww.googleapis.com%2fauth%2fdrive.photos.readonly%20https%3a%2f%2fwww.googleapis.com%2fauth%2fpeopleapi.readonly\n",
      "\n",
      "Enter your authorization code:\n",
      "··········\n",
      "Mounted at drive\n"
     ]
    }
   ],
   "source": [
    "from google.colab import drive\n",
    "drive.mount('drive', force_remount=True)\n",
    "!cp combibedSetNormalisedZScoreDimensionReduced.csv \"drive/My Drive/\""
   ]
  },
  {
   "cell_type": "code",
   "execution_count": 0,
   "metadata": {
    "colab": {},
    "colab_type": "code",
    "id": "MkxfMw52g7jr"
   },
   "outputs": [],
   "source": []
  },
  {
   "cell_type": "code",
   "execution_count": 0,
   "metadata": {
    "colab": {},
    "colab_type": "code",
    "id": "vocBA3ggg7oP"
   },
   "outputs": [],
   "source": []
  },
  {
   "cell_type": "code",
   "execution_count": 0,
   "metadata": {
    "colab": {},
    "colab_type": "code",
    "id": "qP9F6c-pg7uP"
   },
   "outputs": [],
   "source": []
  },
  {
   "cell_type": "code",
   "execution_count": 0,
   "metadata": {
    "colab": {},
    "colab_type": "code",
    "id": "mSzZB8eBg7z8"
   },
   "outputs": [],
   "source": []
  },
  {
   "cell_type": "code",
   "execution_count": 0,
   "metadata": {
    "colab": {},
    "colab_type": "code",
    "id": "wXxcQObqg75N"
   },
   "outputs": [],
   "source": []
  },
  {
   "cell_type": "code",
   "execution_count": 0,
   "metadata": {
    "colab": {},
    "colab_type": "code",
    "id": "euvKSxdGg7-P"
   },
   "outputs": [],
   "source": []
  },
  {
   "cell_type": "code",
   "execution_count": 0,
   "metadata": {
    "colab": {},
    "colab_type": "code",
    "id": "Wc0CzY7vg8Di"
   },
   "outputs": [],
   "source": []
  },
  {
   "cell_type": "code",
   "execution_count": 0,
   "metadata": {
    "colab": {},
    "colab_type": "code",
    "id": "oTEjzcmAg8Yd"
   },
   "outputs": [],
   "source": []
  },
  {
   "cell_type": "code",
   "execution_count": 0,
   "metadata": {
    "colab": {},
    "colab_type": "code",
    "id": "95-qeVS5g-l_"
   },
   "outputs": [],
   "source": []
  },
  {
   "cell_type": "code",
   "execution_count": 0,
   "metadata": {
    "colab": {},
    "colab_type": "code",
    "id": "D2dbDXreg-sp"
   },
   "outputs": [],
   "source": []
  },
  {
   "cell_type": "code",
   "execution_count": 0,
   "metadata": {
    "colab": {},
    "colab_type": "code",
    "id": "swJfcrQBg-yf"
   },
   "outputs": [],
   "source": []
  },
  {
   "cell_type": "code",
   "execution_count": 0,
   "metadata": {
    "colab": {},
    "colab_type": "code",
    "id": "miK3qIlIg-4P"
   },
   "outputs": [],
   "source": []
  },
  {
   "cell_type": "code",
   "execution_count": 0,
   "metadata": {
    "colab": {},
    "colab_type": "code",
    "id": "H44Z9biAg-9g"
   },
   "outputs": [],
   "source": []
  },
  {
   "cell_type": "code",
   "execution_count": 0,
   "metadata": {
    "colab": {},
    "colab_type": "code",
    "id": "mGoiMlhNg_C7"
   },
   "outputs": [],
   "source": []
  },
  {
   "cell_type": "code",
   "execution_count": 0,
   "metadata": {
    "colab": {},
    "colab_type": "code",
    "id": "cyaV7tN_g_Ii"
   },
   "outputs": [],
   "source": []
  },
  {
   "cell_type": "code",
   "execution_count": 0,
   "metadata": {
    "colab": {},
    "colab_type": "code",
    "id": "eh3S-u59g_OW"
   },
   "outputs": [],
   "source": []
  },
  {
   "cell_type": "code",
   "execution_count": 0,
   "metadata": {
    "colab": {},
    "colab_type": "code",
    "id": "JaZhYDhGg_UR"
   },
   "outputs": [],
   "source": []
  },
  {
   "cell_type": "code",
   "execution_count": 0,
   "metadata": {
    "colab": {},
    "colab_type": "code",
    "id": "7GbWb7krg_Z4"
   },
   "outputs": [],
   "source": []
  },
  {
   "cell_type": "code",
   "execution_count": 0,
   "metadata": {
    "colab": {},
    "colab_type": "code",
    "id": "Cw_uimoBg_f6"
   },
   "outputs": [],
   "source": []
  },
  {
   "cell_type": "code",
   "execution_count": 0,
   "metadata": {
    "colab": {},
    "colab_type": "code",
    "id": "SKWmabURg_lb"
   },
   "outputs": [],
   "source": []
  },
  {
   "cell_type": "code",
   "execution_count": 0,
   "metadata": {
    "colab": {},
    "colab_type": "code",
    "id": "mE8KAHdOg_qW"
   },
   "outputs": [],
   "source": []
  },
  {
   "cell_type": "code",
   "execution_count": 0,
   "metadata": {
    "colab": {},
    "colab_type": "code",
    "id": "lzOQ-eQ1g_vg"
   },
   "outputs": [],
   "source": []
  },
  {
   "cell_type": "code",
   "execution_count": 0,
   "metadata": {
    "colab": {},
    "colab_type": "code",
    "id": "PH0lMxXog_1w"
   },
   "outputs": [],
   "source": []
  },
  {
   "cell_type": "code",
   "execution_count": 0,
   "metadata": {
    "colab": {},
    "colab_type": "code",
    "id": "DnIDmCxFg_7K"
   },
   "outputs": [],
   "source": []
  },
  {
   "cell_type": "code",
   "execution_count": 0,
   "metadata": {
    "colab": {},
    "colab_type": "code",
    "id": "_MSZqF7shAAQ"
   },
   "outputs": [],
   "source": []
  },
  {
   "cell_type": "code",
   "execution_count": 0,
   "metadata": {
    "colab": {},
    "colab_type": "code",
    "id": "KYuC72uOg8eC"
   },
   "outputs": [],
   "source": []
  },
  {
   "cell_type": "code",
   "execution_count": 0,
   "metadata": {
    "colab": {},
    "colab_type": "code",
    "id": "D5w3H1ZUg8j8"
   },
   "outputs": [],
   "source": []
  },
  {
   "cell_type": "code",
   "execution_count": 0,
   "metadata": {
    "colab": {},
    "colab_type": "code",
    "id": "FAB0wviZg8oU"
   },
   "outputs": [],
   "source": []
  },
  {
   "cell_type": "code",
   "execution_count": 0,
   "metadata": {
    "colab": {},
    "colab_type": "code",
    "id": "jwmoOmtwg8um"
   },
   "outputs": [],
   "source": []
  },
  {
   "cell_type": "code",
   "execution_count": 0,
   "metadata": {
    "colab": {},
    "colab_type": "code",
    "id": "3UK3xh_hg8z2"
   },
   "outputs": [],
   "source": []
  },
  {
   "cell_type": "code",
   "execution_count": 0,
   "metadata": {
    "colab": {},
    "colab_type": "code",
    "id": "M2WlNx6pg85A"
   },
   "outputs": [],
   "source": []
  }
 ],
 "metadata": {
  "colab": {
   "name": "dimensionalityReduction.ipynb",
   "provenance": []
  },
  "kernelspec": {
   "display_name": "Python 3",
   "language": "python",
   "name": "python3"
  },
  "language_info": {
   "codemirror_mode": {
    "name": "ipython",
    "version": 3
   },
   "file_extension": ".py",
   "mimetype": "text/x-python",
   "name": "python",
   "nbconvert_exporter": "python",
   "pygments_lexer": "ipython3",
   "version": "3.8.3"
  }
 },
 "nbformat": 4,
 "nbformat_minor": 1
}
