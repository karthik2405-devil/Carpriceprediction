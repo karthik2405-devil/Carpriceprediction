{
 "cells": [
  {
   "cell_type": "code",
   "execution_count": 0,
   "metadata": {
    "colab": {
     "base_uri": "https://localhost:8080/",
     "height": 88
    },
    "colab_type": "code",
    "id": "8nLzze4VBHGp",
    "outputId": "42765309-b2f0-4d43-f9ba-40ae990f2105"
   },
   "outputs": [
    {
     "name": "stdout",
     "output_type": "stream",
     "text": [
      "WARNING:tensorflow:From /usr/local/lib/python3.6/dist-packages/tensorflow/python/compat/v2_compat.py:96: disable_resource_variables (from tensorflow.python.ops.variable_scope) is deprecated and will be removed in a future version.\n",
      "Instructions for updating:\n",
      "non-resource variables are not supported in the long term\n"
     ]
    }
   ],
   "source": [
    "import numpy as np\n",
    "import matplotlib.pyplot as plt\n",
    "import pandas as pd\n",
    "import tensorflow.compat.v1 as tf\n",
    "tf.disable_v2_behavior()\n",
    "from pandas import get_dummies\n"
   ]
  },
  {
   "cell_type": "code",
   "execution_count": 0,
   "metadata": {
    "colab": {
     "base_uri": "https://localhost:8080/",
     "height": 74,
     "resources": {
      "http://localhost:8080/nbextensions/google.colab/files.js": {
       "data": "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",
       "headers": [
        [
         "content-type",
         "application/javascript"
        ]
       ],
       "ok": true,
       "status": 200,
       "status_text": ""
      }
     }
    },
    "colab_type": "code",
    "id": "VX7uLe6DETLz",
    "outputId": "d19043c1-0a3b-43e8-e2b7-f476a9101123"
   },
   "outputs": [
    {
     "data": {
      "text/html": [
       "\n",
       "     <input type=\"file\" id=\"files-6e1f7c75-5c41-4055-ab77-03a582493198\" name=\"files[]\" multiple disabled />\n",
       "     <output id=\"result-6e1f7c75-5c41-4055-ab77-03a582493198\">\n",
       "      Upload widget is only available when the cell has been executed in the\n",
       "      current browser session. Please rerun this cell to enable.\n",
       "      </output>\n",
       "      <script src=\"/nbextensions/google.colab/files.js\"></script> "
      ],
      "text/plain": [
       "<IPython.core.display.HTML object>"
      ]
     },
     "metadata": {
      "tags": []
     },
     "output_type": "display_data"
    },
    {
     "name": "stdout",
     "output_type": "stream",
     "text": [
      "Saving Data_Train.xlsx to Data_Train.xlsx\n"
     ]
    }
   ],
   "source": [
    "from google.colab import files\n",
    "uploaded = files.upload()"
   ]
  },
  {
   "cell_type": "code",
   "execution_count": 0,
   "metadata": {
    "colab": {
     "base_uri": "https://localhost:8080/",
     "height": 204
    },
    "colab_type": "code",
    "id": "eCpHdzVRETYi",
    "outputId": "f5e81154-95c1-4d60-f73e-ddb1a7508e39"
   },
   "outputs": [
    {
     "data": {
      "text/html": [
       "<div>\n",
       "<style scoped>\n",
       "    .dataframe tbody tr th:only-of-type {\n",
       "        vertical-align: middle;\n",
       "    }\n",
       "\n",
       "    .dataframe tbody tr th {\n",
       "        vertical-align: top;\n",
       "    }\n",
       "\n",
       "    .dataframe thead th {\n",
       "        text-align: right;\n",
       "    }\n",
       "</style>\n",
       "<table border=\"1\" class=\"dataframe\">\n",
       "  <thead>\n",
       "    <tr style=\"text-align: right;\">\n",
       "      <th></th>\n",
       "      <th>Name</th>\n",
       "      <th>Location</th>\n",
       "      <th>Year</th>\n",
       "      <th>Kilometers_Driven</th>\n",
       "      <th>Fuel_Type</th>\n",
       "      <th>Transmission</th>\n",
       "      <th>Owner_Type</th>\n",
       "      <th>Mileage</th>\n",
       "      <th>Engine</th>\n",
       "      <th>Power</th>\n",
       "      <th>Seats</th>\n",
       "      <th>Price</th>\n",
       "    </tr>\n",
       "  </thead>\n",
       "  <tbody>\n",
       "    <tr>\n",
       "      <th>0</th>\n",
       "      <td>Maruti Wagon R LXI CNG</td>\n",
       "      <td>Mumbai</td>\n",
       "      <td>2010</td>\n",
       "      <td>72000</td>\n",
       "      <td>CNG</td>\n",
       "      <td>Manual</td>\n",
       "      <td>First</td>\n",
       "      <td>26.6 km/kg</td>\n",
       "      <td>998 CC</td>\n",
       "      <td>58.16 bhp</td>\n",
       "      <td>5.0</td>\n",
       "      <td>1.75</td>\n",
       "    </tr>\n",
       "    <tr>\n",
       "      <th>1</th>\n",
       "      <td>Hyundai Creta 1.6 CRDi SX Option</td>\n",
       "      <td>Pune</td>\n",
       "      <td>2015</td>\n",
       "      <td>41000</td>\n",
       "      <td>Diesel</td>\n",
       "      <td>Manual</td>\n",
       "      <td>First</td>\n",
       "      <td>19.67 kmpl</td>\n",
       "      <td>1582 CC</td>\n",
       "      <td>126.2 bhp</td>\n",
       "      <td>5.0</td>\n",
       "      <td>12.50</td>\n",
       "    </tr>\n",
       "    <tr>\n",
       "      <th>2</th>\n",
       "      <td>Honda Jazz V</td>\n",
       "      <td>Chennai</td>\n",
       "      <td>2011</td>\n",
       "      <td>46000</td>\n",
       "      <td>Petrol</td>\n",
       "      <td>Manual</td>\n",
       "      <td>First</td>\n",
       "      <td>18.2 kmpl</td>\n",
       "      <td>1199 CC</td>\n",
       "      <td>88.7 bhp</td>\n",
       "      <td>5.0</td>\n",
       "      <td>4.50</td>\n",
       "    </tr>\n",
       "    <tr>\n",
       "      <th>3</th>\n",
       "      <td>Maruti Ertiga VDI</td>\n",
       "      <td>Chennai</td>\n",
       "      <td>2012</td>\n",
       "      <td>87000</td>\n",
       "      <td>Diesel</td>\n",
       "      <td>Manual</td>\n",
       "      <td>First</td>\n",
       "      <td>20.77 kmpl</td>\n",
       "      <td>1248 CC</td>\n",
       "      <td>88.76 bhp</td>\n",
       "      <td>7.0</td>\n",
       "      <td>6.00</td>\n",
       "    </tr>\n",
       "    <tr>\n",
       "      <th>4</th>\n",
       "      <td>Audi A4 New 2.0 TDI Multitronic</td>\n",
       "      <td>Coimbatore</td>\n",
       "      <td>2013</td>\n",
       "      <td>40670</td>\n",
       "      <td>Diesel</td>\n",
       "      <td>Automatic</td>\n",
       "      <td>Second</td>\n",
       "      <td>15.2 kmpl</td>\n",
       "      <td>1968 CC</td>\n",
       "      <td>140.8 bhp</td>\n",
       "      <td>5.0</td>\n",
       "      <td>17.74</td>\n",
       "    </tr>\n",
       "  </tbody>\n",
       "</table>\n",
       "</div>"
      ],
      "text/plain": [
       "                               Name    Location  Year  ...      Power Seats  Price\n",
       "0            Maruti Wagon R LXI CNG      Mumbai  2010  ...  58.16 bhp   5.0   1.75\n",
       "1  Hyundai Creta 1.6 CRDi SX Option        Pune  2015  ...  126.2 bhp   5.0  12.50\n",
       "2                      Honda Jazz V     Chennai  2011  ...   88.7 bhp   5.0   4.50\n",
       "3                 Maruti Ertiga VDI     Chennai  2012  ...  88.76 bhp   7.0   6.00\n",
       "4   Audi A4 New 2.0 TDI Multitronic  Coimbatore  2013  ...  140.8 bhp   5.0  17.74\n",
       "\n",
       "[5 rows x 12 columns]"
      ]
     },
     "execution_count": 31,
     "metadata": {
      "tags": []
     },
     "output_type": "execute_result"
    }
   ],
   "source": [
    "import io\n",
    "dfTrain = pd.read_excel(io.BytesIO(uploaded['Data_Train.xlsx']))\n",
    "dfTrain.head()"
   ]
  },
  {
   "cell_type": "code",
   "execution_count": 0,
   "metadata": {
    "colab": {
     "base_uri": "https://localhost:8080/",
     "height": 297
    },
    "colab_type": "code",
    "id": "eaA7uXLxET9g",
    "outputId": "977bfcae-a83f-4f81-917f-7921f6a9cbe3"
   },
   "outputs": [
    {
     "data": {
      "text/html": [
       "<div>\n",
       "<style scoped>\n",
       "    .dataframe tbody tr th:only-of-type {\n",
       "        vertical-align: middle;\n",
       "    }\n",
       "\n",
       "    .dataframe tbody tr th {\n",
       "        vertical-align: top;\n",
       "    }\n",
       "\n",
       "    .dataframe thead th {\n",
       "        text-align: right;\n",
       "    }\n",
       "</style>\n",
       "<table border=\"1\" class=\"dataframe\">\n",
       "  <thead>\n",
       "    <tr style=\"text-align: right;\">\n",
       "      <th></th>\n",
       "      <th>Year</th>\n",
       "      <th>Kilometers_Driven</th>\n",
       "      <th>Seats</th>\n",
       "      <th>Price</th>\n",
       "    </tr>\n",
       "  </thead>\n",
       "  <tbody>\n",
       "    <tr>\n",
       "      <th>count</th>\n",
       "      <td>6019.000000</td>\n",
       "      <td>6.019000e+03</td>\n",
       "      <td>5977.000000</td>\n",
       "      <td>6019.000000</td>\n",
       "    </tr>\n",
       "    <tr>\n",
       "      <th>mean</th>\n",
       "      <td>2013.358199</td>\n",
       "      <td>5.873838e+04</td>\n",
       "      <td>5.278735</td>\n",
       "      <td>9.479468</td>\n",
       "    </tr>\n",
       "    <tr>\n",
       "      <th>std</th>\n",
       "      <td>3.269742</td>\n",
       "      <td>9.126884e+04</td>\n",
       "      <td>0.808840</td>\n",
       "      <td>11.187917</td>\n",
       "    </tr>\n",
       "    <tr>\n",
       "      <th>min</th>\n",
       "      <td>1998.000000</td>\n",
       "      <td>1.710000e+02</td>\n",
       "      <td>0.000000</td>\n",
       "      <td>0.440000</td>\n",
       "    </tr>\n",
       "    <tr>\n",
       "      <th>25%</th>\n",
       "      <td>2011.000000</td>\n",
       "      <td>3.400000e+04</td>\n",
       "      <td>5.000000</td>\n",
       "      <td>3.500000</td>\n",
       "    </tr>\n",
       "    <tr>\n",
       "      <th>50%</th>\n",
       "      <td>2014.000000</td>\n",
       "      <td>5.300000e+04</td>\n",
       "      <td>5.000000</td>\n",
       "      <td>5.640000</td>\n",
       "    </tr>\n",
       "    <tr>\n",
       "      <th>75%</th>\n",
       "      <td>2016.000000</td>\n",
       "      <td>7.300000e+04</td>\n",
       "      <td>5.000000</td>\n",
       "      <td>9.950000</td>\n",
       "    </tr>\n",
       "    <tr>\n",
       "      <th>max</th>\n",
       "      <td>2019.000000</td>\n",
       "      <td>6.500000e+06</td>\n",
       "      <td>10.000000</td>\n",
       "      <td>160.000000</td>\n",
       "    </tr>\n",
       "  </tbody>\n",
       "</table>\n",
       "</div>"
      ],
      "text/plain": [
       "              Year  Kilometers_Driven        Seats        Price\n",
       "count  6019.000000       6.019000e+03  5977.000000  6019.000000\n",
       "mean   2013.358199       5.873838e+04     5.278735     9.479468\n",
       "std       3.269742       9.126884e+04     0.808840    11.187917\n",
       "min    1998.000000       1.710000e+02     0.000000     0.440000\n",
       "25%    2011.000000       3.400000e+04     5.000000     3.500000\n",
       "50%    2014.000000       5.300000e+04     5.000000     5.640000\n",
       "75%    2016.000000       7.300000e+04     5.000000     9.950000\n",
       "max    2019.000000       6.500000e+06    10.000000   160.000000"
      ]
     },
     "execution_count": 28,
     "metadata": {
      "tags": []
     },
     "output_type": "execute_result"
    }
   ],
   "source": [
    "dfTrain.describe()"
   ]
  },
  {
   "cell_type": "code",
   "execution_count": 0,
   "metadata": {
    "colab": {
     "base_uri": "https://localhost:8080/",
     "height": 340
    },
    "colab_type": "code",
    "id": "vUUKtQcoEUK5",
    "outputId": "a7402281-19df-442a-d1a8-de28e41eee3b"
   },
   "outputs": [
    {
     "name": "stdout",
     "output_type": "stream",
     "text": [
      "<class 'pandas.core.frame.DataFrame'>\n",
      "RangeIndex: 6019 entries, 0 to 6018\n",
      "Data columns (total 12 columns):\n",
      " #   Column             Non-Null Count  Dtype  \n",
      "---  ------             --------------  -----  \n",
      " 0   Name               6019 non-null   object \n",
      " 1   Location           6019 non-null   object \n",
      " 2   Year               6019 non-null   int64  \n",
      " 3   Kilometers_Driven  6019 non-null   int64  \n",
      " 4   Fuel_Type          6019 non-null   object \n",
      " 5   Transmission       6019 non-null   object \n",
      " 6   Owner_Type         6019 non-null   object \n",
      " 7   Mileage            6017 non-null   object \n",
      " 8   Engine             5983 non-null   object \n",
      " 9   Power              5983 non-null   object \n",
      " 10  Seats              5977 non-null   float64\n",
      " 11  Price              6019 non-null   float64\n",
      "dtypes: float64(2), int64(2), object(8)\n",
      "memory usage: 564.4+ KB\n"
     ]
    }
   ],
   "source": [
    "dfTrain.info()   #Clearly nan values are there"
   ]
  },
  {
   "cell_type": "code",
   "execution_count": 0,
   "metadata": {
    "colab": {
     "base_uri": "https://localhost:8080/",
     "height": 204
    },
    "colab_type": "code",
    "id": "7jvC6MUxEUYN",
    "outputId": "56af019f-180a-43d9-9df8-c68b448924e7"
   },
   "outputs": [
    {
     "data": {
      "text/html": [
       "<div>\n",
       "<style scoped>\n",
       "    .dataframe tbody tr th:only-of-type {\n",
       "        vertical-align: middle;\n",
       "    }\n",
       "\n",
       "    .dataframe tbody tr th {\n",
       "        vertical-align: top;\n",
       "    }\n",
       "\n",
       "    .dataframe thead th {\n",
       "        text-align: right;\n",
       "    }\n",
       "</style>\n",
       "<table border=\"1\" class=\"dataframe\">\n",
       "  <thead>\n",
       "    <tr style=\"text-align: right;\">\n",
       "      <th></th>\n",
       "      <th>Name</th>\n",
       "      <th>Location</th>\n",
       "      <th>Year</th>\n",
       "      <th>Kilometers_Driven</th>\n",
       "      <th>Fuel_Type</th>\n",
       "      <th>Transmission</th>\n",
       "      <th>Owner_Type</th>\n",
       "      <th>Mileage</th>\n",
       "      <th>Engine</th>\n",
       "      <th>Power</th>\n",
       "      <th>Seats</th>\n",
       "      <th>Price</th>\n",
       "    </tr>\n",
       "  </thead>\n",
       "  <tbody>\n",
       "    <tr>\n",
       "      <th>0</th>\n",
       "      <td>Maruti Wagon R LXI CNG</td>\n",
       "      <td>Mumbai</td>\n",
       "      <td>2010</td>\n",
       "      <td>72000</td>\n",
       "      <td>CNG</td>\n",
       "      <td>Manual</td>\n",
       "      <td>First</td>\n",
       "      <td>26.6 km/kg</td>\n",
       "      <td>998 CC</td>\n",
       "      <td>58.16 bhp</td>\n",
       "      <td>5.0</td>\n",
       "      <td>1.75</td>\n",
       "    </tr>\n",
       "    <tr>\n",
       "      <th>1</th>\n",
       "      <td>Hyundai Creta 1.6 CRDi SX Option</td>\n",
       "      <td>Pune</td>\n",
       "      <td>2015</td>\n",
       "      <td>41000</td>\n",
       "      <td>Diesel</td>\n",
       "      <td>Manual</td>\n",
       "      <td>First</td>\n",
       "      <td>19.67 kmpl</td>\n",
       "      <td>1582 CC</td>\n",
       "      <td>126.2 bhp</td>\n",
       "      <td>5.0</td>\n",
       "      <td>12.50</td>\n",
       "    </tr>\n",
       "    <tr>\n",
       "      <th>2</th>\n",
       "      <td>Honda Jazz V</td>\n",
       "      <td>Chennai</td>\n",
       "      <td>2011</td>\n",
       "      <td>46000</td>\n",
       "      <td>Petrol</td>\n",
       "      <td>Manual</td>\n",
       "      <td>First</td>\n",
       "      <td>18.2 kmpl</td>\n",
       "      <td>1199 CC</td>\n",
       "      <td>88.7 bhp</td>\n",
       "      <td>5.0</td>\n",
       "      <td>4.50</td>\n",
       "    </tr>\n",
       "    <tr>\n",
       "      <th>3</th>\n",
       "      <td>Maruti Ertiga VDI</td>\n",
       "      <td>Chennai</td>\n",
       "      <td>2012</td>\n",
       "      <td>87000</td>\n",
       "      <td>Diesel</td>\n",
       "      <td>Manual</td>\n",
       "      <td>First</td>\n",
       "      <td>20.77 kmpl</td>\n",
       "      <td>1248 CC</td>\n",
       "      <td>88.76 bhp</td>\n",
       "      <td>7.0</td>\n",
       "      <td>6.00</td>\n",
       "    </tr>\n",
       "    <tr>\n",
       "      <th>4</th>\n",
       "      <td>Audi A4 New 2.0 TDI Multitronic</td>\n",
       "      <td>Coimbatore</td>\n",
       "      <td>2013</td>\n",
       "      <td>40670</td>\n",
       "      <td>Diesel</td>\n",
       "      <td>Automatic</td>\n",
       "      <td>Second</td>\n",
       "      <td>15.2 kmpl</td>\n",
       "      <td>1968 CC</td>\n",
       "      <td>140.8 bhp</td>\n",
       "      <td>5.0</td>\n",
       "      <td>17.74</td>\n",
       "    </tr>\n",
       "  </tbody>\n",
       "</table>\n",
       "</div>"
      ],
      "text/plain": [
       "                               Name    Location  Year  ...      Power Seats  Price\n",
       "0            Maruti Wagon R LXI CNG      Mumbai  2010  ...  58.16 bhp   5.0   1.75\n",
       "1  Hyundai Creta 1.6 CRDi SX Option        Pune  2015  ...  126.2 bhp   5.0  12.50\n",
       "2                      Honda Jazz V     Chennai  2011  ...   88.7 bhp   5.0   4.50\n",
       "3                 Maruti Ertiga VDI     Chennai  2012  ...  88.76 bhp   7.0   6.00\n",
       "4   Audi A4 New 2.0 TDI Multitronic  Coimbatore  2013  ...  140.8 bhp   5.0  17.74\n",
       "\n",
       "[5 rows x 12 columns]"
      ]
     },
     "execution_count": 32,
     "metadata": {
      "tags": []
     },
     "output_type": "execute_result"
    }
   ],
   "source": [
    "dfTrain.dropna(inplace = True)\n",
    "dfTrain.reset_index(drop = True, inplace = True)\n",
    "dfTrain.head()"
   ]
  },
  {
   "cell_type": "code",
   "execution_count": 0,
   "metadata": {
    "colab": {
     "base_uri": "https://localhost:8080/",
     "height": 340
    },
    "colab_type": "code",
    "id": "xLneq5peEUj3",
    "outputId": "4795a6c0-7da2-4b95-d623-fb55d9b7ca69"
   },
   "outputs": [
    {
     "name": "stdout",
     "output_type": "stream",
     "text": [
      "<class 'pandas.core.frame.DataFrame'>\n",
      "RangeIndex: 5975 entries, 0 to 5974\n",
      "Data columns (total 12 columns):\n",
      " #   Column             Non-Null Count  Dtype  \n",
      "---  ------             --------------  -----  \n",
      " 0   Name               5975 non-null   object \n",
      " 1   Location           5975 non-null   object \n",
      " 2   Year               5975 non-null   int64  \n",
      " 3   Kilometers_Driven  5975 non-null   int64  \n",
      " 4   Fuel_Type          5975 non-null   object \n",
      " 5   Transmission       5975 non-null   object \n",
      " 6   Owner_Type         5975 non-null   object \n",
      " 7   Mileage            5975 non-null   object \n",
      " 8   Engine             5975 non-null   object \n",
      " 9   Power              5975 non-null   object \n",
      " 10  Seats              5975 non-null   float64\n",
      " 11  Price              5975 non-null   float64\n",
      "dtypes: float64(2), int64(2), object(8)\n",
      "memory usage: 560.3+ KB\n"
     ]
    }
   ],
   "source": [
    "dfTrain.info()"
   ]
  },
  {
   "cell_type": "code",
   "execution_count": 0,
   "metadata": {
    "colab": {
     "base_uri": "https://localhost:8080/",
     "height": 34
    },
    "colab_type": "code",
    "id": "EbTcn3YNEUy0",
    "outputId": "509781ef-d8a0-42d6-f257-883e652cfb19"
   },
   "outputs": [
    {
     "data": {
      "text/plain": [
       "1855"
      ]
     },
     "execution_count": 16,
     "metadata": {
      "tags": []
     },
     "output_type": "execute_result"
    }
   ],
   "source": [
    "dfTrain['Name'].unique().size  # We ignore this column for the time being\n",
    "dfTrain"
   ]
  },
  {
   "cell_type": "code",
   "execution_count": 0,
   "metadata": {
    "colab": {},
    "colab_type": "code",
    "id": "UpUZBu1WEU_l"
   },
   "outputs": [],
   "source": [
    "X = dfTrain.iloc[:,:]\n"
   ]
  },
  {
   "cell_type": "code",
   "execution_count": 0,
   "metadata": {
    "colab": {
     "base_uri": "https://localhost:8080/",
     "height": 34
    },
    "colab_type": "code",
    "id": "JNNlldgxEVOa",
    "outputId": "0002d07b-8567-49f6-ebc2-b154f1193aed"
   },
   "outputs": [
    {
     "data": {
      "text/plain": [
       "dtype('float64')"
      ]
     },
     "execution_count": 99,
     "metadata": {
      "tags": []
     },
     "output_type": "execute_result"
    }
   ],
   "source": [
    "X.shape, y.shape\n",
    "y.dtype"
   ]
  },
  {
   "cell_type": "code",
   "execution_count": 0,
   "metadata": {
    "colab": {
     "base_uri": "https://localhost:8080/",
     "height": 340
    },
    "colab_type": "code",
    "id": "vWe_13fXEWB-",
    "outputId": "5cf566e0-d4a1-420e-c062-3801f89eb4d6"
   },
   "outputs": [
    {
     "name": "stdout",
     "output_type": "stream",
     "text": [
      "<class 'pandas.core.frame.DataFrame'>\n",
      "RangeIndex: 5975 entries, 0 to 5974\n",
      "Data columns (total 12 columns):\n",
      " #   Column             Non-Null Count  Dtype  \n",
      "---  ------             --------------  -----  \n",
      " 0   Name               5975 non-null   object \n",
      " 1   Location           5975 non-null   object \n",
      " 2   Year               5975 non-null   int64  \n",
      " 3   Kilometers_Driven  5975 non-null   int64  \n",
      " 4   Fuel_Type          5975 non-null   object \n",
      " 5   Transmission       5975 non-null   object \n",
      " 6   Owner_Type         5975 non-null   object \n",
      " 7   Mileage            5975 non-null   float64\n",
      " 8   Engine             5975 non-null   float64\n",
      " 9   Power              5975 non-null   object \n",
      " 10  Seats              5975 non-null   float64\n",
      " 11  Price              5975 non-null   float64\n",
      "dtypes: float64(4), int64(2), object(6)\n",
      "memory usage: 560.3+ KB\n"
     ]
    }
   ],
   "source": [
    "X['Name'] = X['Name'].apply(lambda x: list(x.split(' '))[0])\n",
    "X['Mileage'] = X['Mileage'].apply(lambda x: float(list(x.split(' '))[0]))\n",
    "X['Engine'] = X['Engine'].apply(lambda x: float(list(x.split(' '))[0]))\n",
    "# X['Power'] = X['Power'].apply(lambda x: float(list(x.split(' '))[0]))\n",
    "X.info()\n"
   ]
  },
  {
   "cell_type": "code",
   "execution_count": 0,
   "metadata": {
    "colab": {
     "base_uri": "https://localhost:8080/",
     "height": 34
    },
    "colab_type": "code",
    "id": "XYp2xB6QhBJK",
    "outputId": "a2adfc2b-87b8-407a-8a89-e790365cfcaf"
   },
   "outputs": [
    {
     "data": {
      "text/plain": [
       "False"
      ]
     },
     "execution_count": 143,
     "metadata": {
      "tags": []
     },
     "output_type": "execute_result"
    }
   ],
   "source": [
    "(X['Power'] == 'null').any()"
   ]
  },
  {
   "cell_type": "code",
   "execution_count": 0,
   "metadata": {
    "colab": {
     "base_uri": "https://localhost:8080/",
     "height": 340
    },
    "colab_type": "code",
    "id": "cPnMs1jVis02",
    "outputId": "81dcc562-f4e0-4961-ecda-a4f9e6e02661"
   },
   "outputs": [
    {
     "name": "stdout",
     "output_type": "stream",
     "text": [
      "<class 'pandas.core.frame.DataFrame'>\n",
      "Int64Index: 5872 entries, 0 to 5974\n",
      "Data columns (total 12 columns):\n",
      " #   Column             Non-Null Count  Dtype  \n",
      "---  ------             --------------  -----  \n",
      " 0   Name               5872 non-null   object \n",
      " 1   Location           5872 non-null   object \n",
      " 2   Year               5872 non-null   int64  \n",
      " 3   Kilometers_Driven  5872 non-null   int64  \n",
      " 4   Fuel_Type          5872 non-null   object \n",
      " 5   Transmission       5872 non-null   object \n",
      " 6   Owner_Type         5872 non-null   object \n",
      " 7   Mileage            5872 non-null   float64\n",
      " 8   Engine             5872 non-null   float64\n",
      " 9   Power              5872 non-null   float64\n",
      " 10  Seats              5872 non-null   float64\n",
      " 11  Price              5872 non-null   float64\n",
      "dtypes: float64(5), int64(2), object(5)\n",
      "memory usage: 596.4+ KB\n"
     ]
    }
   ],
   "source": [
    "lisNull = [index for index, element in enumerate(X['Power']) if element == 'null']\n",
    "\n",
    "X['Power'] = X['Power'].apply(lambda x: list(x.split(' '))[0])\n",
    "X.drop(lisNull, inplace = True)\n",
    "X['Power'] = X['Power'].astype('float64')\n",
    "X.info()"
   ]
  },
  {
   "cell_type": "code",
   "execution_count": 0,
   "metadata": {
    "colab": {
     "base_uri": "https://localhost:8080/",
     "height": 204
    },
    "colab_type": "code",
    "id": "11B-_gzIEWkG",
    "outputId": "3d7c1e82-acb2-4483-d64e-636385c74396"
   },
   "outputs": [
    {
     "data": {
      "text/html": [
       "<div>\n",
       "<style scoped>\n",
       "    .dataframe tbody tr th:only-of-type {\n",
       "        vertical-align: middle;\n",
       "    }\n",
       "\n",
       "    .dataframe tbody tr th {\n",
       "        vertical-align: top;\n",
       "    }\n",
       "\n",
       "    .dataframe thead th {\n",
       "        text-align: right;\n",
       "    }\n",
       "</style>\n",
       "<table border=\"1\" class=\"dataframe\">\n",
       "  <thead>\n",
       "    <tr style=\"text-align: right;\">\n",
       "      <th></th>\n",
       "      <th>Name</th>\n",
       "      <th>Location</th>\n",
       "      <th>Year</th>\n",
       "      <th>Kilometers_Driven</th>\n",
       "      <th>Fuel_Type</th>\n",
       "      <th>Transmission</th>\n",
       "      <th>Owner_Type</th>\n",
       "      <th>Mileage</th>\n",
       "      <th>Engine</th>\n",
       "      <th>Power</th>\n",
       "      <th>Seats</th>\n",
       "      <th>Price</th>\n",
       "    </tr>\n",
       "  </thead>\n",
       "  <tbody>\n",
       "    <tr>\n",
       "      <th>0</th>\n",
       "      <td>Maruti</td>\n",
       "      <td>Mumbai</td>\n",
       "      <td>2010</td>\n",
       "      <td>72000</td>\n",
       "      <td>CNG</td>\n",
       "      <td>Manual</td>\n",
       "      <td>First</td>\n",
       "      <td>26.60</td>\n",
       "      <td>998.0</td>\n",
       "      <td>58.16</td>\n",
       "      <td>5.0</td>\n",
       "      <td>1.75</td>\n",
       "    </tr>\n",
       "    <tr>\n",
       "      <th>1</th>\n",
       "      <td>Hyundai</td>\n",
       "      <td>Pune</td>\n",
       "      <td>2015</td>\n",
       "      <td>41000</td>\n",
       "      <td>Diesel</td>\n",
       "      <td>Manual</td>\n",
       "      <td>First</td>\n",
       "      <td>19.67</td>\n",
       "      <td>1582.0</td>\n",
       "      <td>126.20</td>\n",
       "      <td>5.0</td>\n",
       "      <td>12.50</td>\n",
       "    </tr>\n",
       "    <tr>\n",
       "      <th>2</th>\n",
       "      <td>Honda</td>\n",
       "      <td>Chennai</td>\n",
       "      <td>2011</td>\n",
       "      <td>46000</td>\n",
       "      <td>Petrol</td>\n",
       "      <td>Manual</td>\n",
       "      <td>First</td>\n",
       "      <td>18.20</td>\n",
       "      <td>1199.0</td>\n",
       "      <td>88.70</td>\n",
       "      <td>5.0</td>\n",
       "      <td>4.50</td>\n",
       "    </tr>\n",
       "    <tr>\n",
       "      <th>3</th>\n",
       "      <td>Maruti</td>\n",
       "      <td>Chennai</td>\n",
       "      <td>2012</td>\n",
       "      <td>87000</td>\n",
       "      <td>Diesel</td>\n",
       "      <td>Manual</td>\n",
       "      <td>First</td>\n",
       "      <td>20.77</td>\n",
       "      <td>1248.0</td>\n",
       "      <td>88.76</td>\n",
       "      <td>7.0</td>\n",
       "      <td>6.00</td>\n",
       "    </tr>\n",
       "    <tr>\n",
       "      <th>4</th>\n",
       "      <td>Audi</td>\n",
       "      <td>Coimbatore</td>\n",
       "      <td>2013</td>\n",
       "      <td>40670</td>\n",
       "      <td>Diesel</td>\n",
       "      <td>Automatic</td>\n",
       "      <td>Second</td>\n",
       "      <td>15.20</td>\n",
       "      <td>1968.0</td>\n",
       "      <td>140.80</td>\n",
       "      <td>5.0</td>\n",
       "      <td>17.74</td>\n",
       "    </tr>\n",
       "  </tbody>\n",
       "</table>\n",
       "</div>"
      ],
      "text/plain": [
       "      Name    Location  Year  Kilometers_Driven  ...  Engine   Power Seats  Price\n",
       "0   Maruti      Mumbai  2010              72000  ...   998.0   58.16   5.0   1.75\n",
       "1  Hyundai        Pune  2015              41000  ...  1582.0  126.20   5.0  12.50\n",
       "2    Honda     Chennai  2011              46000  ...  1199.0   88.70   5.0   4.50\n",
       "3   Maruti     Chennai  2012              87000  ...  1248.0   88.76   7.0   6.00\n",
       "4     Audi  Coimbatore  2013              40670  ...  1968.0  140.80   5.0  17.74\n",
       "\n",
       "[5 rows x 12 columns]"
      ]
     },
     "execution_count": 146,
     "metadata": {
      "tags": []
     },
     "output_type": "execute_result"
    }
   ],
   "source": [
    "X.head()"
   ]
  },
  {
   "cell_type": "code",
   "execution_count": 0,
   "metadata": {
    "colab": {
     "base_uri": "https://localhost:8080/",
     "height": 340
    },
    "colab_type": "code",
    "id": "isCoTC_NeWG5",
    "outputId": "8ac265ea-b3bf-4093-f43c-855a94fa648a"
   },
   "outputs": [
    {
     "name": "stdout",
     "output_type": "stream",
     "text": [
      "<class 'pandas.core.frame.DataFrame'>\n",
      "Int64Index: 5872 entries, 0 to 5974\n",
      "Data columns (total 12 columns):\n",
      " #   Column             Non-Null Count  Dtype  \n",
      "---  ------             --------------  -----  \n",
      " 0   Name               5872 non-null   object \n",
      " 1   Location           5872 non-null   object \n",
      " 2   Year               5872 non-null   int64  \n",
      " 3   Kilometers_Driven  5872 non-null   int64  \n",
      " 4   Fuel_Type          5872 non-null   object \n",
      " 5   Transmission       5872 non-null   object \n",
      " 6   Owner_Type         5872 non-null   object \n",
      " 7   Mileage            5872 non-null   float64\n",
      " 8   Engine             5872 non-null   float64\n",
      " 9   Power              5872 non-null   float64\n",
      " 10  Seats              5872 non-null   float64\n",
      " 11  Price              5872 non-null   float64\n",
      "dtypes: float64(5), int64(2), object(5)\n",
      "memory usage: 596.4+ KB\n"
     ]
    }
   ],
   "source": [
    "X.info()"
   ]
  },
  {
   "cell_type": "code",
   "execution_count": 0,
   "metadata": {
    "colab": {
     "base_uri": "https://localhost:8080/",
     "height": 238
    },
    "colab_type": "code",
    "id": "OyzDLSuzRf8l",
    "outputId": "4f21ed92-04b3-4dd9-9b97-03572a2cff45"
   },
   "outputs": [
    {
     "name": "stdout",
     "output_type": "stream",
     "text": [
      "['Maruti' 'Hyundai' 'Honda' 'Audi' 'Nissan' 'Toyota' 'Volkswagen' 'Tata'\n",
      " 'Land' 'Mitsubishi' 'Renault' 'Mercedes-Benz' 'BMW' 'Mahindra' 'Ford'\n",
      " 'Porsche' 'Datsun' 'Jaguar' 'Volvo' 'Chevrolet' 'Skoda' 'Mini' 'Fiat'\n",
      " 'Jeep' 'Smart' 'Ambassador' 'Isuzu' 'ISUZU' 'Force' 'Bentley'\n",
      " 'Lamborghini']\n",
      "['Mumbai' 'Pune' 'Chennai' 'Coimbatore' 'Hyderabad' 'Jaipur' 'Kochi'\n",
      " 'Kolkata' 'Delhi' 'Bangalore' 'Ahmedabad']\n",
      "[2010 2015 2011 2012 2013 2016 2018 2014 2017 2007 2009 2008 2019 2006\n",
      " 2005 2004 2002 2000 2003 1999 2001 1998]\n",
      "['CNG' 'Diesel' 'Petrol' 'LPG']\n",
      "['Manual' 'Automatic']\n",
      "['First' 'Second' 'Fourth & Above' 'Third']\n",
      "[ 5.  7.  8.  4.  6.  2. 10.  9.  0.]\n"
     ]
    }
   ],
   "source": [
    "print(X['Name'].unique())\n",
    "print(X['Location'].unique())\n",
    "print(X['Year'].unique())\n",
    "print(X['Fuel_Type'].unique())\n",
    "print(X['Transmission'].unique())\n",
    "print(X['Owner_Type'].unique())\n",
    "print(X['Seats'].unique())"
   ]
  },
  {
   "cell_type": "code",
   "execution_count": 0,
   "metadata": {
    "colab": {},
    "colab_type": "code",
    "id": "g-wc4rf7RgG_"
   },
   "outputs": [],
   "source": [
    "#No significant trouble with categorical variables"
   ]
  },
  {
   "cell_type": "code",
   "execution_count": 0,
   "metadata": {
    "colab": {},
    "colab_type": "code",
    "id": "u-NScfNrRgRW"
   },
   "outputs": [],
   "source": [
    "#Discovery and elimination of outliers"
   ]
  },
  {
   "cell_type": "code",
   "execution_count": 0,
   "metadata": {
    "colab": {},
    "colab_type": "code",
    "id": "KQVVD6blRgif"
   },
   "outputs": [],
   "source": [
    "import seaborn as sns"
   ]
  },
  {
   "cell_type": "code",
   "execution_count": 0,
   "metadata": {
    "colab": {
     "base_uri": "https://localhost:8080/",
     "height": 302
    },
    "colab_type": "code",
    "id": "fqszlUOWRhXY",
    "outputId": "a7550d60-1333-4ac1-ad3f-f1e18e76e745"
   },
   "outputs": [
    {
     "data": {
      "text/plain": [
       "<matplotlib.axes._subplots.AxesSubplot at 0x7fc21fc77cf8>"
      ]
     },
     "execution_count": 127,
     "metadata": {
      "tags": []
     },
     "output_type": "execute_result"
    },
    {
     "data": {
      "image/png": "[encoded data removed]",
      "text/plain": [
       "<Figure size 432x288 with 1 Axes>"
      ]
     },
     "metadata": {
      "tags": []
     },
     "output_type": "display_data"
    }
   ],
   "source": [
    "sns.boxplot(X['Kilometers_Driven'])\n",
    "\n"
   ]
  },
  {
   "cell_type": "code",
   "execution_count": 0,
   "metadata": {
    "colab": {
     "base_uri": "https://localhost:8080/",
     "height": 302
    },
    "colab_type": "code",
    "id": "NRPSbELsRhiM",
    "outputId": "a866584e-ed68-4d4b-8ede-cfc62326bf17"
   },
   "outputs": [
    {
     "data": {
      "text/plain": [
       "<matplotlib.axes._subplots.AxesSubplot at 0x7fc2158d8160>"
      ]
     },
     "execution_count": 128,
     "metadata": {
      "tags": []
     },
     "output_type": "execute_result"
    },
    {
     "data": {
      "image/png": "[encoded data removed]",
      "text/plain": [
       "<Figure size 432x288 with 1 Axes>"
      ]
     },
     "metadata": {
      "tags": []
     },
     "output_type": "display_data"
    }
   ],
   "source": [
    "sns.boxplot(X['Mileage'])\n"
   ]
  },
  {
   "cell_type": "code",
   "execution_count": 0,
   "metadata": {
    "colab": {
     "base_uri": "https://localhost:8080/",
     "height": 302
    },
    "colab_type": "code",
    "id": "XEmFec-yRhrx",
    "outputId": "48a59fdb-e630-4efb-ced8-fcb3d36b08e5"
   },
   "outputs": [
    {
     "data": {
      "text/plain": [
       "<matplotlib.axes._subplots.AxesSubplot at 0x7fc2176096a0>"
      ]
     },
     "execution_count": 129,
     "metadata": {
      "tags": []
     },
     "output_type": "execute_result"
    },
    {
     "data": {
      "image/png": "[encoded data removed]",
      "text/plain": [
       "<Figure size 432x288 with 1 Axes>"
      ]
     },
     "metadata": {
      "tags": []
     },
     "output_type": "display_data"
    }
   ],
   "source": [
    "sns.boxplot(X['Engine'])\n"
   ]
  },
  {
   "cell_type": "code",
   "execution_count": 0,
   "metadata": {
    "colab": {
     "base_uri": "https://localhost:8080/",
     "height": 302
    },
    "colab_type": "code",
    "id": "iT13gFk_RiPn",
    "outputId": "733708d1-4519-4798-9fec-d80875799bc8"
   },
   "outputs": [
    {
     "data": {
      "text/plain": [
       "<matplotlib.axes._subplots.AxesSubplot at 0x7fc217572b38>"
      ]
     },
     "execution_count": 130,
     "metadata": {
      "tags": []
     },
     "output_type": "execute_result"
    },
    {
     "data": {
      "image/png": "[encoded data removed]",
      "text/plain": [
       "<Figure size 432x288 with 1 Axes>"
      ]
     },
     "metadata": {
      "tags": []
     },
     "output_type": "display_data"
    }
   ],
   "source": [
    "\n",
    "sns.boxplot(X['Power'])\n"
   ]
  },
  {
   "cell_type": "code",
   "execution_count": 0,
   "metadata": {
    "colab": {
     "base_uri": "https://localhost:8080/",
     "height": 302
    },
    "colab_type": "code",
    "id": "h1vGfLFWRiZ0",
    "outputId": "1db4f4bc-0134-433f-e058-918f6384c185"
   },
   "outputs": [
    {
     "data": {
      "text/plain": [
       "<matplotlib.axes._subplots.AxesSubplot at 0x7fc21eeb6a20>"
      ]
     },
     "execution_count": 131,
     "metadata": {
      "tags": []
     },
     "output_type": "execute_result"
    },
    {
     "data": {
      "image/png": "[encoded data removed]",
      "text/plain": [
       "<Figure size 432x288 with 1 Axes>"
      ]
     },
     "metadata": {
      "tags": []
     },
     "output_type": "display_data"
    }
   ],
   "source": [
    "\n",
    "sns.boxplot(y)"
   ]
  },
  {
   "cell_type": "code",
   "execution_count": 0,
   "metadata": {
    "colab": {},
    "colab_type": "code",
    "id": "qGwgaKCoRijz"
   },
   "outputs": [],
   "source": [
    "#There are significant outliers in the data which need to be eliminated"
   ]
  },
  {
   "cell_type": "code",
   "execution_count": 0,
   "metadata": {
    "colab": {},
    "colab_type": "code",
    "id": "36RLQQBeRiuF"
   },
   "outputs": [],
   "source": [
    "#We remove the outliers using two methods, Z score calculation and IQR calculations, we store the result in two data frames"
   ]
  },
  {
   "cell_type": "code",
   "execution_count": 0,
   "metadata": {
    "colab": {
     "base_uri": "https://localhost:8080/",
     "height": 204
    },
    "colab_type": "code",
    "id": "YtHhoj97Ri4p",
    "outputId": "ff2e01e0-c851-49c7-919e-22121af7395f"
   },
   "outputs": [
    {
     "data": {
      "text/html": [
       "<div>\n",
       "<style scoped>\n",
       "    .dataframe tbody tr th:only-of-type {\n",
       "        vertical-align: middle;\n",
       "    }\n",
       "\n",
       "    .dataframe tbody tr th {\n",
       "        vertical-align: top;\n",
       "    }\n",
       "\n",
       "    .dataframe thead th {\n",
       "        text-align: right;\n",
       "    }\n",
       "</style>\n",
       "<table border=\"1\" class=\"dataframe\">\n",
       "  <thead>\n",
       "    <tr style=\"text-align: right;\">\n",
       "      <th></th>\n",
       "      <th>Name</th>\n",
       "      <th>Location</th>\n",
       "      <th>Year</th>\n",
       "      <th>Kilometers_Driven</th>\n",
       "      <th>Fuel_Type</th>\n",
       "      <th>Transmission</th>\n",
       "      <th>Owner_Type</th>\n",
       "      <th>Mileage</th>\n",
       "      <th>Engine</th>\n",
       "      <th>Power</th>\n",
       "      <th>Seats</th>\n",
       "      <th>Price</th>\n",
       "    </tr>\n",
       "  </thead>\n",
       "  <tbody>\n",
       "    <tr>\n",
       "      <th>0</th>\n",
       "      <td>Maruti</td>\n",
       "      <td>Mumbai</td>\n",
       "      <td>2010</td>\n",
       "      <td>72000</td>\n",
       "      <td>CNG</td>\n",
       "      <td>Manual</td>\n",
       "      <td>First</td>\n",
       "      <td>26.60</td>\n",
       "      <td>998.0</td>\n",
       "      <td>58.16</td>\n",
       "      <td>5.0</td>\n",
       "      <td>1.75</td>\n",
       "    </tr>\n",
       "    <tr>\n",
       "      <th>1</th>\n",
       "      <td>Hyundai</td>\n",
       "      <td>Pune</td>\n",
       "      <td>2015</td>\n",
       "      <td>41000</td>\n",
       "      <td>Diesel</td>\n",
       "      <td>Manual</td>\n",
       "      <td>First</td>\n",
       "      <td>19.67</td>\n",
       "      <td>1582.0</td>\n",
       "      <td>126.20</td>\n",
       "      <td>5.0</td>\n",
       "      <td>12.50</td>\n",
       "    </tr>\n",
       "    <tr>\n",
       "      <th>2</th>\n",
       "      <td>Honda</td>\n",
       "      <td>Chennai</td>\n",
       "      <td>2011</td>\n",
       "      <td>46000</td>\n",
       "      <td>Petrol</td>\n",
       "      <td>Manual</td>\n",
       "      <td>First</td>\n",
       "      <td>18.20</td>\n",
       "      <td>1199.0</td>\n",
       "      <td>88.70</td>\n",
       "      <td>5.0</td>\n",
       "      <td>4.50</td>\n",
       "    </tr>\n",
       "    <tr>\n",
       "      <th>3</th>\n",
       "      <td>Maruti</td>\n",
       "      <td>Chennai</td>\n",
       "      <td>2012</td>\n",
       "      <td>87000</td>\n",
       "      <td>Diesel</td>\n",
       "      <td>Manual</td>\n",
       "      <td>First</td>\n",
       "      <td>20.77</td>\n",
       "      <td>1248.0</td>\n",
       "      <td>88.76</td>\n",
       "      <td>7.0</td>\n",
       "      <td>6.00</td>\n",
       "    </tr>\n",
       "    <tr>\n",
       "      <th>4</th>\n",
       "      <td>Audi</td>\n",
       "      <td>Coimbatore</td>\n",
       "      <td>2013</td>\n",
       "      <td>40670</td>\n",
       "      <td>Diesel</td>\n",
       "      <td>Automatic</td>\n",
       "      <td>Second</td>\n",
       "      <td>15.20</td>\n",
       "      <td>1968.0</td>\n",
       "      <td>140.80</td>\n",
       "      <td>5.0</td>\n",
       "      <td>17.74</td>\n",
       "    </tr>\n",
       "  </tbody>\n",
       "</table>\n",
       "</div>"
      ],
      "text/plain": [
       "      Name    Location  Year  Kilometers_Driven  ...  Engine   Power Seats  Price\n",
       "0   Maruti      Mumbai  2010              72000  ...   998.0   58.16   5.0   1.75\n",
       "1  Hyundai        Pune  2015              41000  ...  1582.0  126.20   5.0  12.50\n",
       "2    Honda     Chennai  2011              46000  ...  1199.0   88.70   5.0   4.50\n",
       "3   Maruti     Chennai  2012              87000  ...  1248.0   88.76   7.0   6.00\n",
       "4     Audi  Coimbatore  2013              40670  ...  1968.0  140.80   5.0  17.74\n",
       "\n",
       "[5 rows x 12 columns]"
      ]
     },
     "execution_count": 151,
     "metadata": {
      "tags": []
     },
     "output_type": "execute_result"
    }
   ],
   "source": [
    "# using IQR\n",
    "X.head()"
   ]
  },
  {
   "cell_type": "code",
   "execution_count": 0,
   "metadata": {
    "colab": {
     "base_uri": "https://localhost:8080/",
     "height": 357
    },
    "colab_type": "code",
    "id": "kkAwP6daRjBw",
    "outputId": "1b078bb4-697e-495a-930d-089a927f1b97"
   },
   "outputs": [
    {
     "name": "stdout",
     "output_type": "stream",
     "text": [
      "38980.25\n",
      "<class 'pandas.core.frame.DataFrame'>\n",
      "Int64Index: 5673 entries, 0 to 5974\n",
      "Data columns (total 12 columns):\n",
      " #   Column             Non-Null Count  Dtype  \n",
      "---  ------             --------------  -----  \n",
      " 0   Name               5673 non-null   object \n",
      " 1   Location           5673 non-null   object \n",
      " 2   Year               5673 non-null   int64  \n",
      " 3   Kilometers_Driven  5673 non-null   int64  \n",
      " 4   Fuel_Type          5673 non-null   object \n",
      " 5   Transmission       5673 non-null   object \n",
      " 6   Owner_Type         5673 non-null   object \n",
      " 7   Mileage            5673 non-null   float64\n",
      " 8   Engine             5673 non-null   float64\n",
      " 9   Power              5673 non-null   float64\n",
      " 10  Seats              5673 non-null   float64\n",
      " 11  Price              5673 non-null   float64\n",
      "dtypes: float64(5), int64(2), object(5)\n",
      "memory usage: 576.2+ KB\n"
     ]
    }
   ],
   "source": [
    "Q1 = X['Kilometers_Driven'].quantile(0.25)\n",
    "Q3 = X['Kilometers_Driven'].quantile(0.75)\n",
    "IQR = Q3 - Q1\n",
    "print(IQR)\n",
    "M = X[~((X['Kilometers_Driven']< Q1-1.5*IQR)|(X['Kilometers_Driven']> Q3+1.5*IQR))]\n",
    "M.head()\n",
    "M.info()"
   ]
  },
  {
   "cell_type": "code",
   "execution_count": 0,
   "metadata": {
    "colab": {
     "base_uri": "https://localhost:8080/",
     "height": 302
    },
    "colab_type": "code",
    "id": "ppPWGd61RjKc",
    "outputId": "f9195085-46fa-41d7-f1ce-24e1a94a7bcc"
   },
   "outputs": [
    {
     "data": {
      "text/plain": [
       "<matplotlib.axes._subplots.AxesSubplot at 0x7fc215761128>"
      ]
     },
     "execution_count": 198,
     "metadata": {
      "tags": []
     },
     "output_type": "execute_result"
    },
    {
     "data": {
      "image/png": "[encoded data removed]",
      "text/plain": [
       "<Figure size 432x288 with 1 Axes>"
      ]
     },
     "metadata": {
      "tags": []
     },
     "output_type": "display_data"
    }
   ],
   "source": [
    "sns.boxplot(X['Kilometers_Driven'])"
   ]
  },
  {
   "cell_type": "code",
   "execution_count": 0,
   "metadata": {
    "colab": {
     "base_uri": "https://localhost:8080/",
     "height": 493
    },
    "colab_type": "code",
    "id": "Q2Ri_c7YRjSz",
    "outputId": "8b6d84be-e466-474c-d19e-59fce8a2932a",
    "scrolled": true
   },
   "outputs": [
    {
     "name": "stdout",
     "output_type": "stream",
     "text": [
      "5.700000000000001\n",
      "      Name    Location  Year  Kilometers_Driven  ...  Engine   Power Seats  Price\n",
      "0   Maruti      Mumbai  2010              72000  ...   998.0   58.16   5.0   1.75\n",
      "1  Hyundai        Pune  2015              41000  ...  1582.0  126.20   5.0  12.50\n",
      "2    Honda     Chennai  2011              46000  ...  1199.0   88.70   5.0   4.50\n",
      "3   Maruti     Chennai  2012              87000  ...  1248.0   88.76   7.0   6.00\n",
      "4     Audi  Coimbatore  2013              40670  ...  1968.0  140.80   5.0  17.74\n",
      "\n",
      "[5 rows x 12 columns]\n",
      "<class 'pandas.core.frame.DataFrame'>\n",
      "Int64Index: 5631 entries, 0 to 5974\n",
      "Data columns (total 12 columns):\n",
      " #   Column             Non-Null Count  Dtype  \n",
      "---  ------             --------------  -----  \n",
      " 0   Name               5631 non-null   object \n",
      " 1   Location           5631 non-null   object \n",
      " 2   Year               5631 non-null   int64  \n",
      " 3   Kilometers_Driven  5631 non-null   int64  \n",
      " 4   Fuel_Type          5631 non-null   object \n",
      " 5   Transmission       5631 non-null   object \n",
      " 6   Owner_Type         5631 non-null   object \n",
      " 7   Mileage            5631 non-null   float64\n",
      " 8   Engine             5631 non-null   float64\n",
      " 9   Power              5631 non-null   float64\n",
      " 10  Seats              5631 non-null   float64\n",
      " 11  Price              5631 non-null   float64\n",
      "dtypes: float64(5), int64(2), object(5)\n",
      "memory usage: 571.9+ KB\n"
     ]
    }
   ],
   "source": [
    "Q1 = M['Mileage'].quantile(0.25)\n",
    "Q3 = M['Mileage'].quantile(0.75)\n",
    "IQR = Q3 - Q1\n",
    "print(IQR)\n",
    "M = M[~((M['Mileage']< Q1-1.5*IQR)|(M['Mileage']> Q3+1.5*IQR))]\n",
    "print(M.head())\n",
    "M.info()"
   ]
  },
  {
   "cell_type": "code",
   "execution_count": 0,
   "metadata": {
    "colab": {
     "base_uri": "https://localhost:8080/",
     "height": 493
    },
    "colab_type": "code",
    "id": "aTkpadr_RjaQ",
    "outputId": "c1c014de-56d4-4ad2-b765-823cc402171d"
   },
   "outputs": [
    {
     "name": "stdout",
     "output_type": "stream",
     "text": [
      "770.0\n",
      "      Name    Location  Year  Kilometers_Driven  ...  Engine   Power Seats  Price\n",
      "0   Maruti      Mumbai  2010              72000  ...   998.0   58.16   5.0   1.75\n",
      "1  Hyundai        Pune  2015              41000  ...  1582.0  126.20   5.0  12.50\n",
      "2    Honda     Chennai  2011              46000  ...  1199.0   88.70   5.0   4.50\n",
      "3   Maruti     Chennai  2012              87000  ...  1248.0   88.76   7.0   6.00\n",
      "4     Audi  Coimbatore  2013              40670  ...  1968.0  140.80   5.0  17.74\n",
      "\n",
      "[5 rows x 12 columns]\n",
      "<class 'pandas.core.frame.DataFrame'>\n",
      "Int64Index: 5577 entries, 0 to 5974\n",
      "Data columns (total 12 columns):\n",
      " #   Column             Non-Null Count  Dtype  \n",
      "---  ------             --------------  -----  \n",
      " 0   Name               5577 non-null   object \n",
      " 1   Location           5577 non-null   object \n",
      " 2   Year               5577 non-null   int64  \n",
      " 3   Kilometers_Driven  5577 non-null   int64  \n",
      " 4   Fuel_Type          5577 non-null   object \n",
      " 5   Transmission       5577 non-null   object \n",
      " 6   Owner_Type         5577 non-null   object \n",
      " 7   Mileage            5577 non-null   float64\n",
      " 8   Engine             5577 non-null   float64\n",
      " 9   Power              5577 non-null   float64\n",
      " 10  Seats              5577 non-null   float64\n",
      " 11  Price              5577 non-null   float64\n",
      "dtypes: float64(5), int64(2), object(5)\n",
      "memory usage: 566.4+ KB\n"
     ]
    }
   ],
   "source": [
    "Q1 = M['Engine'].quantile(0.25)\n",
    "Q3 = M['Engine'].quantile(0.75)\n",
    "IQR = Q3 - Q1\n",
    "print(IQR)\n",
    "M = M[~((M['Engine']< Q1-1.5*IQR)|(M['Engine']> Q3+1.5*IQR))]\n",
    "print(M.head())\n",
    "M.info()"
   ]
  },
  {
   "cell_type": "code",
   "execution_count": 0,
   "metadata": {
    "colab": {
     "base_uri": "https://localhost:8080/",
     "height": 493
    },
    "colab_type": "code",
    "id": "jWfhoPqTRjie",
    "outputId": "6438dcd7-5dd5-4301-f40f-b3763fc9ce0f"
   },
   "outputs": [
    {
     "name": "stdout",
     "output_type": "stream",
     "text": [
      "63.03\n",
      "      Name    Location  Year  Kilometers_Driven  ...  Engine   Power Seats  Price\n",
      "0   Maruti      Mumbai  2010              72000  ...   998.0   58.16   5.0   1.75\n",
      "1  Hyundai        Pune  2015              41000  ...  1582.0  126.20   5.0  12.50\n",
      "2    Honda     Chennai  2011              46000  ...  1199.0   88.70   5.0   4.50\n",
      "3   Maruti     Chennai  2012              87000  ...  1248.0   88.76   7.0   6.00\n",
      "4     Audi  Coimbatore  2013              40670  ...  1968.0  140.80   5.0  17.74\n",
      "\n",
      "[5 rows x 12 columns]\n",
      "<class 'pandas.core.frame.DataFrame'>\n",
      "Int64Index: 5385 entries, 0 to 5974\n",
      "Data columns (total 12 columns):\n",
      " #   Column             Non-Null Count  Dtype  \n",
      "---  ------             --------------  -----  \n",
      " 0   Name               5385 non-null   object \n",
      " 1   Location           5385 non-null   object \n",
      " 2   Year               5385 non-null   int64  \n",
      " 3   Kilometers_Driven  5385 non-null   int64  \n",
      " 4   Fuel_Type          5385 non-null   object \n",
      " 5   Transmission       5385 non-null   object \n",
      " 6   Owner_Type         5385 non-null   object \n",
      " 7   Mileage            5385 non-null   float64\n",
      " 8   Engine             5385 non-null   float64\n",
      " 9   Power              5385 non-null   float64\n",
      " 10  Seats              5385 non-null   float64\n",
      " 11  Price              5385 non-null   float64\n",
      "dtypes: float64(5), int64(2), object(5)\n",
      "memory usage: 546.9+ KB\n"
     ]
    }
   ],
   "source": [
    "Q1 = M['Power'].quantile(0.25)\n",
    "Q3 = M['Power'].quantile(0.75)\n",
    "IQR = Q3 - Q1\n",
    "print(IQR)\n",
    "M = M[~((M['Power']< Q1-1.5*IQR)|(M['Power']> Q3+1.5*IQR))]\n",
    "print(M.head())\n",
    "M.info()"
   ]
  },
  {
   "cell_type": "code",
   "execution_count": 0,
   "metadata": {
    "colab": {
     "base_uri": "https://localhost:8080/",
     "height": 493
    },
    "colab_type": "code",
    "id": "aNEGbTyYRjpp",
    "outputId": "05ce5c99-c093-465b-ad10-bdba9ad722ee"
   },
   "outputs": [
    {
     "name": "stdout",
     "output_type": "stream",
     "text": [
      "5.5\n",
      "      Name   Location  Year  Kilometers_Driven  ...  Engine   Power Seats  Price\n",
      "0   Maruti     Mumbai  2010              72000  ...   998.0   58.16   5.0   1.75\n",
      "1  Hyundai       Pune  2015              41000  ...  1582.0  126.20   5.0  12.50\n",
      "2    Honda    Chennai  2011              46000  ...  1199.0   88.70   5.0   4.50\n",
      "3   Maruti    Chennai  2012              87000  ...  1248.0   88.76   7.0   6.00\n",
      "5  Hyundai  Hyderabad  2012              75000  ...   814.0   55.20   5.0   2.35\n",
      "\n",
      "[5 rows x 12 columns]\n",
      "<class 'pandas.core.frame.DataFrame'>\n",
      "Int64Index: 4780 entries, 0 to 5974\n",
      "Data columns (total 12 columns):\n",
      " #   Column             Non-Null Count  Dtype  \n",
      "---  ------             --------------  -----  \n",
      " 0   Name               4780 non-null   object \n",
      " 1   Location           4780 non-null   object \n",
      " 2   Year               4780 non-null   int64  \n",
      " 3   Kilometers_Driven  4780 non-null   int64  \n",
      " 4   Fuel_Type          4780 non-null   object \n",
      " 5   Transmission       4780 non-null   object \n",
      " 6   Owner_Type         4780 non-null   object \n",
      " 7   Mileage            4780 non-null   float64\n",
      " 8   Engine             4780 non-null   float64\n",
      " 9   Power              4780 non-null   float64\n",
      " 10  Seats              4780 non-null   float64\n",
      " 11  Price              4780 non-null   float64\n",
      "dtypes: float64(5), int64(2), object(5)\n",
      "memory usage: 485.5+ KB\n"
     ]
    }
   ],
   "source": [
    "Q1 = M['Price'].quantile(0.25)\n",
    "Q3 = M['Price'].quantile(0.75)\n",
    "IQR = Q3 - Q1\n",
    "print(IQR)\n",
    "M = M[~((M['Price']< Q1-1.5*IQR)|(M['Price']> Q3+1.5*IQR))]\n",
    "print(M.head())\n",
    "M.info()"
   ]
  },
  {
   "cell_type": "code",
   "execution_count": 487,
   "metadata": {
    "colab": {
     "base_uri": "https://localhost:8080/",
     "height": 102
    },
    "colab_type": "code",
    "id": "G8vu0oD_Rjw4",
    "outputId": "178b019a-09ee-4588-ca3d-8e6851a48fbf"
   },
   "outputs": [
    {
     "data": {
      "text/plain": [
       "array(['Maruti', 'Hyundai', 'Honda', 'Nissan', 'Volkswagen', 'Tata',\n",
       "       'Mitsubishi', 'Renault', 'Toyota', 'Mahindra', 'Audi', 'Ford',\n",
       "       'Mercedes-Benz', 'BMW', 'Datsun', 'Chevrolet', 'Skoda', 'Fiat',\n",
       "       'Volvo', 'Land', 'Mini', 'Ambassador', 'Jeep', 'ISUZU', 'Force'],\n",
       "      dtype=object)"
      ]
     },
     "execution_count": 487,
     "metadata": {
      "tags": []
     },
     "output_type": "execute_result"
    }
   ],
   "source": [
    "M.shape\n",
    "M['Name'].unique()"
   ]
  },
  {
   "cell_type": "code",
   "execution_count": 0,
   "metadata": {
    "colab": {},
    "colab_type": "code",
    "id": "8pAUF2t2Rj3y"
   },
   "outputs": [],
   "source": [
    "from scipy import stats"
   ]
  },
  {
   "cell_type": "code",
   "execution_count": 0,
   "metadata": {
    "colab": {
     "base_uri": "https://localhost:8080/",
     "height": 527
    },
    "colab_type": "code",
    "id": "Rc10w_qXRj_m",
    "outputId": "b25999fc-ca80-4f88-9ab0-10656ad5c7b7"
   },
   "outputs": [
    {
     "name": "stdout",
     "output_type": "stream",
     "text": [
      "<class 'pandas.core.frame.DataFrame'>\n",
      "Int64Index: 5865 entries, 0 to 5974\n",
      "Data columns (total 12 columns):\n",
      " #   Column             Non-Null Count  Dtype  \n",
      "---  ------             --------------  -----  \n",
      " 0   Name               5865 non-null   object \n",
      " 1   Location           5865 non-null   object \n",
      " 2   Year               5865 non-null   int64  \n",
      " 3   Kilometers_Driven  5865 non-null   int64  \n",
      " 4   Fuel_Type          5865 non-null   object \n",
      " 5   Transmission       5865 non-null   object \n",
      " 6   Owner_Type         5865 non-null   object \n",
      " 7   Mileage            5865 non-null   float64\n",
      " 8   Engine             5865 non-null   float64\n",
      " 9   Power              5865 non-null   float64\n",
      " 10  Seats              5865 non-null   float64\n",
      " 11  Price              5865 non-null   float64\n",
      "dtypes: float64(5), int64(2), object(5)\n",
      "memory usage: 595.7+ KB\n"
     ]
    },
    {
     "data": {
      "text/html": [
       "<div>\n",
       "<style scoped>\n",
       "    .dataframe tbody tr th:only-of-type {\n",
       "        vertical-align: middle;\n",
       "    }\n",
       "\n",
       "    .dataframe tbody tr th {\n",
       "        vertical-align: top;\n",
       "    }\n",
       "\n",
       "    .dataframe thead th {\n",
       "        text-align: right;\n",
       "    }\n",
       "</style>\n",
       "<table border=\"1\" class=\"dataframe\">\n",
       "  <thead>\n",
       "    <tr style=\"text-align: right;\">\n",
       "      <th></th>\n",
       "      <th>Name</th>\n",
       "      <th>Location</th>\n",
       "      <th>Year</th>\n",
       "      <th>Kilometers_Driven</th>\n",
       "      <th>Fuel_Type</th>\n",
       "      <th>Transmission</th>\n",
       "      <th>Owner_Type</th>\n",
       "      <th>Mileage</th>\n",
       "      <th>Engine</th>\n",
       "      <th>Power</th>\n",
       "      <th>Seats</th>\n",
       "      <th>Price</th>\n",
       "    </tr>\n",
       "  </thead>\n",
       "  <tbody>\n",
       "    <tr>\n",
       "      <th>0</th>\n",
       "      <td>Maruti</td>\n",
       "      <td>Mumbai</td>\n",
       "      <td>2010</td>\n",
       "      <td>72000</td>\n",
       "      <td>CNG</td>\n",
       "      <td>Manual</td>\n",
       "      <td>First</td>\n",
       "      <td>26.60</td>\n",
       "      <td>998.0</td>\n",
       "      <td>58.16</td>\n",
       "      <td>5.0</td>\n",
       "      <td>1.75</td>\n",
       "    </tr>\n",
       "    <tr>\n",
       "      <th>1</th>\n",
       "      <td>Hyundai</td>\n",
       "      <td>Pune</td>\n",
       "      <td>2015</td>\n",
       "      <td>41000</td>\n",
       "      <td>Diesel</td>\n",
       "      <td>Manual</td>\n",
       "      <td>First</td>\n",
       "      <td>19.67</td>\n",
       "      <td>1582.0</td>\n",
       "      <td>126.20</td>\n",
       "      <td>5.0</td>\n",
       "      <td>12.50</td>\n",
       "    </tr>\n",
       "    <tr>\n",
       "      <th>2</th>\n",
       "      <td>Honda</td>\n",
       "      <td>Chennai</td>\n",
       "      <td>2011</td>\n",
       "      <td>46000</td>\n",
       "      <td>Petrol</td>\n",
       "      <td>Manual</td>\n",
       "      <td>First</td>\n",
       "      <td>18.20</td>\n",
       "      <td>1199.0</td>\n",
       "      <td>88.70</td>\n",
       "      <td>5.0</td>\n",
       "      <td>4.50</td>\n",
       "    </tr>\n",
       "    <tr>\n",
       "      <th>3</th>\n",
       "      <td>Maruti</td>\n",
       "      <td>Chennai</td>\n",
       "      <td>2012</td>\n",
       "      <td>87000</td>\n",
       "      <td>Diesel</td>\n",
       "      <td>Manual</td>\n",
       "      <td>First</td>\n",
       "      <td>20.77</td>\n",
       "      <td>1248.0</td>\n",
       "      <td>88.76</td>\n",
       "      <td>7.0</td>\n",
       "      <td>6.00</td>\n",
       "    </tr>\n",
       "    <tr>\n",
       "      <th>4</th>\n",
       "      <td>Audi</td>\n",
       "      <td>Coimbatore</td>\n",
       "      <td>2013</td>\n",
       "      <td>40670</td>\n",
       "      <td>Diesel</td>\n",
       "      <td>Automatic</td>\n",
       "      <td>Second</td>\n",
       "      <td>15.20</td>\n",
       "      <td>1968.0</td>\n",
       "      <td>140.80</td>\n",
       "      <td>5.0</td>\n",
       "      <td>17.74</td>\n",
       "    </tr>\n",
       "  </tbody>\n",
       "</table>\n",
       "</div>"
      ],
      "text/plain": [
       "      Name    Location  Year  Kilometers_Driven  ...  Engine   Power Seats  Price\n",
       "0   Maruti      Mumbai  2010              72000  ...   998.0   58.16   5.0   1.75\n",
       "1  Hyundai        Pune  2015              41000  ...  1582.0  126.20   5.0  12.50\n",
       "2    Honda     Chennai  2011              46000  ...  1199.0   88.70   5.0   4.50\n",
       "3   Maruti     Chennai  2012              87000  ...  1248.0   88.76   7.0   6.00\n",
       "4     Audi  Coimbatore  2013              40670  ...  1968.0  140.80   5.0  17.74\n",
       "\n",
       "[5 rows x 12 columns]"
      ]
     },
     "execution_count": 176,
     "metadata": {
      "tags": []
     },
     "output_type": "execute_result"
    }
   ],
   "source": [
    "zScore = np.abs(stats.zscore(X['Kilometers_Driven']))\n",
    "R = X[zScore < 3]\n",
    "R.info()\n",
    "R.head()"
   ]
  },
  {
   "cell_type": "code",
   "execution_count": 0,
   "metadata": {
    "colab": {
     "base_uri": "https://localhost:8080/",
     "height": 527
    },
    "colab_type": "code",
    "id": "2Huqy9TuRkGq",
    "outputId": "6ef07f4d-73d6-4e3d-9b0d-a8b9fad7abe3",
    "scrolled": true
   },
   "outputs": [
    {
     "name": "stdout",
     "output_type": "stream",
     "text": [
      "<class 'pandas.core.frame.DataFrame'>\n",
      "Int64Index: 5592 entries, 0 to 5974\n",
      "Data columns (total 12 columns):\n",
      " #   Column             Non-Null Count  Dtype  \n",
      "---  ------             --------------  -----  \n",
      " 0   Name               5592 non-null   object \n",
      " 1   Location           5592 non-null   object \n",
      " 2   Year               5592 non-null   int64  \n",
      " 3   Kilometers_Driven  5592 non-null   int64  \n",
      " 4   Fuel_Type          5592 non-null   object \n",
      " 5   Transmission       5592 non-null   object \n",
      " 6   Owner_Type         5592 non-null   object \n",
      " 7   Mileage            5592 non-null   float64\n",
      " 8   Engine             5592 non-null   float64\n",
      " 9   Power              5592 non-null   float64\n",
      " 10  Seats              5592 non-null   float64\n",
      " 11  Price              5592 non-null   float64\n",
      "dtypes: float64(5), int64(2), object(5)\n",
      "memory usage: 567.9+ KB\n"
     ]
    },
    {
     "data": {
      "text/html": [
       "<div>\n",
       "<style scoped>\n",
       "    .dataframe tbody tr th:only-of-type {\n",
       "        vertical-align: middle;\n",
       "    }\n",
       "\n",
       "    .dataframe tbody tr th {\n",
       "        vertical-align: top;\n",
       "    }\n",
       "\n",
       "    .dataframe thead th {\n",
       "        text-align: right;\n",
       "    }\n",
       "</style>\n",
       "<table border=\"1\" class=\"dataframe\">\n",
       "  <thead>\n",
       "    <tr style=\"text-align: right;\">\n",
       "      <th></th>\n",
       "      <th>Name</th>\n",
       "      <th>Location</th>\n",
       "      <th>Year</th>\n",
       "      <th>Kilometers_Driven</th>\n",
       "      <th>Fuel_Type</th>\n",
       "      <th>Transmission</th>\n",
       "      <th>Owner_Type</th>\n",
       "      <th>Mileage</th>\n",
       "      <th>Engine</th>\n",
       "      <th>Power</th>\n",
       "      <th>Seats</th>\n",
       "      <th>Price</th>\n",
       "    </tr>\n",
       "  </thead>\n",
       "  <tbody>\n",
       "    <tr>\n",
       "      <th>0</th>\n",
       "      <td>Maruti</td>\n",
       "      <td>Mumbai</td>\n",
       "      <td>2010</td>\n",
       "      <td>72000</td>\n",
       "      <td>CNG</td>\n",
       "      <td>Manual</td>\n",
       "      <td>First</td>\n",
       "      <td>26.60</td>\n",
       "      <td>998.0</td>\n",
       "      <td>58.16</td>\n",
       "      <td>5.0</td>\n",
       "      <td>1.75</td>\n",
       "    </tr>\n",
       "    <tr>\n",
       "      <th>1</th>\n",
       "      <td>Hyundai</td>\n",
       "      <td>Pune</td>\n",
       "      <td>2015</td>\n",
       "      <td>41000</td>\n",
       "      <td>Diesel</td>\n",
       "      <td>Manual</td>\n",
       "      <td>First</td>\n",
       "      <td>19.67</td>\n",
       "      <td>1582.0</td>\n",
       "      <td>126.20</td>\n",
       "      <td>5.0</td>\n",
       "      <td>12.50</td>\n",
       "    </tr>\n",
       "    <tr>\n",
       "      <th>2</th>\n",
       "      <td>Honda</td>\n",
       "      <td>Chennai</td>\n",
       "      <td>2011</td>\n",
       "      <td>46000</td>\n",
       "      <td>Petrol</td>\n",
       "      <td>Manual</td>\n",
       "      <td>First</td>\n",
       "      <td>18.20</td>\n",
       "      <td>1199.0</td>\n",
       "      <td>88.70</td>\n",
       "      <td>5.0</td>\n",
       "      <td>4.50</td>\n",
       "    </tr>\n",
       "    <tr>\n",
       "      <th>3</th>\n",
       "      <td>Maruti</td>\n",
       "      <td>Chennai</td>\n",
       "      <td>2012</td>\n",
       "      <td>87000</td>\n",
       "      <td>Diesel</td>\n",
       "      <td>Manual</td>\n",
       "      <td>First</td>\n",
       "      <td>20.77</td>\n",
       "      <td>1248.0</td>\n",
       "      <td>88.76</td>\n",
       "      <td>7.0</td>\n",
       "      <td>6.00</td>\n",
       "    </tr>\n",
       "    <tr>\n",
       "      <th>4</th>\n",
       "      <td>Audi</td>\n",
       "      <td>Coimbatore</td>\n",
       "      <td>2013</td>\n",
       "      <td>40670</td>\n",
       "      <td>Diesel</td>\n",
       "      <td>Automatic</td>\n",
       "      <td>Second</td>\n",
       "      <td>15.20</td>\n",
       "      <td>1968.0</td>\n",
       "      <td>140.80</td>\n",
       "      <td>5.0</td>\n",
       "      <td>17.74</td>\n",
       "    </tr>\n",
       "  </tbody>\n",
       "</table>\n",
       "</div>"
      ],
      "text/plain": [
       "      Name    Location  Year  Kilometers_Driven  ...  Engine   Power Seats  Price\n",
       "0   Maruti      Mumbai  2010              72000  ...   998.0   58.16   5.0   1.75\n",
       "1  Hyundai        Pune  2015              41000  ...  1582.0  126.20   5.0  12.50\n",
       "2    Honda     Chennai  2011              46000  ...  1199.0   88.70   5.0   4.50\n",
       "3   Maruti     Chennai  2012              87000  ...  1248.0   88.76   7.0   6.00\n",
       "4     Audi  Coimbatore  2013              40670  ...  1968.0  140.80   5.0  17.74\n",
       "\n",
       "[5 rows x 12 columns]"
      ]
     },
     "execution_count": 178,
     "metadata": {
      "tags": []
     },
     "output_type": "execute_result"
    }
   ],
   "source": [
    "zScore = np.abs(stats.zscore(R['Mileage']))\n",
    "R = R[zScore < 3]\n",
    "zScore = np.abs(stats.zscore(R['Engine']))\n",
    "R = R[zScore < 3]\n",
    "zScore = np.abs(stats.zscore(R['Power']))\n",
    "R = R[zScore < 3]\n",
    "zScore = np.abs(stats.zscore(R['Price']))\n",
    "R = R[zScore < 3]\n",
    "R.info()\n",
    "R.head()"
   ]
  },
  {
   "cell_type": "code",
   "execution_count": 0,
   "metadata": {
    "colab": {
     "base_uri": "https://localhost:8080/",
     "height": 34
    },
    "colab_type": "code",
    "id": "lJCN4kFRRkOh",
    "outputId": "6c566f9b-491e-423a-dcd4-f729ea4ea887"
   },
   "outputs": [
    {
     "data": {
      "text/plain": [
       "(5872, 12)"
      ]
     },
     "execution_count": 179,
     "metadata": {
      "tags": []
     },
     "output_type": "execute_result"
    }
   ],
   "source": [
    "dfTrain.shape"
   ]
  },
  {
   "cell_type": "code",
   "execution_count": 0,
   "metadata": {
    "colab": {},
    "colab_type": "code",
    "id": "TygK6Nz_eT6L"
   },
   "outputs": [],
   "source": [
    "# Encoding categorical variables, (Owner type : Original encoding, Transmission), (Name location fuelType, One hot encoding)"
   ]
  },
  {
   "cell_type": "code",
   "execution_count": 0,
   "metadata": {
    "colab": {},
    "colab_type": "code",
    "id": "lGmyubfO85ap"
   },
   "outputs": [],
   "source": [
    "from sklearn.preprocessing import OrdinalEncoder, OneHotEncoder, LabelEncoder, LabelBinarizer"
   ]
  },
  {
   "cell_type": "code",
   "execution_count": 0,
   "metadata": {
    "colab": {
     "base_uri": "https://localhost:8080/",
     "height": 241
    },
    "colab_type": "code",
    "id": "XN01K8xc85kJ",
    "outputId": "e0aaf71b-32d9-4c90-f0b2-cb017e78d847"
   },
   "outputs": [
    {
     "data": {
      "text/html": [
       "<div>\n",
       "<style scoped>\n",
       "    .dataframe tbody tr th:only-of-type {\n",
       "        vertical-align: middle;\n",
       "    }\n",
       "\n",
       "    .dataframe tbody tr th {\n",
       "        vertical-align: top;\n",
       "    }\n",
       "\n",
       "    .dataframe thead th {\n",
       "        text-align: right;\n",
       "    }\n",
       "</style>\n",
       "<table border=\"1\" class=\"dataframe\">\n",
       "  <thead>\n",
       "    <tr style=\"text-align: right;\">\n",
       "      <th></th>\n",
       "      <th>Year</th>\n",
       "      <th>Kilometers_Driven</th>\n",
       "      <th>Mileage</th>\n",
       "      <th>Engine</th>\n",
       "      <th>Power</th>\n",
       "      <th>Seats</th>\n",
       "      <th>Price</th>\n",
       "      <th>Name_Ambassador</th>\n",
       "      <th>Name_Audi</th>\n",
       "      <th>Name_BMW</th>\n",
       "      <th>Name_Chevrolet</th>\n",
       "      <th>Name_Datsun</th>\n",
       "      <th>Name_Fiat</th>\n",
       "      <th>Name_Force</th>\n",
       "      <th>Name_Ford</th>\n",
       "      <th>Name_Honda</th>\n",
       "      <th>Name_Hyundai</th>\n",
       "      <th>Name_ISUZU</th>\n",
       "      <th>Name_Jeep</th>\n",
       "      <th>Name_Land</th>\n",
       "      <th>Name_Mahindra</th>\n",
       "      <th>Name_Maruti</th>\n",
       "      <th>Name_Mercedes-Benz</th>\n",
       "      <th>Name_Mini</th>\n",
       "      <th>Name_Mitsubishi</th>\n",
       "      <th>Name_Nissan</th>\n",
       "      <th>Name_Renault</th>\n",
       "      <th>Name_Skoda</th>\n",
       "      <th>Name_Tata</th>\n",
       "      <th>Name_Toyota</th>\n",
       "      <th>Name_Volkswagen</th>\n",
       "      <th>Name_Volvo</th>\n",
       "      <th>Location_Ahmedabad</th>\n",
       "      <th>Location_Bangalore</th>\n",
       "      <th>Location_Chennai</th>\n",
       "      <th>Location_Coimbatore</th>\n",
       "      <th>Location_Delhi</th>\n",
       "      <th>Location_Hyderabad</th>\n",
       "      <th>Location_Jaipur</th>\n",
       "      <th>Location_Kochi</th>\n",
       "      <th>Location_Kolkata</th>\n",
       "      <th>Location_Mumbai</th>\n",
       "      <th>Location_Pune</th>\n",
       "      <th>Fuel_Type_CNG</th>\n",
       "      <th>Fuel_Type_Diesel</th>\n",
       "      <th>Fuel_Type_LPG</th>\n",
       "      <th>Fuel_Type_Petrol</th>\n",
       "      <th>Transmission_Automatic</th>\n",
       "      <th>Transmission_Manual</th>\n",
       "      <th>Owner_Type_First</th>\n",
       "      <th>Owner_Type_Fourth &amp; Above</th>\n",
       "      <th>Owner_Type_Second</th>\n",
       "      <th>Owner_Type_Third</th>\n",
       "    </tr>\n",
       "  </thead>\n",
       "  <tbody>\n",
       "    <tr>\n",
       "      <th>0</th>\n",
       "      <td>2010</td>\n",
       "      <td>72000</td>\n",
       "      <td>26.60</td>\n",
       "      <td>998.0</td>\n",
       "      <td>58.16</td>\n",
       "      <td>5.0</td>\n",
       "      <td>1.75</td>\n",
       "      <td>0</td>\n",
       "      <td>0</td>\n",
       "      <td>0</td>\n",
       "      <td>0</td>\n",
       "      <td>0</td>\n",
       "      <td>0</td>\n",
       "      <td>0</td>\n",
       "      <td>0</td>\n",
       "      <td>0</td>\n",
       "      <td>0</td>\n",
       "      <td>0</td>\n",
       "      <td>0</td>\n",
       "      <td>0</td>\n",
       "      <td>0</td>\n",
       "      <td>1</td>\n",
       "      <td>0</td>\n",
       "      <td>0</td>\n",
       "      <td>0</td>\n",
       "      <td>0</td>\n",
       "      <td>0</td>\n",
       "      <td>0</td>\n",
       "      <td>0</td>\n",
       "      <td>0</td>\n",
       "      <td>0</td>\n",
       "      <td>0</td>\n",
       "      <td>0</td>\n",
       "      <td>0</td>\n",
       "      <td>0</td>\n",
       "      <td>0</td>\n",
       "      <td>0</td>\n",
       "      <td>0</td>\n",
       "      <td>0</td>\n",
       "      <td>0</td>\n",
       "      <td>0</td>\n",
       "      <td>1</td>\n",
       "      <td>0</td>\n",
       "      <td>1</td>\n",
       "      <td>0</td>\n",
       "      <td>0</td>\n",
       "      <td>0</td>\n",
       "      <td>0</td>\n",
       "      <td>1</td>\n",
       "      <td>1</td>\n",
       "      <td>0</td>\n",
       "      <td>0</td>\n",
       "      <td>0</td>\n",
       "    </tr>\n",
       "    <tr>\n",
       "      <th>1</th>\n",
       "      <td>2015</td>\n",
       "      <td>41000</td>\n",
       "      <td>19.67</td>\n",
       "      <td>1582.0</td>\n",
       "      <td>126.20</td>\n",
       "      <td>5.0</td>\n",
       "      <td>12.50</td>\n",
       "      <td>0</td>\n",
       "      <td>0</td>\n",
       "      <td>0</td>\n",
       "      <td>0</td>\n",
       "      <td>0</td>\n",
       "      <td>0</td>\n",
       "      <td>0</td>\n",
       "      <td>0</td>\n",
       "      <td>0</td>\n",
       "      <td>1</td>\n",
       "      <td>0</td>\n",
       "      <td>0</td>\n",
       "      <td>0</td>\n",
       "      <td>0</td>\n",
       "      <td>0</td>\n",
       "      <td>0</td>\n",
       "      <td>0</td>\n",
       "      <td>0</td>\n",
       "      <td>0</td>\n",
       "      <td>0</td>\n",
       "      <td>0</td>\n",
       "      <td>0</td>\n",
       "      <td>0</td>\n",
       "      <td>0</td>\n",
       "      <td>0</td>\n",
       "      <td>0</td>\n",
       "      <td>0</td>\n",
       "      <td>0</td>\n",
       "      <td>0</td>\n",
       "      <td>0</td>\n",
       "      <td>0</td>\n",
       "      <td>0</td>\n",
       "      <td>0</td>\n",
       "      <td>0</td>\n",
       "      <td>0</td>\n",
       "      <td>1</td>\n",
       "      <td>0</td>\n",
       "      <td>1</td>\n",
       "      <td>0</td>\n",
       "      <td>0</td>\n",
       "      <td>0</td>\n",
       "      <td>1</td>\n",
       "      <td>1</td>\n",
       "      <td>0</td>\n",
       "      <td>0</td>\n",
       "      <td>0</td>\n",
       "    </tr>\n",
       "    <tr>\n",
       "      <th>2</th>\n",
       "      <td>2011</td>\n",
       "      <td>46000</td>\n",
       "      <td>18.20</td>\n",
       "      <td>1199.0</td>\n",
       "      <td>88.70</td>\n",
       "      <td>5.0</td>\n",
       "      <td>4.50</td>\n",
       "      <td>0</td>\n",
       "      <td>0</td>\n",
       "      <td>0</td>\n",
       "      <td>0</td>\n",
       "      <td>0</td>\n",
       "      <td>0</td>\n",
       "      <td>0</td>\n",
       "      <td>0</td>\n",
       "      <td>1</td>\n",
       "      <td>0</td>\n",
       "      <td>0</td>\n",
       "      <td>0</td>\n",
       "      <td>0</td>\n",
       "      <td>0</td>\n",
       "      <td>0</td>\n",
       "      <td>0</td>\n",
       "      <td>0</td>\n",
       "      <td>0</td>\n",
       "      <td>0</td>\n",
       "      <td>0</td>\n",
       "      <td>0</td>\n",
       "      <td>0</td>\n",
       "      <td>0</td>\n",
       "      <td>0</td>\n",
       "      <td>0</td>\n",
       "      <td>0</td>\n",
       "      <td>0</td>\n",
       "      <td>1</td>\n",
       "      <td>0</td>\n",
       "      <td>0</td>\n",
       "      <td>0</td>\n",
       "      <td>0</td>\n",
       "      <td>0</td>\n",
       "      <td>0</td>\n",
       "      <td>0</td>\n",
       "      <td>0</td>\n",
       "      <td>0</td>\n",
       "      <td>0</td>\n",
       "      <td>0</td>\n",
       "      <td>1</td>\n",
       "      <td>0</td>\n",
       "      <td>1</td>\n",
       "      <td>1</td>\n",
       "      <td>0</td>\n",
       "      <td>0</td>\n",
       "      <td>0</td>\n",
       "    </tr>\n",
       "    <tr>\n",
       "      <th>3</th>\n",
       "      <td>2012</td>\n",
       "      <td>87000</td>\n",
       "      <td>20.77</td>\n",
       "      <td>1248.0</td>\n",
       "      <td>88.76</td>\n",
       "      <td>7.0</td>\n",
       "      <td>6.00</td>\n",
       "      <td>0</td>\n",
       "      <td>0</td>\n",
       "      <td>0</td>\n",
       "      <td>0</td>\n",
       "      <td>0</td>\n",
       "      <td>0</td>\n",
       "      <td>0</td>\n",
       "      <td>0</td>\n",
       "      <td>0</td>\n",
       "      <td>0</td>\n",
       "      <td>0</td>\n",
       "      <td>0</td>\n",
       "      <td>0</td>\n",
       "      <td>0</td>\n",
       "      <td>1</td>\n",
       "      <td>0</td>\n",
       "      <td>0</td>\n",
       "      <td>0</td>\n",
       "      <td>0</td>\n",
       "      <td>0</td>\n",
       "      <td>0</td>\n",
       "      <td>0</td>\n",
       "      <td>0</td>\n",
       "      <td>0</td>\n",
       "      <td>0</td>\n",
       "      <td>0</td>\n",
       "      <td>0</td>\n",
       "      <td>1</td>\n",
       "      <td>0</td>\n",
       "      <td>0</td>\n",
       "      <td>0</td>\n",
       "      <td>0</td>\n",
       "      <td>0</td>\n",
       "      <td>0</td>\n",
       "      <td>0</td>\n",
       "      <td>0</td>\n",
       "      <td>0</td>\n",
       "      <td>1</td>\n",
       "      <td>0</td>\n",
       "      <td>0</td>\n",
       "      <td>0</td>\n",
       "      <td>1</td>\n",
       "      <td>1</td>\n",
       "      <td>0</td>\n",
       "      <td>0</td>\n",
       "      <td>0</td>\n",
       "    </tr>\n",
       "    <tr>\n",
       "      <th>5</th>\n",
       "      <td>2012</td>\n",
       "      <td>75000</td>\n",
       "      <td>21.10</td>\n",
       "      <td>814.0</td>\n",
       "      <td>55.20</td>\n",
       "      <td>5.0</td>\n",
       "      <td>2.35</td>\n",
       "      <td>0</td>\n",
       "      <td>0</td>\n",
       "      <td>0</td>\n",
       "      <td>0</td>\n",
       "      <td>0</td>\n",
       "      <td>0</td>\n",
       "      <td>0</td>\n",
       "      <td>0</td>\n",
       "      <td>0</td>\n",
       "      <td>1</td>\n",
       "      <td>0</td>\n",
       "      <td>0</td>\n",
       "      <td>0</td>\n",
       "      <td>0</td>\n",
       "      <td>0</td>\n",
       "      <td>0</td>\n",
       "      <td>0</td>\n",
       "      <td>0</td>\n",
       "      <td>0</td>\n",
       "      <td>0</td>\n",
       "      <td>0</td>\n",
       "      <td>0</td>\n",
       "      <td>0</td>\n",
       "      <td>0</td>\n",
       "      <td>0</td>\n",
       "      <td>0</td>\n",
       "      <td>0</td>\n",
       "      <td>0</td>\n",
       "      <td>0</td>\n",
       "      <td>0</td>\n",
       "      <td>1</td>\n",
       "      <td>0</td>\n",
       "      <td>0</td>\n",
       "      <td>0</td>\n",
       "      <td>0</td>\n",
       "      <td>0</td>\n",
       "      <td>0</td>\n",
       "      <td>0</td>\n",
       "      <td>1</td>\n",
       "      <td>0</td>\n",
       "      <td>0</td>\n",
       "      <td>1</td>\n",
       "      <td>1</td>\n",
       "      <td>0</td>\n",
       "      <td>0</td>\n",
       "      <td>0</td>\n",
       "    </tr>\n",
       "  </tbody>\n",
       "</table>\n",
       "</div>"
      ],
      "text/plain": [
       "   Year  Kilometers_Driven  ...  Owner_Type_Second  Owner_Type_Third\n",
       "0  2010              72000  ...                  0                 0\n",
       "1  2015              41000  ...                  0                 0\n",
       "2  2011              46000  ...                  0                 0\n",
       "3  2012              87000  ...                  0                 0\n",
       "5  2012              75000  ...                  0                 0\n",
       "\n",
       "[5 rows x 53 columns]"
      ]
     },
     "execution_count": 210,
     "metadata": {
      "tags": []
     },
     "output_type": "execute_result"
    }
   ],
   "source": [
    "mEnc = pd.get_dummies(M, columns = ['Name', 'Location', 'Fuel_Type', 'Transmission', 'Owner_Type'])\n",
    "mEnc.head()"
   ]
  },
  {
   "cell_type": "code",
   "execution_count": 0,
   "metadata": {
    "colab": {
     "base_uri": "https://localhost:8080/",
     "height": 241
    },
    "colab_type": "code",
    "id": "TK4JaAU085ss",
    "outputId": "2cc61a71-26cc-4c6d-827d-707ebf1f1765"
   },
   "outputs": [
    {
     "data": {
      "text/html": [
       "<div>\n",
       "<style scoped>\n",
       "    .dataframe tbody tr th:only-of-type {\n",
       "        vertical-align: middle;\n",
       "    }\n",
       "\n",
       "    .dataframe tbody tr th {\n",
       "        vertical-align: top;\n",
       "    }\n",
       "\n",
       "    .dataframe thead th {\n",
       "        text-align: right;\n",
       "    }\n",
       "</style>\n",
       "<table border=\"1\" class=\"dataframe\">\n",
       "  <thead>\n",
       "    <tr style=\"text-align: right;\">\n",
       "      <th></th>\n",
       "      <th>Year</th>\n",
       "      <th>Kilometers_Driven</th>\n",
       "      <th>Mileage</th>\n",
       "      <th>Engine</th>\n",
       "      <th>Power</th>\n",
       "      <th>Seats</th>\n",
       "      <th>Name_Ambassador</th>\n",
       "      <th>Name_Audi</th>\n",
       "      <th>Name_BMW</th>\n",
       "      <th>Name_Chevrolet</th>\n",
       "      <th>Name_Datsun</th>\n",
       "      <th>Name_Fiat</th>\n",
       "      <th>Name_Force</th>\n",
       "      <th>Name_Ford</th>\n",
       "      <th>Name_Honda</th>\n",
       "      <th>Name_Hyundai</th>\n",
       "      <th>Name_ISUZU</th>\n",
       "      <th>Name_Jeep</th>\n",
       "      <th>Name_Land</th>\n",
       "      <th>Name_Mahindra</th>\n",
       "      <th>Name_Maruti</th>\n",
       "      <th>Name_Mercedes-Benz</th>\n",
       "      <th>Name_Mini</th>\n",
       "      <th>Name_Mitsubishi</th>\n",
       "      <th>Name_Nissan</th>\n",
       "      <th>Name_Renault</th>\n",
       "      <th>Name_Skoda</th>\n",
       "      <th>Name_Tata</th>\n",
       "      <th>Name_Toyota</th>\n",
       "      <th>Name_Volkswagen</th>\n",
       "      <th>Name_Volvo</th>\n",
       "      <th>Location_Ahmedabad</th>\n",
       "      <th>Location_Bangalore</th>\n",
       "      <th>Location_Chennai</th>\n",
       "      <th>Location_Coimbatore</th>\n",
       "      <th>Location_Delhi</th>\n",
       "      <th>Location_Hyderabad</th>\n",
       "      <th>Location_Jaipur</th>\n",
       "      <th>Location_Kochi</th>\n",
       "      <th>Location_Kolkata</th>\n",
       "      <th>Location_Mumbai</th>\n",
       "      <th>Location_Pune</th>\n",
       "      <th>Fuel_Type_CNG</th>\n",
       "      <th>Fuel_Type_Diesel</th>\n",
       "      <th>Fuel_Type_LPG</th>\n",
       "      <th>Fuel_Type_Petrol</th>\n",
       "      <th>Transmission_Automatic</th>\n",
       "      <th>Transmission_Manual</th>\n",
       "      <th>Owner_Type_First</th>\n",
       "      <th>Owner_Type_Fourth &amp; Above</th>\n",
       "      <th>Owner_Type_Second</th>\n",
       "      <th>Owner_Type_Third</th>\n",
       "    </tr>\n",
       "  </thead>\n",
       "  <tbody>\n",
       "    <tr>\n",
       "      <th>0</th>\n",
       "      <td>-1.070242</td>\n",
       "      <td>0.650811</td>\n",
       "      <td>1.920231</td>\n",
       "      <td>-1.050254</td>\n",
       "      <td>-1.170183</td>\n",
       "      <td>-0.339623</td>\n",
       "      <td>-0.014465</td>\n",
       "      <td>-0.098575</td>\n",
       "      <td>-0.131292</td>\n",
       "      <td>-0.158402</td>\n",
       "      <td>-0.052221</td>\n",
       "      <td>-0.06482</td>\n",
       "      <td>-0.02506</td>\n",
       "      <td>-0.23788</td>\n",
       "      <td>-0.375249</td>\n",
       "      <td>-0.523114</td>\n",
       "      <td>-0.020459</td>\n",
       "      <td>-0.02506</td>\n",
       "      <td>-0.02894</td>\n",
       "      <td>-0.236897</td>\n",
       "      <td>1.789985</td>\n",
       "      <td>-0.143921</td>\n",
       "      <td>-0.014465</td>\n",
       "      <td>-0.06482</td>\n",
       "      <td>-0.135356</td>\n",
       "      <td>-0.17434</td>\n",
       "      <td>-0.184284</td>\n",
       "      <td>-0.189677</td>\n",
       "      <td>-0.230927</td>\n",
       "      <td>-0.262437</td>\n",
       "      <td>-0.040944</td>\n",
       "      <td>-0.203456</td>\n",
       "      <td>-0.227896</td>\n",
       "      <td>-0.293877</td>\n",
       "      <td>-0.325136</td>\n",
       "      <td>-0.324349</td>\n",
       "      <td>-0.363176</td>\n",
       "      <td>-0.284103</td>\n",
       "      <td>-0.349379</td>\n",
       "      <td>-0.336039</td>\n",
       "      <td>2.527438</td>\n",
       "      <td>-0.340264</td>\n",
       "      <td>10.751063</td>\n",
       "      <td>-0.931229</td>\n",
       "      <td>-0.045787</td>\n",
       "      <td>-1.051094</td>\n",
       "      <td>-0.46872</td>\n",
       "      <td>0.46872</td>\n",
       "      <td>0.460399</td>\n",
       "      <td>-0.032359</td>\n",
       "      <td>-0.430033</td>\n",
       "      <td>-0.134552</td>\n",
       "    </tr>\n",
       "    <tr>\n",
       "      <th>1</th>\n",
       "      <td>0.518107</td>\n",
       "      <td>-0.497971</td>\n",
       "      <td>0.171472</td>\n",
       "      <td>0.273866</td>\n",
       "      <td>0.869581</td>\n",
       "      <td>-0.339623</td>\n",
       "      <td>-0.014465</td>\n",
       "      <td>-0.098575</td>\n",
       "      <td>-0.131292</td>\n",
       "      <td>-0.158402</td>\n",
       "      <td>-0.052221</td>\n",
       "      <td>-0.06482</td>\n",
       "      <td>-0.02506</td>\n",
       "      <td>-0.23788</td>\n",
       "      <td>-0.375249</td>\n",
       "      <td>1.911631</td>\n",
       "      <td>-0.020459</td>\n",
       "      <td>-0.02506</td>\n",
       "      <td>-0.02894</td>\n",
       "      <td>-0.236897</td>\n",
       "      <td>-0.558664</td>\n",
       "      <td>-0.143921</td>\n",
       "      <td>-0.014465</td>\n",
       "      <td>-0.06482</td>\n",
       "      <td>-0.135356</td>\n",
       "      <td>-0.17434</td>\n",
       "      <td>-0.184284</td>\n",
       "      <td>-0.189677</td>\n",
       "      <td>-0.230927</td>\n",
       "      <td>-0.262437</td>\n",
       "      <td>-0.040944</td>\n",
       "      <td>-0.203456</td>\n",
       "      <td>-0.227896</td>\n",
       "      <td>-0.293877</td>\n",
       "      <td>-0.325136</td>\n",
       "      <td>-0.324349</td>\n",
       "      <td>-0.363176</td>\n",
       "      <td>-0.284103</td>\n",
       "      <td>-0.349379</td>\n",
       "      <td>-0.336039</td>\n",
       "      <td>-0.395658</td>\n",
       "      <td>2.938894</td>\n",
       "      <td>-0.093014</td>\n",
       "      <td>1.073850</td>\n",
       "      <td>-0.045787</td>\n",
       "      <td>-1.051094</td>\n",
       "      <td>-0.46872</td>\n",
       "      <td>0.46872</td>\n",
       "      <td>0.460399</td>\n",
       "      <td>-0.032359</td>\n",
       "      <td>-0.430033</td>\n",
       "      <td>-0.134552</td>\n",
       "    </tr>\n",
       "    <tr>\n",
       "      <th>2</th>\n",
       "      <td>-0.752572</td>\n",
       "      <td>-0.312684</td>\n",
       "      <td>-0.199477</td>\n",
       "      <td>-0.594521</td>\n",
       "      <td>-0.254628</td>\n",
       "      <td>-0.339623</td>\n",
       "      <td>-0.014465</td>\n",
       "      <td>-0.098575</td>\n",
       "      <td>-0.131292</td>\n",
       "      <td>-0.158402</td>\n",
       "      <td>-0.052221</td>\n",
       "      <td>-0.06482</td>\n",
       "      <td>-0.02506</td>\n",
       "      <td>-0.23788</td>\n",
       "      <td>2.664901</td>\n",
       "      <td>-0.523114</td>\n",
       "      <td>-0.020459</td>\n",
       "      <td>-0.02506</td>\n",
       "      <td>-0.02894</td>\n",
       "      <td>-0.236897</td>\n",
       "      <td>-0.558664</td>\n",
       "      <td>-0.143921</td>\n",
       "      <td>-0.014465</td>\n",
       "      <td>-0.06482</td>\n",
       "      <td>-0.135356</td>\n",
       "      <td>-0.17434</td>\n",
       "      <td>-0.184284</td>\n",
       "      <td>-0.189677</td>\n",
       "      <td>-0.230927</td>\n",
       "      <td>-0.262437</td>\n",
       "      <td>-0.040944</td>\n",
       "      <td>-0.203456</td>\n",
       "      <td>-0.227896</td>\n",
       "      <td>3.402785</td>\n",
       "      <td>-0.325136</td>\n",
       "      <td>-0.324349</td>\n",
       "      <td>-0.363176</td>\n",
       "      <td>-0.284103</td>\n",
       "      <td>-0.349379</td>\n",
       "      <td>-0.336039</td>\n",
       "      <td>-0.395658</td>\n",
       "      <td>-0.340264</td>\n",
       "      <td>-0.093014</td>\n",
       "      <td>-0.931229</td>\n",
       "      <td>-0.045787</td>\n",
       "      <td>0.951389</td>\n",
       "      <td>-0.46872</td>\n",
       "      <td>0.46872</td>\n",
       "      <td>0.460399</td>\n",
       "      <td>-0.032359</td>\n",
       "      <td>-0.430033</td>\n",
       "      <td>-0.134552</td>\n",
       "    </tr>\n",
       "    <tr>\n",
       "      <th>3</th>\n",
       "      <td>-0.434902</td>\n",
       "      <td>1.206673</td>\n",
       "      <td>0.449053</td>\n",
       "      <td>-0.483422</td>\n",
       "      <td>-0.252829</td>\n",
       "      <td>2.379637</td>\n",
       "      <td>-0.014465</td>\n",
       "      <td>-0.098575</td>\n",
       "      <td>-0.131292</td>\n",
       "      <td>-0.158402</td>\n",
       "      <td>-0.052221</td>\n",
       "      <td>-0.06482</td>\n",
       "      <td>-0.02506</td>\n",
       "      <td>-0.23788</td>\n",
       "      <td>-0.375249</td>\n",
       "      <td>-0.523114</td>\n",
       "      <td>-0.020459</td>\n",
       "      <td>-0.02506</td>\n",
       "      <td>-0.02894</td>\n",
       "      <td>-0.236897</td>\n",
       "      <td>1.789985</td>\n",
       "      <td>-0.143921</td>\n",
       "      <td>-0.014465</td>\n",
       "      <td>-0.06482</td>\n",
       "      <td>-0.135356</td>\n",
       "      <td>-0.17434</td>\n",
       "      <td>-0.184284</td>\n",
       "      <td>-0.189677</td>\n",
       "      <td>-0.230927</td>\n",
       "      <td>-0.262437</td>\n",
       "      <td>-0.040944</td>\n",
       "      <td>-0.203456</td>\n",
       "      <td>-0.227896</td>\n",
       "      <td>3.402785</td>\n",
       "      <td>-0.325136</td>\n",
       "      <td>-0.324349</td>\n",
       "      <td>-0.363176</td>\n",
       "      <td>-0.284103</td>\n",
       "      <td>-0.349379</td>\n",
       "      <td>-0.336039</td>\n",
       "      <td>-0.395658</td>\n",
       "      <td>-0.340264</td>\n",
       "      <td>-0.093014</td>\n",
       "      <td>1.073850</td>\n",
       "      <td>-0.045787</td>\n",
       "      <td>-1.051094</td>\n",
       "      <td>-0.46872</td>\n",
       "      <td>0.46872</td>\n",
       "      <td>0.460399</td>\n",
       "      <td>-0.032359</td>\n",
       "      <td>-0.430033</td>\n",
       "      <td>-0.134552</td>\n",
       "    </tr>\n",
       "    <tr>\n",
       "      <th>5</th>\n",
       "      <td>-0.434902</td>\n",
       "      <td>0.761983</td>\n",
       "      <td>0.532327</td>\n",
       "      <td>-1.467442</td>\n",
       "      <td>-1.258920</td>\n",
       "      <td>-0.339623</td>\n",
       "      <td>-0.014465</td>\n",
       "      <td>-0.098575</td>\n",
       "      <td>-0.131292</td>\n",
       "      <td>-0.158402</td>\n",
       "      <td>-0.052221</td>\n",
       "      <td>-0.06482</td>\n",
       "      <td>-0.02506</td>\n",
       "      <td>-0.23788</td>\n",
       "      <td>-0.375249</td>\n",
       "      <td>1.911631</td>\n",
       "      <td>-0.020459</td>\n",
       "      <td>-0.02506</td>\n",
       "      <td>-0.02894</td>\n",
       "      <td>-0.236897</td>\n",
       "      <td>-0.558664</td>\n",
       "      <td>-0.143921</td>\n",
       "      <td>-0.014465</td>\n",
       "      <td>-0.06482</td>\n",
       "      <td>-0.135356</td>\n",
       "      <td>-0.17434</td>\n",
       "      <td>-0.184284</td>\n",
       "      <td>-0.189677</td>\n",
       "      <td>-0.230927</td>\n",
       "      <td>-0.262437</td>\n",
       "      <td>-0.040944</td>\n",
       "      <td>-0.203456</td>\n",
       "      <td>-0.227896</td>\n",
       "      <td>-0.293877</td>\n",
       "      <td>-0.325136</td>\n",
       "      <td>-0.324349</td>\n",
       "      <td>2.753486</td>\n",
       "      <td>-0.284103</td>\n",
       "      <td>-0.349379</td>\n",
       "      <td>-0.336039</td>\n",
       "      <td>-0.395658</td>\n",
       "      <td>-0.340264</td>\n",
       "      <td>-0.093014</td>\n",
       "      <td>-0.931229</td>\n",
       "      <td>21.840330</td>\n",
       "      <td>-1.051094</td>\n",
       "      <td>-0.46872</td>\n",
       "      <td>0.46872</td>\n",
       "      <td>0.460399</td>\n",
       "      <td>-0.032359</td>\n",
       "      <td>-0.430033</td>\n",
       "      <td>-0.134552</td>\n",
       "    </tr>\n",
       "  </tbody>\n",
       "</table>\n",
       "</div>"
      ],
      "text/plain": [
       "       Year  Kilometers_Driven  ...  Owner_Type_Second  Owner_Type_Third\n",
       "0 -1.070242           0.650811  ...          -0.430033         -0.134552\n",
       "1  0.518107          -0.497971  ...          -0.430033         -0.134552\n",
       "2 -0.752572          -0.312684  ...          -0.430033         -0.134552\n",
       "3 -0.434902           1.206673  ...          -0.430033         -0.134552\n",
       "5 -0.434902           0.761983  ...          -0.430033         -0.134552\n",
       "\n",
       "[5 rows x 52 columns]"
      ]
     },
     "execution_count": 219,
     "metadata": {
      "tags": []
     },
     "output_type": "execute_result"
    }
   ],
   "source": [
    "mEncY = mEnc.iloc[:, 6]\n",
    "# mEnc.drop(['Price'], axis = 1, inplace= True)\n",
    "mEnc.head()\n",
    "mEnc = mEnc.apply(lambda x: (x-np.mean(x))/(np.std(x)))\n",
    "mEnc.head()"
   ]
  },
  {
   "cell_type": "code",
   "execution_count": 0,
   "metadata": {
    "colab": {
     "base_uri": "https://localhost:8080/",
     "height": 241
    },
    "colab_type": "code",
    "id": "GWT15Pl7851T",
    "outputId": "4aea8aad-4a1c-4d6d-e75e-5de4b4019e57"
   },
   "outputs": [
    {
     "data": {
      "text/html": [
       "<div>\n",
       "<style scoped>\n",
       "    .dataframe tbody tr th:only-of-type {\n",
       "        vertical-align: middle;\n",
       "    }\n",
       "\n",
       "    .dataframe tbody tr th {\n",
       "        vertical-align: top;\n",
       "    }\n",
       "\n",
       "    .dataframe thead th {\n",
       "        text-align: right;\n",
       "    }\n",
       "</style>\n",
       "<table border=\"1\" class=\"dataframe\">\n",
       "  <thead>\n",
       "    <tr style=\"text-align: right;\">\n",
       "      <th></th>\n",
       "      <th>Year</th>\n",
       "      <th>Kilometers_Driven</th>\n",
       "      <th>Mileage</th>\n",
       "      <th>Engine</th>\n",
       "      <th>Power</th>\n",
       "      <th>Seats</th>\n",
       "      <th>Price</th>\n",
       "      <th>Name_Ambassador</th>\n",
       "      <th>Name_Audi</th>\n",
       "      <th>Name_BMW</th>\n",
       "      <th>Name_Chevrolet</th>\n",
       "      <th>Name_Datsun</th>\n",
       "      <th>Name_Fiat</th>\n",
       "      <th>Name_Force</th>\n",
       "      <th>Name_Ford</th>\n",
       "      <th>Name_Honda</th>\n",
       "      <th>Name_Hyundai</th>\n",
       "      <th>Name_ISUZU</th>\n",
       "      <th>Name_Isuzu</th>\n",
       "      <th>Name_Jaguar</th>\n",
       "      <th>Name_Jeep</th>\n",
       "      <th>Name_Land</th>\n",
       "      <th>Name_Mahindra</th>\n",
       "      <th>Name_Maruti</th>\n",
       "      <th>Name_Mercedes-Benz</th>\n",
       "      <th>Name_Mini</th>\n",
       "      <th>Name_Mitsubishi</th>\n",
       "      <th>Name_Nissan</th>\n",
       "      <th>Name_Renault</th>\n",
       "      <th>Name_Skoda</th>\n",
       "      <th>Name_Tata</th>\n",
       "      <th>Name_Toyota</th>\n",
       "      <th>Name_Volkswagen</th>\n",
       "      <th>Name_Volvo</th>\n",
       "      <th>Location_Ahmedabad</th>\n",
       "      <th>Location_Bangalore</th>\n",
       "      <th>Location_Chennai</th>\n",
       "      <th>Location_Coimbatore</th>\n",
       "      <th>Location_Delhi</th>\n",
       "      <th>Location_Hyderabad</th>\n",
       "      <th>Location_Jaipur</th>\n",
       "      <th>Location_Kochi</th>\n",
       "      <th>Location_Kolkata</th>\n",
       "      <th>Location_Mumbai</th>\n",
       "      <th>Location_Pune</th>\n",
       "      <th>Fuel_Type_CNG</th>\n",
       "      <th>Fuel_Type_Diesel</th>\n",
       "      <th>Fuel_Type_LPG</th>\n",
       "      <th>Fuel_Type_Petrol</th>\n",
       "      <th>Transmission_Automatic</th>\n",
       "      <th>Transmission_Manual</th>\n",
       "      <th>Owner_Type_First</th>\n",
       "      <th>Owner_Type_Fourth &amp; Above</th>\n",
       "      <th>Owner_Type_Second</th>\n",
       "      <th>Owner_Type_Third</th>\n",
       "    </tr>\n",
       "  </thead>\n",
       "  <tbody>\n",
       "    <tr>\n",
       "      <th>0</th>\n",
       "      <td>2010</td>\n",
       "      <td>72000</td>\n",
       "      <td>26.60</td>\n",
       "      <td>998.0</td>\n",
       "      <td>58.16</td>\n",
       "      <td>5.0</td>\n",
       "      <td>1.75</td>\n",
       "      <td>0</td>\n",
       "      <td>0</td>\n",
       "      <td>0</td>\n",
       "      <td>0</td>\n",
       "      <td>0</td>\n",
       "      <td>0</td>\n",
       "      <td>0</td>\n",
       "      <td>0</td>\n",
       "      <td>0</td>\n",
       "      <td>0</td>\n",
       "      <td>0</td>\n",
       "      <td>0</td>\n",
       "      <td>0</td>\n",
       "      <td>0</td>\n",
       "      <td>0</td>\n",
       "      <td>0</td>\n",
       "      <td>1</td>\n",
       "      <td>0</td>\n",
       "      <td>0</td>\n",
       "      <td>0</td>\n",
       "      <td>0</td>\n",
       "      <td>0</td>\n",
       "      <td>0</td>\n",
       "      <td>0</td>\n",
       "      <td>0</td>\n",
       "      <td>0</td>\n",
       "      <td>0</td>\n",
       "      <td>0</td>\n",
       "      <td>0</td>\n",
       "      <td>0</td>\n",
       "      <td>0</td>\n",
       "      <td>0</td>\n",
       "      <td>0</td>\n",
       "      <td>0</td>\n",
       "      <td>0</td>\n",
       "      <td>0</td>\n",
       "      <td>1</td>\n",
       "      <td>0</td>\n",
       "      <td>1</td>\n",
       "      <td>0</td>\n",
       "      <td>0</td>\n",
       "      <td>0</td>\n",
       "      <td>0</td>\n",
       "      <td>1</td>\n",
       "      <td>1</td>\n",
       "      <td>0</td>\n",
       "      <td>0</td>\n",
       "      <td>0</td>\n",
       "    </tr>\n",
       "    <tr>\n",
       "      <th>1</th>\n",
       "      <td>2015</td>\n",
       "      <td>41000</td>\n",
       "      <td>19.67</td>\n",
       "      <td>1582.0</td>\n",
       "      <td>126.20</td>\n",
       "      <td>5.0</td>\n",
       "      <td>12.50</td>\n",
       "      <td>0</td>\n",
       "      <td>0</td>\n",
       "      <td>0</td>\n",
       "      <td>0</td>\n",
       "      <td>0</td>\n",
       "      <td>0</td>\n",
       "      <td>0</td>\n",
       "      <td>0</td>\n",
       "      <td>0</td>\n",
       "      <td>1</td>\n",
       "      <td>0</td>\n",
       "      <td>0</td>\n",
       "      <td>0</td>\n",
       "      <td>0</td>\n",
       "      <td>0</td>\n",
       "      <td>0</td>\n",
       "      <td>0</td>\n",
       "      <td>0</td>\n",
       "      <td>0</td>\n",
       "      <td>0</td>\n",
       "      <td>0</td>\n",
       "      <td>0</td>\n",
       "      <td>0</td>\n",
       "      <td>0</td>\n",
       "      <td>0</td>\n",
       "      <td>0</td>\n",
       "      <td>0</td>\n",
       "      <td>0</td>\n",
       "      <td>0</td>\n",
       "      <td>0</td>\n",
       "      <td>0</td>\n",
       "      <td>0</td>\n",
       "      <td>0</td>\n",
       "      <td>0</td>\n",
       "      <td>0</td>\n",
       "      <td>0</td>\n",
       "      <td>0</td>\n",
       "      <td>1</td>\n",
       "      <td>0</td>\n",
       "      <td>1</td>\n",
       "      <td>0</td>\n",
       "      <td>0</td>\n",
       "      <td>0</td>\n",
       "      <td>1</td>\n",
       "      <td>1</td>\n",
       "      <td>0</td>\n",
       "      <td>0</td>\n",
       "      <td>0</td>\n",
       "    </tr>\n",
       "    <tr>\n",
       "      <th>2</th>\n",
       "      <td>2011</td>\n",
       "      <td>46000</td>\n",
       "      <td>18.20</td>\n",
       "      <td>1199.0</td>\n",
       "      <td>88.70</td>\n",
       "      <td>5.0</td>\n",
       "      <td>4.50</td>\n",
       "      <td>0</td>\n",
       "      <td>0</td>\n",
       "      <td>0</td>\n",
       "      <td>0</td>\n",
       "      <td>0</td>\n",
       "      <td>0</td>\n",
       "      <td>0</td>\n",
       "      <td>0</td>\n",
       "      <td>1</td>\n",
       "      <td>0</td>\n",
       "      <td>0</td>\n",
       "      <td>0</td>\n",
       "      <td>0</td>\n",
       "      <td>0</td>\n",
       "      <td>0</td>\n",
       "      <td>0</td>\n",
       "      <td>0</td>\n",
       "      <td>0</td>\n",
       "      <td>0</td>\n",
       "      <td>0</td>\n",
       "      <td>0</td>\n",
       "      <td>0</td>\n",
       "      <td>0</td>\n",
       "      <td>0</td>\n",
       "      <td>0</td>\n",
       "      <td>0</td>\n",
       "      <td>0</td>\n",
       "      <td>0</td>\n",
       "      <td>0</td>\n",
       "      <td>1</td>\n",
       "      <td>0</td>\n",
       "      <td>0</td>\n",
       "      <td>0</td>\n",
       "      <td>0</td>\n",
       "      <td>0</td>\n",
       "      <td>0</td>\n",
       "      <td>0</td>\n",
       "      <td>0</td>\n",
       "      <td>0</td>\n",
       "      <td>0</td>\n",
       "      <td>0</td>\n",
       "      <td>1</td>\n",
       "      <td>0</td>\n",
       "      <td>1</td>\n",
       "      <td>1</td>\n",
       "      <td>0</td>\n",
       "      <td>0</td>\n",
       "      <td>0</td>\n",
       "    </tr>\n",
       "    <tr>\n",
       "      <th>3</th>\n",
       "      <td>2012</td>\n",
       "      <td>87000</td>\n",
       "      <td>20.77</td>\n",
       "      <td>1248.0</td>\n",
       "      <td>88.76</td>\n",
       "      <td>7.0</td>\n",
       "      <td>6.00</td>\n",
       "      <td>0</td>\n",
       "      <td>0</td>\n",
       "      <td>0</td>\n",
       "      <td>0</td>\n",
       "      <td>0</td>\n",
       "      <td>0</td>\n",
       "      <td>0</td>\n",
       "      <td>0</td>\n",
       "      <td>0</td>\n",
       "      <td>0</td>\n",
       "      <td>0</td>\n",
       "      <td>0</td>\n",
       "      <td>0</td>\n",
       "      <td>0</td>\n",
       "      <td>0</td>\n",
       "      <td>0</td>\n",
       "      <td>1</td>\n",
       "      <td>0</td>\n",
       "      <td>0</td>\n",
       "      <td>0</td>\n",
       "      <td>0</td>\n",
       "      <td>0</td>\n",
       "      <td>0</td>\n",
       "      <td>0</td>\n",
       "      <td>0</td>\n",
       "      <td>0</td>\n",
       "      <td>0</td>\n",
       "      <td>0</td>\n",
       "      <td>0</td>\n",
       "      <td>1</td>\n",
       "      <td>0</td>\n",
       "      <td>0</td>\n",
       "      <td>0</td>\n",
       "      <td>0</td>\n",
       "      <td>0</td>\n",
       "      <td>0</td>\n",
       "      <td>0</td>\n",
       "      <td>0</td>\n",
       "      <td>0</td>\n",
       "      <td>1</td>\n",
       "      <td>0</td>\n",
       "      <td>0</td>\n",
       "      <td>0</td>\n",
       "      <td>1</td>\n",
       "      <td>1</td>\n",
       "      <td>0</td>\n",
       "      <td>0</td>\n",
       "      <td>0</td>\n",
       "    </tr>\n",
       "    <tr>\n",
       "      <th>4</th>\n",
       "      <td>2013</td>\n",
       "      <td>40670</td>\n",
       "      <td>15.20</td>\n",
       "      <td>1968.0</td>\n",
       "      <td>140.80</td>\n",
       "      <td>5.0</td>\n",
       "      <td>17.74</td>\n",
       "      <td>0</td>\n",
       "      <td>1</td>\n",
       "      <td>0</td>\n",
       "      <td>0</td>\n",
       "      <td>0</td>\n",
       "      <td>0</td>\n",
       "      <td>0</td>\n",
       "      <td>0</td>\n",
       "      <td>0</td>\n",
       "      <td>0</td>\n",
       "      <td>0</td>\n",
       "      <td>0</td>\n",
       "      <td>0</td>\n",
       "      <td>0</td>\n",
       "      <td>0</td>\n",
       "      <td>0</td>\n",
       "      <td>0</td>\n",
       "      <td>0</td>\n",
       "      <td>0</td>\n",
       "      <td>0</td>\n",
       "      <td>0</td>\n",
       "      <td>0</td>\n",
       "      <td>0</td>\n",
       "      <td>0</td>\n",
       "      <td>0</td>\n",
       "      <td>0</td>\n",
       "      <td>0</td>\n",
       "      <td>0</td>\n",
       "      <td>0</td>\n",
       "      <td>0</td>\n",
       "      <td>1</td>\n",
       "      <td>0</td>\n",
       "      <td>0</td>\n",
       "      <td>0</td>\n",
       "      <td>0</td>\n",
       "      <td>0</td>\n",
       "      <td>0</td>\n",
       "      <td>0</td>\n",
       "      <td>0</td>\n",
       "      <td>1</td>\n",
       "      <td>0</td>\n",
       "      <td>0</td>\n",
       "      <td>1</td>\n",
       "      <td>0</td>\n",
       "      <td>0</td>\n",
       "      <td>0</td>\n",
       "      <td>1</td>\n",
       "      <td>0</td>\n",
       "    </tr>\n",
       "  </tbody>\n",
       "</table>\n",
       "</div>"
      ],
      "text/plain": [
       "   Year  Kilometers_Driven  ...  Owner_Type_Second  Owner_Type_Third\n",
       "0  2010              72000  ...                  0                 0\n",
       "1  2015              41000  ...                  0                 0\n",
       "2  2011              46000  ...                  0                 0\n",
       "3  2012              87000  ...                  0                 0\n",
       "4  2013              40670  ...                  1                 0\n",
       "\n",
       "[5 rows x 55 columns]"
      ]
     },
     "execution_count": 220,
     "metadata": {
      "tags": []
     },
     "output_type": "execute_result"
    }
   ],
   "source": [
    "rEnc = pd.get_dummies(R, columns = ['Name', 'Location', 'Fuel_Type', 'Transmission', 'Owner_Type'])\n",
    "rEnc.head()"
   ]
  },
  {
   "cell_type": "code",
   "execution_count": 0,
   "metadata": {
    "colab": {
     "base_uri": "https://localhost:8080/",
     "height": 241
    },
    "colab_type": "code",
    "id": "fxyZdsVi859L",
    "outputId": "b1ce8961-81e3-413e-a0bf-0a3b8ca58ec1"
   },
   "outputs": [
    {
     "data": {
      "text/html": [
       "<div>\n",
       "<style scoped>\n",
       "    .dataframe tbody tr th:only-of-type {\n",
       "        vertical-align: middle;\n",
       "    }\n",
       "\n",
       "    .dataframe tbody tr th {\n",
       "        vertical-align: top;\n",
       "    }\n",
       "\n",
       "    .dataframe thead th {\n",
       "        text-align: right;\n",
       "    }\n",
       "</style>\n",
       "<table border=\"1\" class=\"dataframe\">\n",
       "  <thead>\n",
       "    <tr style=\"text-align: right;\">\n",
       "      <th></th>\n",
       "      <th>Year</th>\n",
       "      <th>Kilometers_Driven</th>\n",
       "      <th>Mileage</th>\n",
       "      <th>Engine</th>\n",
       "      <th>Power</th>\n",
       "      <th>Seats</th>\n",
       "      <th>Name_Ambassador</th>\n",
       "      <th>Name_Audi</th>\n",
       "      <th>Name_BMW</th>\n",
       "      <th>Name_Chevrolet</th>\n",
       "      <th>Name_Datsun</th>\n",
       "      <th>Name_Fiat</th>\n",
       "      <th>Name_Force</th>\n",
       "      <th>Name_Ford</th>\n",
       "      <th>Name_Honda</th>\n",
       "      <th>Name_Hyundai</th>\n",
       "      <th>Name_ISUZU</th>\n",
       "      <th>Name_Isuzu</th>\n",
       "      <th>Name_Jaguar</th>\n",
       "      <th>Name_Jeep</th>\n",
       "      <th>Name_Land</th>\n",
       "      <th>Name_Mahindra</th>\n",
       "      <th>Name_Maruti</th>\n",
       "      <th>Name_Mercedes-Benz</th>\n",
       "      <th>Name_Mini</th>\n",
       "      <th>Name_Mitsubishi</th>\n",
       "      <th>Name_Nissan</th>\n",
       "      <th>Name_Renault</th>\n",
       "      <th>Name_Skoda</th>\n",
       "      <th>Name_Tata</th>\n",
       "      <th>Name_Toyota</th>\n",
       "      <th>Name_Volkswagen</th>\n",
       "      <th>Name_Volvo</th>\n",
       "      <th>Location_Ahmedabad</th>\n",
       "      <th>Location_Bangalore</th>\n",
       "      <th>Location_Chennai</th>\n",
       "      <th>Location_Coimbatore</th>\n",
       "      <th>Location_Delhi</th>\n",
       "      <th>Location_Hyderabad</th>\n",
       "      <th>Location_Jaipur</th>\n",
       "      <th>Location_Kochi</th>\n",
       "      <th>Location_Kolkata</th>\n",
       "      <th>Location_Mumbai</th>\n",
       "      <th>Location_Pune</th>\n",
       "      <th>Fuel_Type_CNG</th>\n",
       "      <th>Fuel_Type_Diesel</th>\n",
       "      <th>Fuel_Type_LPG</th>\n",
       "      <th>Fuel_Type_Petrol</th>\n",
       "      <th>Transmission_Automatic</th>\n",
       "      <th>Transmission_Manual</th>\n",
       "      <th>Owner_Type_First</th>\n",
       "      <th>Owner_Type_Fourth &amp; Above</th>\n",
       "      <th>Owner_Type_Second</th>\n",
       "      <th>Owner_Type_Third</th>\n",
       "    </tr>\n",
       "  </thead>\n",
       "  <tbody>\n",
       "    <tr>\n",
       "      <th>0</th>\n",
       "      <td>-1.081914</td>\n",
       "      <td>0.433209</td>\n",
       "      <td>1.985305</td>\n",
       "      <td>-1.097144</td>\n",
       "      <td>-1.149964</td>\n",
       "      <td>-0.370306</td>\n",
       "      <td>-0.013374</td>\n",
       "      <td>-0.189070</td>\n",
       "      <td>-0.197532</td>\n",
       "      <td>-0.148087</td>\n",
       "      <td>-0.048272</td>\n",
       "      <td>-0.064265</td>\n",
       "      <td>-0.023168</td>\n",
       "      <td>-0.235146</td>\n",
       "      <td>-0.346364</td>\n",
       "      <td>-0.480525</td>\n",
       "      <td>-0.018915</td>\n",
       "      <td>-0.013374</td>\n",
       "      <td>-0.055221</td>\n",
       "      <td>-0.051862</td>\n",
       "      <td>-0.068346</td>\n",
       "      <td>-0.224362</td>\n",
       "      <td>1.952535</td>\n",
       "      <td>-0.208047</td>\n",
       "      <td>-0.067013</td>\n",
       "      <td>-0.069655</td>\n",
       "      <td>-0.127173</td>\n",
       "      <td>-0.163157</td>\n",
       "      <td>-0.176532</td>\n",
       "      <td>-0.183936</td>\n",
       "      <td>-0.275315</td>\n",
       "      <td>-0.243086</td>\n",
       "      <td>-0.061396</td>\n",
       "      <td>-0.200928</td>\n",
       "      <td>-0.245142</td>\n",
       "      <td>-0.299743</td>\n",
       "      <td>-0.33459</td>\n",
       "      <td>-0.319854</td>\n",
       "      <td>-0.373937</td>\n",
       "      <td>-0.276816</td>\n",
       "      <td>-0.350237</td>\n",
       "      <td>-0.315418</td>\n",
       "      <td>2.566616</td>\n",
       "      <td>-0.339197</td>\n",
       "      <td>11.495341</td>\n",
       "      <td>-1.054033</td>\n",
       "      <td>-0.042326</td>\n",
       "      <td>-0.931188</td>\n",
       "      <td>-0.590567</td>\n",
       "      <td>0.590567</td>\n",
       "      <td>0.464099</td>\n",
       "      <td>-0.035403</td>\n",
       "      <td>-0.433901</td>\n",
       "      <td>-0.133558</td>\n",
       "    </tr>\n",
       "    <tr>\n",
       "      <th>1</th>\n",
       "      <td>0.499554</td>\n",
       "      <td>-0.486637</td>\n",
       "      <td>0.282814</td>\n",
       "      <td>0.026374</td>\n",
       "      <td>0.452072</td>\n",
       "      <td>-0.370306</td>\n",
       "      <td>-0.013374</td>\n",
       "      <td>-0.189070</td>\n",
       "      <td>-0.197532</td>\n",
       "      <td>-0.148087</td>\n",
       "      <td>-0.048272</td>\n",
       "      <td>-0.064265</td>\n",
       "      <td>-0.023168</td>\n",
       "      <td>-0.235146</td>\n",
       "      <td>-0.346364</td>\n",
       "      <td>2.081055</td>\n",
       "      <td>-0.018915</td>\n",
       "      <td>-0.013374</td>\n",
       "      <td>-0.055221</td>\n",
       "      <td>-0.051862</td>\n",
       "      <td>-0.068346</td>\n",
       "      <td>-0.224362</td>\n",
       "      <td>-0.512155</td>\n",
       "      <td>-0.208047</td>\n",
       "      <td>-0.067013</td>\n",
       "      <td>-0.069655</td>\n",
       "      <td>-0.127173</td>\n",
       "      <td>-0.163157</td>\n",
       "      <td>-0.176532</td>\n",
       "      <td>-0.183936</td>\n",
       "      <td>-0.275315</td>\n",
       "      <td>-0.243086</td>\n",
       "      <td>-0.061396</td>\n",
       "      <td>-0.200928</td>\n",
       "      <td>-0.245142</td>\n",
       "      <td>-0.299743</td>\n",
       "      <td>-0.33459</td>\n",
       "      <td>-0.319854</td>\n",
       "      <td>-0.373937</td>\n",
       "      <td>-0.276816</td>\n",
       "      <td>-0.350237</td>\n",
       "      <td>-0.315418</td>\n",
       "      <td>-0.389618</td>\n",
       "      <td>2.948136</td>\n",
       "      <td>-0.086992</td>\n",
       "      <td>0.948737</td>\n",
       "      <td>-0.042326</td>\n",
       "      <td>-0.931188</td>\n",
       "      <td>-0.590567</td>\n",
       "      <td>0.590567</td>\n",
       "      <td>0.464099</td>\n",
       "      <td>-0.035403</td>\n",
       "      <td>-0.433901</td>\n",
       "      <td>-0.133558</td>\n",
       "    </tr>\n",
       "    <tr>\n",
       "      <th>2</th>\n",
       "      <td>-0.765620</td>\n",
       "      <td>-0.338275</td>\n",
       "      <td>-0.078320</td>\n",
       "      <td>-0.710453</td>\n",
       "      <td>-0.430884</td>\n",
       "      <td>-0.370306</td>\n",
       "      <td>-0.013374</td>\n",
       "      <td>-0.189070</td>\n",
       "      <td>-0.197532</td>\n",
       "      <td>-0.148087</td>\n",
       "      <td>-0.048272</td>\n",
       "      <td>-0.064265</td>\n",
       "      <td>-0.023168</td>\n",
       "      <td>-0.235146</td>\n",
       "      <td>2.887137</td>\n",
       "      <td>-0.480525</td>\n",
       "      <td>-0.018915</td>\n",
       "      <td>-0.013374</td>\n",
       "      <td>-0.055221</td>\n",
       "      <td>-0.051862</td>\n",
       "      <td>-0.068346</td>\n",
       "      <td>-0.224362</td>\n",
       "      <td>-0.512155</td>\n",
       "      <td>-0.208047</td>\n",
       "      <td>-0.067013</td>\n",
       "      <td>-0.069655</td>\n",
       "      <td>-0.127173</td>\n",
       "      <td>-0.163157</td>\n",
       "      <td>-0.176532</td>\n",
       "      <td>-0.183936</td>\n",
       "      <td>-0.275315</td>\n",
       "      <td>-0.243086</td>\n",
       "      <td>-0.061396</td>\n",
       "      <td>-0.200928</td>\n",
       "      <td>-0.245142</td>\n",
       "      <td>3.336188</td>\n",
       "      <td>-0.33459</td>\n",
       "      <td>-0.319854</td>\n",
       "      <td>-0.373937</td>\n",
       "      <td>-0.276816</td>\n",
       "      <td>-0.350237</td>\n",
       "      <td>-0.315418</td>\n",
       "      <td>-0.389618</td>\n",
       "      <td>-0.339197</td>\n",
       "      <td>-0.086992</td>\n",
       "      <td>-1.054033</td>\n",
       "      <td>-0.042326</td>\n",
       "      <td>1.073897</td>\n",
       "      <td>-0.590567</td>\n",
       "      <td>0.590567</td>\n",
       "      <td>0.464099</td>\n",
       "      <td>-0.035403</td>\n",
       "      <td>-0.433901</td>\n",
       "      <td>-0.133558</td>\n",
       "    </tr>\n",
       "    <tr>\n",
       "      <th>3</th>\n",
       "      <td>-0.449327</td>\n",
       "      <td>0.878295</td>\n",
       "      <td>0.553051</td>\n",
       "      <td>-0.616186</td>\n",
       "      <td>-0.429471</td>\n",
       "      <td>2.170490</td>\n",
       "      <td>-0.013374</td>\n",
       "      <td>-0.189070</td>\n",
       "      <td>-0.197532</td>\n",
       "      <td>-0.148087</td>\n",
       "      <td>-0.048272</td>\n",
       "      <td>-0.064265</td>\n",
       "      <td>-0.023168</td>\n",
       "      <td>-0.235146</td>\n",
       "      <td>-0.346364</td>\n",
       "      <td>-0.480525</td>\n",
       "      <td>-0.018915</td>\n",
       "      <td>-0.013374</td>\n",
       "      <td>-0.055221</td>\n",
       "      <td>-0.051862</td>\n",
       "      <td>-0.068346</td>\n",
       "      <td>-0.224362</td>\n",
       "      <td>1.952535</td>\n",
       "      <td>-0.208047</td>\n",
       "      <td>-0.067013</td>\n",
       "      <td>-0.069655</td>\n",
       "      <td>-0.127173</td>\n",
       "      <td>-0.163157</td>\n",
       "      <td>-0.176532</td>\n",
       "      <td>-0.183936</td>\n",
       "      <td>-0.275315</td>\n",
       "      <td>-0.243086</td>\n",
       "      <td>-0.061396</td>\n",
       "      <td>-0.200928</td>\n",
       "      <td>-0.245142</td>\n",
       "      <td>3.336188</td>\n",
       "      <td>-0.33459</td>\n",
       "      <td>-0.319854</td>\n",
       "      <td>-0.373937</td>\n",
       "      <td>-0.276816</td>\n",
       "      <td>-0.350237</td>\n",
       "      <td>-0.315418</td>\n",
       "      <td>-0.389618</td>\n",
       "      <td>-0.339197</td>\n",
       "      <td>-0.086992</td>\n",
       "      <td>0.948737</td>\n",
       "      <td>-0.042326</td>\n",
       "      <td>-0.931188</td>\n",
       "      <td>-0.590567</td>\n",
       "      <td>0.590567</td>\n",
       "      <td>0.464099</td>\n",
       "      <td>-0.035403</td>\n",
       "      <td>-0.433901</td>\n",
       "      <td>-0.133558</td>\n",
       "    </tr>\n",
       "    <tr>\n",
       "      <th>4</th>\n",
       "      <td>-0.133033</td>\n",
       "      <td>-0.496429</td>\n",
       "      <td>-0.815330</td>\n",
       "      <td>0.768973</td>\n",
       "      <td>0.795837</td>\n",
       "      <td>-0.370306</td>\n",
       "      <td>-0.013374</td>\n",
       "      <td>5.289054</td>\n",
       "      <td>-0.197532</td>\n",
       "      <td>-0.148087</td>\n",
       "      <td>-0.048272</td>\n",
       "      <td>-0.064265</td>\n",
       "      <td>-0.023168</td>\n",
       "      <td>-0.235146</td>\n",
       "      <td>-0.346364</td>\n",
       "      <td>-0.480525</td>\n",
       "      <td>-0.018915</td>\n",
       "      <td>-0.013374</td>\n",
       "      <td>-0.055221</td>\n",
       "      <td>-0.051862</td>\n",
       "      <td>-0.068346</td>\n",
       "      <td>-0.224362</td>\n",
       "      <td>-0.512155</td>\n",
       "      <td>-0.208047</td>\n",
       "      <td>-0.067013</td>\n",
       "      <td>-0.069655</td>\n",
       "      <td>-0.127173</td>\n",
       "      <td>-0.163157</td>\n",
       "      <td>-0.176532</td>\n",
       "      <td>-0.183936</td>\n",
       "      <td>-0.275315</td>\n",
       "      <td>-0.243086</td>\n",
       "      <td>-0.061396</td>\n",
       "      <td>-0.200928</td>\n",
       "      <td>-0.245142</td>\n",
       "      <td>-0.299743</td>\n",
       "      <td>2.98873</td>\n",
       "      <td>-0.319854</td>\n",
       "      <td>-0.373937</td>\n",
       "      <td>-0.276816</td>\n",
       "      <td>-0.350237</td>\n",
       "      <td>-0.315418</td>\n",
       "      <td>-0.389618</td>\n",
       "      <td>-0.339197</td>\n",
       "      <td>-0.086992</td>\n",
       "      <td>0.948737</td>\n",
       "      <td>-0.042326</td>\n",
       "      <td>-0.931188</td>\n",
       "      <td>1.693287</td>\n",
       "      <td>-1.693287</td>\n",
       "      <td>-2.154712</td>\n",
       "      <td>-0.035403</td>\n",
       "      <td>2.304672</td>\n",
       "      <td>-0.133558</td>\n",
       "    </tr>\n",
       "  </tbody>\n",
       "</table>\n",
       "</div>"
      ],
      "text/plain": [
       "       Year  Kilometers_Driven  ...  Owner_Type_Second  Owner_Type_Third\n",
       "0 -1.081914           0.433209  ...          -0.433901         -0.133558\n",
       "1  0.499554          -0.486637  ...          -0.433901         -0.133558\n",
       "2 -0.765620          -0.338275  ...          -0.433901         -0.133558\n",
       "3 -0.449327           0.878295  ...          -0.433901         -0.133558\n",
       "4 -0.133033          -0.496429  ...           2.304672         -0.133558\n",
       "\n",
       "[5 rows x 54 columns]"
      ]
     },
     "execution_count": 221,
     "metadata": {
      "tags": []
     },
     "output_type": "execute_result"
    }
   ],
   "source": [
    "rEncY = rEnc.iloc[:, 6]\n",
    "rEnc.drop(['Price'], axis = 1, inplace= True)\n",
    "rEnc.head()\n",
    "rEnc = rEnc.apply(lambda x: (x-np.mean(x))/(np.std(x)))\n",
    "rEnc.head()"
   ]
  },
  {
   "cell_type": "code",
   "execution_count": 0,
   "metadata": {
    "colab": {},
    "colab_type": "code",
    "id": "cI-zogwi86GE"
   },
   "outputs": [],
   "source": [
    "mEnc.to_csv('trainSetNormalisedIQR.csv')"
   ]
  },
  {
   "cell_type": "code",
   "execution_count": 0,
   "metadata": {
    "colab": {},
    "colab_type": "code",
    "id": "KYIvA4Le86Mr"
   },
   "outputs": [],
   "source": [
    "rEnc.to_csv('trainSetNormalisedZScore.csv')"
   ]
  },
  {
   "cell_type": "code",
   "execution_count": 0,
   "metadata": {
    "colab": {
     "base_uri": "https://localhost:8080/",
     "height": 122
    },
    "colab_type": "code",
    "id": "_61I8n2X86cQ",
    "outputId": "db732a91-ed32-46ea-fe3e-24ef7cb66b20"
   },
   "outputs": [
    {
     "name": "stdout",
     "output_type": "stream",
     "text": [
      "Go to this URL in a browser: https://accounts.google.com/o/oauth2/auth?client_id=947318989803-6bn6qk8qdgf4n4g3pfee6491hc0brc4i.apps.googleusercontent.com&redirect_uri=urn%3aietf%3awg%3aoauth%3a2.0%3aoob&response_type=code&scope=email%20https%3a%2f%2fwww.googleapis.com%2fauth%2fdocs.test%20https%3a%2f%2fwww.googleapis.com%2fauth%2fdrive%20https%3a%2f%2fwww.googleapis.com%2fauth%2fdrive.photos.readonly%20https%3a%2f%2fwww.googleapis.com%2fauth%2fpeopleapi.readonly\n",
      "\n",
      "Enter your authorization code:\n",
      "··········\n",
      "Mounted at drive\n"
     ]
    }
   ],
   "source": [
    "from google.colab import drive\n",
    "drive.mount('drive')"
   ]
  },
  {
   "cell_type": "code",
   "execution_count": 0,
   "metadata": {
    "colab": {},
    "colab_type": "code",
    "id": "Jx34U24q86hp"
   },
   "outputs": [],
   "source": [
    "!cp trainSetNormalisedIQR.csv \"drive/My Drive/\"\n"
   ]
  },
  {
   "cell_type": "code",
   "execution_count": 0,
   "metadata": {
    "colab": {},
    "colab_type": "code",
    "id": "0bj9m6-RK1mv"
   },
   "outputs": [],
   "source": [
    "!cp trainSetNormalisedZScore.csv \"drive/My Drive/\"\n"
   ]
  },
  {
   "cell_type": "code",
   "execution_count": 0,
   "metadata": {
    "colab": {
     "base_uri": "https://localhost:8080/",
     "height": 34
    },
    "colab_type": "code",
    "id": "6Ym1RjZiK1zs",
    "outputId": "962db2e2-327d-4a91-bc76-4baf7010ac96"
   },
   "outputs": [
    {
     "data": {
      "text/plain": [
       "((5592, 54), (5592,), (4780, 52), (4780,))"
      ]
     },
     "execution_count": 235,
     "metadata": {
      "tags": []
     },
     "output_type": "execute_result"
    }
   ],
   "source": [
    "rEnc.shape, rEncY.shape, mEnc.shape, mEncY.shape"
   ]
  },
  {
   "cell_type": "code",
   "execution_count": 0,
   "metadata": {
    "colab": {
     "base_uri": "https://localhost:8080/",
     "height": 527
    },
    "colab_type": "code",
    "id": "Lr11wgniK1_h",
    "outputId": "748b6e44-2ea9-40b1-975c-5a9cd5f0c068"
   },
   "outputs": [
    {
     "data": {
      "text/plain": [
       "(Index(['Year', 'Kilometers_Driven', 'Mileage', 'Engine', 'Power', 'Seats',\n",
       "        'Name_Ambassador', 'Name_Audi', 'Name_BMW', 'Name_Chevrolet',\n",
       "        'Name_Datsun', 'Name_Fiat', 'Name_Force', 'Name_Ford', 'Name_Honda',\n",
       "        'Name_Hyundai', 'Name_ISUZU', 'Name_Isuzu', 'Name_Jaguar', 'Name_Jeep',\n",
       "        'Name_Land', 'Name_Mahindra', 'Name_Maruti', 'Name_Mercedes-Benz',\n",
       "        'Name_Mini', 'Name_Mitsubishi', 'Name_Nissan', 'Name_Renault',\n",
       "        'Name_Skoda', 'Name_Tata', 'Name_Toyota', 'Name_Volkswagen',\n",
       "        'Name_Volvo', 'Location_Ahmedabad', 'Location_Bangalore',\n",
       "        'Location_Chennai', 'Location_Coimbatore', 'Location_Delhi',\n",
       "        'Location_Hyderabad', 'Location_Jaipur', 'Location_Kochi',\n",
       "        'Location_Kolkata', 'Location_Mumbai', 'Location_Pune', 'Fuel_Type_CNG',\n",
       "        'Fuel_Type_Diesel', 'Fuel_Type_LPG', 'Fuel_Type_Petrol',\n",
       "        'Transmission_Automatic', 'Transmission_Manual', 'Owner_Type_First',\n",
       "        'Owner_Type_Fourth & Above', 'Owner_Type_Second', 'Owner_Type_Third'],\n",
       "       dtype='object'),\n",
       " Index(['Year', 'Kilometers_Driven', 'Mileage', 'Engine', 'Power', 'Seats',\n",
       "        'Name_Ambassador', 'Name_Audi', 'Name_BMW', 'Name_Chevrolet',\n",
       "        'Name_Datsun', 'Name_Fiat', 'Name_Force', 'Name_Ford', 'Name_Honda',\n",
       "        'Name_Hyundai', 'Name_ISUZU', 'Name_Jeep', 'Name_Land', 'Name_Mahindra',\n",
       "        'Name_Maruti', 'Name_Mercedes-Benz', 'Name_Mini', 'Name_Mitsubishi',\n",
       "        'Name_Nissan', 'Name_Renault', 'Name_Skoda', 'Name_Tata', 'Name_Toyota',\n",
       "        'Name_Volkswagen', 'Name_Volvo', 'Location_Ahmedabad',\n",
       "        'Location_Bangalore', 'Location_Chennai', 'Location_Coimbatore',\n",
       "        'Location_Delhi', 'Location_Hyderabad', 'Location_Jaipur',\n",
       "        'Location_Kochi', 'Location_Kolkata', 'Location_Mumbai',\n",
       "        'Location_Pune', 'Fuel_Type_CNG', 'Fuel_Type_Diesel', 'Fuel_Type_LPG',\n",
       "        'Fuel_Type_Petrol', 'Transmission_Automatic', 'Transmission_Manual',\n",
       "        'Owner_Type_First', 'Owner_Type_Fourth & Above', 'Owner_Type_Second',\n",
       "        'Owner_Type_Third'],\n",
       "       dtype='object'))"
      ]
     },
     "execution_count": 236,
     "metadata": {
      "tags": []
     },
     "output_type": "execute_result"
    }
   ],
   "source": [
    "rEnc.columns, mEnc.columns"
   ]
  },
  {
   "cell_type": "code",
   "execution_count": 0,
   "metadata": {
    "colab": {
     "base_uri": "https://localhost:8080/",
     "height": 34
    },
    "colab_type": "code",
    "id": "KrlGFyPuPNRj",
    "outputId": "281c6d62-376c-46c0-a80f-1205c09f5b38"
   },
   "outputs": [
    {
     "data": {
      "text/plain": [
       "{'Name_Isuzu', 'Name_Jaguar'}"
      ]
     },
     "execution_count": 237,
     "metadata": {
      "tags": []
     },
     "output_type": "execute_result"
    }
   ],
   "source": [
    "set(rEnc.columns)-set(mEnc.columns)"
   ]
  },
  {
   "cell_type": "code",
   "execution_count": 0,
   "metadata": {
    "colab": {
     "base_uri": "https://localhost:8080/",
     "height": 34
    },
    "colab_type": "code",
    "id": "dlG7v0nxPN7D",
    "outputId": "f34e8e14-620f-4b60-af9d-0e4c4e2a1f37"
   },
   "outputs": [
    {
     "data": {
      "text/plain": [
       "set()"
      ]
     },
     "execution_count": 238,
     "metadata": {
      "tags": []
     },
     "output_type": "execute_result"
    }
   ],
   "source": [
    "set(mEnc.columns)-set(rEnc.columns)"
   ]
  },
  {
   "cell_type": "code",
   "execution_count": 0,
   "metadata": {
    "colab": {
     "base_uri": "https://localhost:8080/",
     "height": 261,
     "resources": {
      "http://localhost:8080/nbextensions/google.colab/files.js": {
       "data": "Ly8gQ29weXJpZ2h0IDIwMTcgR29vZ2xlIExMQwovLwovLyBMaWNlbnNlZCB1bmRlciB0aGUgQXBhY2hlIExpY2Vuc2UsIFZlcnNpb24gMi4wICh0aGUgIkxpY2Vuc2UiKTsKLy8geW91IG1heSBub3QgdXNlIHRoaXMgZmlsZSBleGNlcHQgaW4gY29tcGxpYW5jZSB3aXRoIHRoZSBMaWNlbnNlLgovLyBZb3UgbWF5IG9idGFpbiBhIGNvcHkgb2YgdGhlIExpY2Vuc2UgYXQKLy8KLy8gICAgICBodHRwOi8vd3d3LmFwYWNoZS5vcmcvbGljZW5zZXMvTElDRU5TRS0yLjAKLy8KLy8gVW5sZXNzIHJlcXVpcmVkIGJ5IGFwcGxpY2FibGUgbGF3IG9yIGFncmVlZCB0byBpbiB3cml0aW5nLCBzb2Z0d2FyZQovLyBkaXN0cmlidXRlZCB1bmRlciB0aGUgTGljZW5zZSBpcyBkaXN0cmlidXRlZCBvbiBhbiAiQVMgSVMiIEJBU0lTLAovLyBXSVRIT1VUIFdBUlJBTlRJRVMgT1IgQ09ORElUSU9OUyBPRiBBTlkgS0lORCwgZWl0aGVyIGV4cHJlc3Mgb3IgaW1wbGllZC4KLy8gU2VlIHRoZSBMaWNlbnNlIGZvciB0aGUgc3BlY2lmaWMgbGFuZ3VhZ2UgZ292ZXJuaW5nIHBlcm1pc3Npb25zIGFuZAovLyBsaW1pdGF0aW9ucyB1bmRlciB0aGUgTGljZW5zZS4KCi8qKgogKiBAZmlsZW92ZXJ2aWV3IEhlbHBlcnMgZm9yIGdvb2dsZS5jb2xhYiBQeXRob24gbW9kdWxlLgogKi8KKGZ1bmN0aW9uKHNjb3BlKSB7CmZ1bmN0aW9uIHNwYW4odGV4dCwgc3R5bGVBdHRyaWJ1dGVzID0ge30pIHsKICBjb25zdCBlbGVtZW50ID0gZG9jdW1lbnQuY3JlYXRlRWxlbWVudCgnc3BhbicpOwogIGVsZW1lbnQudGV4dENvbnRlbnQgPSB0ZXh0OwogIGZvciAoY29uc3Qga2V5IG9mIE9iamVjdC5rZXlzKHN0eWxlQXR0cmlidXRlcykpIHsKICAgIGVsZW1lbnQuc3R5bGVba2V5XSA9IHN0eWxlQXR0cmlidXRlc1trZXldOwogIH0KICByZXR1cm4gZWxlbWVudDsKfQoKLy8gTWF4IG51bWJlciBvZiBieXRlcyB3aGljaCB3aWxsIGJlIHVwbG9hZGVkIGF0IGEgdGltZS4KY29uc3QgTUFYX1BBWUxPQURfU0laRSA9IDEwMCAqIDEwMjQ7Ci8vIE1heCBhbW91bnQgb2YgdGltZSB0byBibG9jayB3YWl0aW5nIGZvciB0aGUgdXNlci4KY29uc3QgRklMRV9DSEFOR0VfVElNRU9VVF9NUyA9IDMwICogMTAwMDsKCmZ1bmN0aW9uIF91cGxvYWRGaWxlcyhpbnB1dElkLCBvdXRwdXRJZCkgewogIGNvbnN0IHN0ZXBzID0gdXBsb2FkRmlsZXNTdGVwKGlucHV0SWQsIG91dHB1dElkKTsKICBjb25zdCBvdXRwdXRFbGVtZW50ID0gZG9jdW1lbnQuZ2V0RWxlbWVudEJ5SWQob3V0cHV0SWQpOwogIC8vIENhY2hlIHN0ZXBzIG9uIHRoZSBvdXRwdXRFbGVtZW50IHRvIG1ha2UgaXQgYXZhaWxhYmxlIGZvciB0aGUgbmV4dCBjYWxsCiAgLy8gdG8gdXBsb2FkRmlsZXNDb250aW51ZSBmcm9tIFB5dGhvbi4KICBvdXRwdXRFbGVtZW50LnN0ZXBzID0gc3RlcHM7CgogIHJldHVybiBfdXBsb2FkRmlsZXNDb250aW51ZShvdXRwdXRJZCk7Cn0KCi8vIFRoaXMgaXMgcm91Z2hseSBhbiBhc3luYyBnZW5lcmF0b3IgKG5vdCBzdXBwb3J0ZWQgaW4gdGhlIGJyb3dzZXIgeWV0KSwKLy8gd2hlcmUgdGhlcmUgYXJlIG11bHRpcGxlIGFzeW5jaHJvbm91cyBzdGVwcyBhbmQgdGhlIFB5dGhvbiBzaWRlIGlzIGdvaW5nCi8vIHRvIHBvbGwgZm9yIGNvbXBsZXRpb24gb2YgZWFjaCBzdGVwLgovLyBUaGlzIHVzZXMgYSBQcm9taXNlIHRvIGJsb2NrIHRoZSBweXRob24gc2lkZSBvbiBjb21wbGV0aW9uIG9mIGVhY2ggc3RlcCwKLy8gdGhlbiBwYXNzZXMgdGhlIHJlc3VsdCBvZiB0aGUgcHJldmlvdXMgc3RlcCBhcyB0aGUgaW5wdXQgdG8gdGhlIG5leHQgc3RlcC4KZnVuY3Rpb24gX3VwbG9hZEZpbGVzQ29udGludWUob3V0cHV0SWQpIHsKICBjb25zdCBvdXRwdXRFbGVtZW50ID0gZG9jdW1lbnQuZ2V0RWxlbWVudEJ5SWQob3V0cHV0SWQpOwogIGNvbnN0IHN0ZXBzID0gb3V0cHV0RWxlbWVudC5zdGVwczsKCiAgY29uc3QgbmV4dCA9IHN0ZXBzLm5leHQob3V0cHV0RWxlbWVudC5sYXN0UHJvbWlzZVZhbHVlKTsKICByZXR1cm4gUHJvbWlzZS5yZXNvbHZlKG5leHQudmFsdWUucHJvbWlzZSkudGhlbigodmFsdWUpID0+IHsKICAgIC8vIENhY2hlIHRoZSBsYXN0IHByb21pc2UgdmFsdWUgdG8gbWFrZSBpdCBhdmFpbGFibGUgdG8gdGhlIG5leHQKICAgIC8vIHN0ZXAgb2YgdGhlIGdlbmVyYXRvci4KICAgIG91dHB1dEVsZW1lbnQubGFzdFByb21pc2VWYWx1ZSA9IHZhbHVlOwogICAgcmV0dXJuIG5leHQudmFsdWUucmVzcG9uc2U7CiAgfSk7Cn0KCi8qKgogKiBHZW5lcmF0b3IgZnVuY3Rpb24gd2hpY2ggaXMgY2FsbGVkIGJldHdlZW4gZWFjaCBhc3luYyBzdGVwIG9mIHRoZSB1cGxvYWQKICogcHJvY2Vzcy4KICogQHBhcmFtIHtzdHJpbmd9IGlucHV0SWQgRWxlbWVudCBJRCBvZiB0aGUgaW5wdXQgZmlsZSBwaWNrZXIgZWxlbWVudC4KICogQHBhcmFtIHtzdHJpbmd9IG91dHB1dElkIEVsZW1lbnQgSUQgb2YgdGhlIG91dHB1dCBkaXNwbGF5LgogKiBAcmV0dXJuIHshSXRlcmFibGU8IU9iamVjdD59IEl0ZXJhYmxlIG9mIG5leHQgc3RlcHMuCiAqLwpmdW5jdGlvbiogdXBsb2FkRmlsZXNTdGVwKGlucHV0SWQsIG91dHB1dElkKSB7CiAgY29uc3QgaW5wdXRFbGVtZW50ID0gZG9jdW1lbnQuZ2V0RWxlbWVudEJ5SWQoaW5wdXRJZCk7CiAgaW5wdXRFbGVtZW50LmRpc2FibGVkID0gZmFsc2U7CgogIGNvbnN0IG91dHB1dEVsZW1lbnQgPSBkb2N1bWVudC5nZXRFbGVtZW50QnlJZChvdXRwdXRJZCk7CiAgb3V0cHV0RWxlbWVudC5pbm5lckhUTUwgPSAnJzsKCiAgY29uc3QgcGlja2VkUHJvbWlzZSA9IG5ldyBQcm9taXNlKChyZXNvbHZlKSA9PiB7CiAgICBpbnB1dEVsZW1lbnQuYWRkRXZlbnRMaXN0ZW5lcignY2hhbmdlJywgKGUpID0+IHsKICAgICAgcmVzb2x2ZShlLnRhcmdldC5maWxlcyk7CiAgICB9KTsKICB9KTsKCiAgY29uc3QgY2FuY2VsID0gZG9jdW1lbnQuY3JlYXRlRWxlbWVudCgnYnV0dG9uJyk7CiAgaW5wdXRFbGVtZW50LnBhcmVudEVsZW1lbnQuYXBwZW5kQ2hpbGQoY2FuY2VsKTsKICBjYW5jZWwudGV4dENvbnRlbnQgPSAnQ2FuY2VsIHVwbG9hZCc7CiAgY29uc3QgY2FuY2VsUHJvbWlzZSA9IG5ldyBQcm9taXNlKChyZXNvbHZlKSA9PiB7CiAgICBjYW5jZWwub25jbGljayA9ICgpID0+IHsKICAgICAgcmVzb2x2ZShudWxsKTsKICAgIH07CiAgfSk7CgogIC8vIENhbmNlbCB1cGxvYWQgaWYgdXNlciBoYXNuJ3QgcGlja2VkIGFueXRoaW5nIGluIHRpbWVvdXQuCiAgY29uc3QgdGltZW91dFByb21pc2UgPSBuZXcgUHJvbWlzZSgocmVzb2x2ZSkgPT4gewogICAgc2V0VGltZW91dCgoKSA9PiB7CiAgICAgIHJlc29sdmUobnVsbCk7CiAgICB9LCBGSUxFX0NIQU5HRV9USU1FT1VUX01TKTsKICB9KTsKCiAgLy8gV2FpdCBmb3IgdGhlIHVzZXIgdG8gcGljayB0aGUgZmlsZXMuCiAgY29uc3QgZmlsZXMgPSB5aWVsZCB7CiAgICBwcm9taXNlOiBQcm9taXNlLnJhY2UoW3BpY2tlZFByb21pc2UsIHRpbWVvdXRQcm9taXNlLCBjYW5jZWxQcm9taXNlXSksCiAgICByZXNwb25zZTogewogICAgICBhY3Rpb246ICdzdGFydGluZycsCiAgICB9CiAgfTsKCiAgaWYgKCFmaWxlcykgewogICAgcmV0dXJuIHsKICAgICAgcmVzcG9uc2U6IHsKICAgICAgICBhY3Rpb246ICdjb21wbGV0ZScsCiAgICAgIH0KICAgIH07CiAgfQoKICBjYW5jZWwucmVtb3ZlKCk7CgogIC8vIERpc2FibGUgdGhlIGlucHV0IGVsZW1lbnQgc2luY2UgZnVydGhlciBwaWNrcyBhcmUgbm90IGFsbG93ZWQuCiAgaW5wdXRFbGVtZW50LmRpc2FibGVkID0gdHJ1ZTsKCiAgZm9yIChjb25zdCBmaWxlIG9mIGZpbGVzKSB7CiAgICBjb25zdCBsaSA9IGRvY3VtZW50LmNyZWF0ZUVsZW1lbnQoJ2xpJyk7CiAgICBsaS5hcHBlbmQoc3BhbihmaWxlLm5hbWUsIHtmb250V2VpZ2h0OiAnYm9sZCd9KSk7CiAgICBsaS5hcHBlbmQoc3BhbigKICAgICAgICBgKCR7ZmlsZS50eXBlIHx8ICduL2EnfSkgLSAke2ZpbGUuc2l6ZX0gYnl0ZXMsIGAgKwogICAgICAgIGBsYXN0IG1vZGlmaWVkOiAkewogICAgICAgICAgICBmaWxlLmxhc3RNb2RpZmllZERhdGUgPyBmaWxlLmxhc3RNb2RpZmllZERhdGUudG9Mb2NhbGVEYXRlU3RyaW5nKCkgOgogICAgICAgICAgICAgICAgICAgICAgICAgICAgICAgICAgICAnbi9hJ30gLSBgKSk7CiAgICBjb25zdCBwZXJjZW50ID0gc3BhbignMCUgZG9uZScpOwogICAgbGkuYXBwZW5kQ2hpbGQocGVyY2VudCk7CgogICAgb3V0cHV0RWxlbWVudC5hcHBlbmRDaGlsZChsaSk7CgogICAgY29uc3QgZmlsZURhdGFQcm9taXNlID0gbmV3IFByb21pc2UoKHJlc29sdmUpID0+IHsKICAgICAgY29uc3QgcmVhZGVyID0gbmV3IEZpbGVSZWFkZXIoKTsKICAgICAgcmVhZGVyLm9ubG9hZCA9IChlKSA9PiB7CiAgICAgICAgcmVzb2x2ZShlLnRhcmdldC5yZXN1bHQpOwogICAgICB9OwogICAgICByZWFkZXIucmVhZEFzQXJyYXlCdWZmZXIoZmlsZSk7CiAgICB9KTsKICAgIC8vIFdhaXQgZm9yIHRoZSBkYXRhIHRvIGJlIHJlYWR5LgogICAgbGV0IGZpbGVEYXRhID0geWllbGQgewogICAgICBwcm9taXNlOiBmaWxlRGF0YVByb21pc2UsCiAgICAgIHJlc3BvbnNlOiB7CiAgICAgICAgYWN0aW9uOiAnY29udGludWUnLAogICAgICB9CiAgICB9OwoKICAgIC8vIFVzZSBhIGNodW5rZWQgc2VuZGluZyB0byBhdm9pZCBtZXNzYWdlIHNpemUgbGltaXRzLiBTZWUgYi82MjExNTY2MC4KICAgIGxldCBwb3NpdGlvbiA9IDA7CiAgICB3aGlsZSAocG9zaXRpb24gPCBmaWxlRGF0YS5ieXRlTGVuZ3RoKSB7CiAgICAgIGNvbnN0IGxlbmd0aCA9IE1hdGgubWluKGZpbGVEYXRhLmJ5dGVMZW5ndGggLSBwb3NpdGlvbiwgTUFYX1BBWUxPQURfU0laRSk7CiAgICAgIGNvbnN0IGNodW5rID0gbmV3IFVpbnQ4QXJyYXkoZmlsZURhdGEsIHBvc2l0aW9uLCBsZW5ndGgpOwogICAgICBwb3NpdGlvbiArPSBsZW5ndGg7CgogICAgICBjb25zdCBiYXNlNjQgPSBidG9hKFN0cmluZy5mcm9tQ2hhckNvZGUuYXBwbHkobnVsbCwgY2h1bmspKTsKICAgICAgeWllbGQgewogICAgICAgIHJlc3BvbnNlOiB7CiAgICAgICAgICBhY3Rpb246ICdhcHBlbmQnLAogICAgICAgICAgZmlsZTogZmlsZS5uYW1lLAogICAgICAgICAgZGF0YTogYmFzZTY0LAogICAgICAgIH0sCiAgICAgIH07CiAgICAgIHBlcmNlbnQudGV4dENvbnRlbnQgPQogICAgICAgICAgYCR7TWF0aC5yb3VuZCgocG9zaXRpb24gLyBmaWxlRGF0YS5ieXRlTGVuZ3RoKSAqIDEwMCl9JSBkb25lYDsKICAgIH0KICB9CgogIC8vIEFsbCBkb25lLgogIHlpZWxkIHsKICAgIHJlc3BvbnNlOiB7CiAgICAgIGFjdGlvbjogJ2NvbXBsZXRlJywKICAgIH0KICB9Owp9CgpzY29wZS5nb29nbGUgPSBzY29wZS5nb29nbGUgfHwge307CnNjb3BlLmdvb2dsZS5jb2xhYiA9IHNjb3BlLmdvb2dsZS5jb2xhYiB8fCB7fTsKc2NvcGUuZ29vZ2xlLmNvbGFiLl9maWxlcyA9IHsKICBfdXBsb2FkRmlsZXMsCiAgX3VwbG9hZEZpbGVzQ29udGludWUsCn07Cn0pKHNlbGYpOwo=",
       "headers": [
        [
         "content-type",
         "application/javascript"
        ]
       ],
       "ok": true,
       "status": 200,
       "status_text": ""
      }
     }
    },
    "colab_type": "code",
    "id": "m_BrT21tPOHd",
    "outputId": "c68172f7-f038-4408-e21a-22513c6698eb"
   },
   "outputs": [
    {
     "data": {
      "text/html": [
       "\n",
       "     <input type=\"file\" id=\"files-ea351bb2-a26f-47f8-b0e6-446fb088e92d\" name=\"files[]\" multiple disabled />\n",
       "     <output id=\"result-ea351bb2-a26f-47f8-b0e6-446fb088e92d\">\n",
       "      Upload widget is only available when the cell has been executed in the\n",
       "      current browser session. Please rerun this cell to enable.\n",
       "      </output>\n",
       "      <script src=\"/nbextensions/google.colab/files.js\"></script> "
      ],
      "text/plain": [
       "<IPython.core.display.HTML object>"
      ]
     },
     "metadata": {
      "tags": []
     },
     "output_type": "display_data"
    },
    {
     "name": "stdout",
     "output_type": "stream",
     "text": [
      "Saving Data_Test.xlsx to Data_Test (1).xlsx\n"
     ]
    },
    {
     "data": {
      "text/html": [
       "<div>\n",
       "<style scoped>\n",
       "    .dataframe tbody tr th:only-of-type {\n",
       "        vertical-align: middle;\n",
       "    }\n",
       "\n",
       "    .dataframe tbody tr th {\n",
       "        vertical-align: top;\n",
       "    }\n",
       "\n",
       "    .dataframe thead th {\n",
       "        text-align: right;\n",
       "    }\n",
       "</style>\n",
       "<table border=\"1\" class=\"dataframe\">\n",
       "  <thead>\n",
       "    <tr style=\"text-align: right;\">\n",
       "      <th></th>\n",
       "      <th>Name</th>\n",
       "      <th>Location</th>\n",
       "      <th>Year</th>\n",
       "      <th>Kilometers_Driven</th>\n",
       "      <th>Fuel_Type</th>\n",
       "      <th>Transmission</th>\n",
       "      <th>Owner_Type</th>\n",
       "      <th>Mileage</th>\n",
       "      <th>Engine</th>\n",
       "      <th>Power</th>\n",
       "      <th>Seats</th>\n",
       "    </tr>\n",
       "  </thead>\n",
       "  <tbody>\n",
       "    <tr>\n",
       "      <th>0</th>\n",
       "      <td>Maruti Alto K10 LXI CNG</td>\n",
       "      <td>Delhi</td>\n",
       "      <td>2014</td>\n",
       "      <td>40929</td>\n",
       "      <td>CNG</td>\n",
       "      <td>Manual</td>\n",
       "      <td>First</td>\n",
       "      <td>32.26 km/kg</td>\n",
       "      <td>998 CC</td>\n",
       "      <td>58.2 bhp</td>\n",
       "      <td>4.0</td>\n",
       "    </tr>\n",
       "    <tr>\n",
       "      <th>1</th>\n",
       "      <td>Maruti Alto 800 2016-2019 LXI</td>\n",
       "      <td>Coimbatore</td>\n",
       "      <td>2013</td>\n",
       "      <td>54493</td>\n",
       "      <td>Petrol</td>\n",
       "      <td>Manual</td>\n",
       "      <td>Second</td>\n",
       "      <td>24.7 kmpl</td>\n",
       "      <td>796 CC</td>\n",
       "      <td>47.3 bhp</td>\n",
       "      <td>5.0</td>\n",
       "    </tr>\n",
       "    <tr>\n",
       "      <th>2</th>\n",
       "      <td>Toyota Innova Crysta Touring Sport 2.4 MT</td>\n",
       "      <td>Mumbai</td>\n",
       "      <td>2017</td>\n",
       "      <td>34000</td>\n",
       "      <td>Diesel</td>\n",
       "      <td>Manual</td>\n",
       "      <td>First</td>\n",
       "      <td>13.68 kmpl</td>\n",
       "      <td>2393 CC</td>\n",
       "      <td>147.8 bhp</td>\n",
       "      <td>7.0</td>\n",
       "    </tr>\n",
       "    <tr>\n",
       "      <th>3</th>\n",
       "      <td>Toyota Etios Liva GD</td>\n",
       "      <td>Hyderabad</td>\n",
       "      <td>2012</td>\n",
       "      <td>139000</td>\n",
       "      <td>Diesel</td>\n",
       "      <td>Manual</td>\n",
       "      <td>First</td>\n",
       "      <td>23.59 kmpl</td>\n",
       "      <td>1364 CC</td>\n",
       "      <td>null bhp</td>\n",
       "      <td>5.0</td>\n",
       "    </tr>\n",
       "    <tr>\n",
       "      <th>4</th>\n",
       "      <td>Hyundai i20 Magna</td>\n",
       "      <td>Mumbai</td>\n",
       "      <td>2014</td>\n",
       "      <td>29000</td>\n",
       "      <td>Petrol</td>\n",
       "      <td>Manual</td>\n",
       "      <td>First</td>\n",
       "      <td>18.5 kmpl</td>\n",
       "      <td>1197 CC</td>\n",
       "      <td>82.85 bhp</td>\n",
       "      <td>5.0</td>\n",
       "    </tr>\n",
       "  </tbody>\n",
       "</table>\n",
       "</div>"
      ],
      "text/plain": [
       "                                        Name    Location  ...      Power  Seats\n",
       "0                    Maruti Alto K10 LXI CNG       Delhi  ...   58.2 bhp    4.0\n",
       "1              Maruti Alto 800 2016-2019 LXI  Coimbatore  ...   47.3 bhp    5.0\n",
       "2  Toyota Innova Crysta Touring Sport 2.4 MT      Mumbai  ...  147.8 bhp    7.0\n",
       "3                       Toyota Etios Liva GD   Hyderabad  ...   null bhp    5.0\n",
       "4                          Hyundai i20 Magna      Mumbai  ...  82.85 bhp    5.0\n",
       "\n",
       "[5 rows x 11 columns]"
      ]
     },
     "execution_count": 240,
     "metadata": {
      "tags": []
     },
     "output_type": "execute_result"
    }
   ],
   "source": [
    "from google.colab import files\n",
    "uploaded = files.upload()\n",
    "import io\n",
    "dfTest = pd.read_excel(io.BytesIO(uploaded['Data_Test.xlsx']))\n",
    "dfTest.head()"
   ]
  },
  {
   "cell_type": "code",
   "execution_count": 0,
   "metadata": {
    "colab": {
     "base_uri": "https://localhost:8080/",
     "height": 34
    },
    "colab_type": "code",
    "id": "RYeO1k4APOwB",
    "outputId": "0f071110-251d-4ab6-dc83-de0d18dc1cda"
   },
   "outputs": [
    {
     "data": {
      "text/plain": [
       "(1234, 11)"
      ]
     },
     "execution_count": 241,
     "metadata": {
      "tags": []
     },
     "output_type": "execute_result"
    }
   ],
   "source": [
    "dfTest.shape"
   ]
  },
  {
   "cell_type": "code",
   "execution_count": 0,
   "metadata": {
    "colab": {},
    "colab_type": "code",
    "id": "hsRd2wgWPO6h"
   },
   "outputs": [],
   "source": [
    "#Building and training the neural network model"
   ]
  },
  {
   "cell_type": "code",
   "execution_count": 0,
   "metadata": {
    "colab": {},
    "colab_type": "code",
    "id": "W-Ujc9EFPPre"
   },
   "outputs": [],
   "source": [
    "from keras.models import Sequential\n",
    "from keras.layers import Dense\n",
    "from keras.wrappers.scikit_learn import KerasRegressor\n",
    "from sklearn.model_selection import cross_val_score\n",
    "from sklearn.model_selection import KFold\n",
    "from sklearn.preprocessing import StandardScaler\n",
    "from sklearn.pipeline import Pipeline\n",
    "from sklearn.metrics import r2_score\n",
    "import keras\n"
   ]
  },
  {
   "cell_type": "code",
   "execution_count": 0,
   "metadata": {
    "colab": {},
    "colab_type": "code",
    "id": "RkzjA1kRPQ3c"
   },
   "outputs": [],
   "source": [
    "from sklearn.model_selection import train_test_split"
   ]
  },
  {
   "cell_type": "code",
   "execution_count": 0,
   "metadata": {
    "colab": {},
    "colab_type": "code",
    "id": "lagnQHvLPRBT"
   },
   "outputs": [],
   "source": [
    "XTrain, XTest, yTrain, yTest = train_test_split(rEnc, rEncY, test_size = 0.3)"
   ]
  },
  {
   "cell_type": "code",
   "execution_count": 340,
   "metadata": {
    "colab": {
     "base_uri": "https://localhost:8080/",
     "height": 34
    },
    "colab_type": "code",
    "id": "Sp3yR1M_PRLt",
    "outputId": "1da56e8b-a0d9-4a0a-b568-7e8360c7334d"
   },
   "outputs": [
    {
     "data": {
      "text/plain": [
       "((3914, 54), (1678, 54), (3914,), (1678,))"
      ]
     },
     "execution_count": 340,
     "metadata": {
      "tags": []
     },
     "output_type": "execute_result"
    }
   ],
   "source": [
    "XTrain.shape, XTest.shape, yTrain.shape, yTest.shape"
   ]
  },
  {
   "cell_type": "code",
   "execution_count": 442,
   "metadata": {
    "colab": {
     "base_uri": "https://localhost:8080/",
     "height": 1000
    },
    "colab_type": "code",
    "id": "oAzZkPWKPRVD",
    "outputId": "b0ae8616-381e-4c95-ff2b-cb9bfa1a6fc2"
   },
   "outputs": [
    {
     "name": "stdout",
     "output_type": "stream",
     "text": [
      "Model: \"sequential_90\"\n",
      "_________________________________________________________________\n",
      "Layer (type)                 Output Shape              Param #   \n",
      "=================================================================\n",
      "dense_288 (Dense)            (None, 54)                2970      \n",
      "_________________________________________________________________\n",
      "dense_289 (Dense)            (None, 54)                2970      \n",
      "_________________________________________________________________\n",
      "dense_290 (Dense)            (None, 13)                715       \n",
      "_________________________________________________________________\n",
      "dense_291 (Dense)            (None, 1)                 14        \n",
      "=================================================================\n",
      "Total params: 6,669\n",
      "Trainable params: 6,669\n",
      "Non-trainable params: 0\n",
      "_________________________________________________________________\n",
      "Train on 2739 samples, validate on 1175 samples\n",
      "Epoch 1/40\n",
      "2739/2739 [==============================] - 1s 531us/step - loss: 116.5355 - mean_squared_error: 116.5355 - mean_absolute_error: 7.9718 - val_loss: 113.5245 - val_mean_squared_error: 113.5245 - val_mean_absolute_error: 7.8389\n",
      "Epoch 2/40\n",
      "2739/2739 [==============================] - 0s 33us/step - loss: 115.5461 - mean_squared_error: 115.5461 - mean_absolute_error: 7.9205 - val_loss: 111.7670 - val_mean_squared_error: 111.7670 - val_mean_absolute_error: 7.7521\n",
      "Epoch 3/40\n",
      "2739/2739 [==============================] - 0s 30us/step - loss: 112.3652 - mean_squared_error: 112.3652 - mean_absolute_error: 7.7748 - val_loss: 106.0810 - val_mean_squared_error: 106.0810 - val_mean_absolute_error: 7.5047\n",
      "Epoch 4/40\n",
      "2739/2739 [==============================] - 0s 36us/step - loss: 102.7927 - mean_squared_error: 102.7927 - mean_absolute_error: 7.3750 - val_loss: 90.1391 - val_mean_squared_error: 90.1391 - val_mean_absolute_error: 6.8448\n",
      "Epoch 5/40\n",
      "2739/2739 [==============================] - 0s 39us/step - loss: 78.8657 - mean_squared_error: 78.8657 - mean_absolute_error: 6.3613 - val_loss: 55.9613 - val_mean_squared_error: 55.9613 - val_mean_absolute_error: 5.2903\n",
      "Epoch 6/40\n",
      "2739/2739 [==============================] - 0s 39us/step - loss: 38.2463 - mean_squared_error: 38.2463 - mean_absolute_error: 4.3272 - val_loss: 16.2814 - val_mean_squared_error: 16.2814 - val_mean_absolute_error: 2.8580\n",
      "Epoch 7/40\n",
      "2739/2739 [==============================] - 0s 42us/step - loss: 14.4251 - mean_squared_error: 14.4251 - mean_absolute_error: 2.6889 - val_loss: 13.9989 - val_mean_squared_error: 13.9989 - val_mean_absolute_error: 2.5070\n",
      "Epoch 8/40\n",
      "2739/2739 [==============================] - 0s 32us/step - loss: 11.4964 - mean_squared_error: 11.4964 - mean_absolute_error: 2.2628 - val_loss: 8.6431 - val_mean_squared_error: 8.6431 - val_mean_absolute_error: 1.9402\n",
      "Epoch 9/40\n",
      "2739/2739 [==============================] - 0s 30us/step - loss: 8.3603 - mean_squared_error: 8.3603 - mean_absolute_error: 1.8968 - val_loss: 8.1234 - val_mean_squared_error: 8.1234 - val_mean_absolute_error: 1.8245\n",
      "Epoch 10/40\n",
      "2739/2739 [==============================] - 0s 27us/step - loss: 7.4929 - mean_squared_error: 7.4929 - mean_absolute_error: 1.7806 - val_loss: 7.5397 - val_mean_squared_error: 7.5397 - val_mean_absolute_error: 1.7864\n",
      "Epoch 11/40\n",
      "2739/2739 [==============================] - 0s 35us/step - loss: 6.9261 - mean_squared_error: 6.9261 - mean_absolute_error: 1.7277 - val_loss: 7.1865 - val_mean_squared_error: 7.1865 - val_mean_absolute_error: 1.7350\n",
      "Epoch 12/40\n",
      "2739/2739 [==============================] - 0s 25us/step - loss: 6.4872 - mean_squared_error: 6.4872 - mean_absolute_error: 1.6595 - val_loss: 6.8864 - val_mean_squared_error: 6.8864 - val_mean_absolute_error: 1.6764\n",
      "Epoch 13/40\n",
      "2739/2739 [==============================] - 0s 26us/step - loss: 6.1944 - mean_squared_error: 6.1944 - mean_absolute_error: 1.6066 - val_loss: 6.6780 - val_mean_squared_error: 6.6780 - val_mean_absolute_error: 1.6399\n",
      "Epoch 14/40\n",
      "2739/2739 [==============================] - 0s 32us/step - loss: 5.8863 - mean_squared_error: 5.8863 - mean_absolute_error: 1.5750 - val_loss: 6.5025 - val_mean_squared_error: 6.5025 - val_mean_absolute_error: 1.6232\n",
      "Epoch 15/40\n",
      "2739/2739 [==============================] - 0s 31us/step - loss: 5.6640 - mean_squared_error: 5.6640 - mean_absolute_error: 1.5426 - val_loss: 6.2923 - val_mean_squared_error: 6.2923 - val_mean_absolute_error: 1.5809\n",
      "Epoch 16/40\n",
      "2739/2739 [==============================] - 0s 28us/step - loss: 5.5018 - mean_squared_error: 5.5018 - mean_absolute_error: 1.5008 - val_loss: 6.1301 - val_mean_squared_error: 6.1301 - val_mean_absolute_error: 1.5514\n",
      "Epoch 17/40\n",
      "2739/2739 [==============================] - 0s 32us/step - loss: 5.2761 - mean_squared_error: 5.2761 - mean_absolute_error: 1.4769 - val_loss: 6.0085 - val_mean_squared_error: 6.0085 - val_mean_absolute_error: 1.5389\n",
      "Epoch 18/40\n",
      "2739/2739 [==============================] - 0s 39us/step - loss: 5.1333 - mean_squared_error: 5.1333 - mean_absolute_error: 1.4555 - val_loss: 5.8423 - val_mean_squared_error: 5.8423 - val_mean_absolute_error: 1.5061\n",
      "Epoch 19/40\n",
      "2739/2739 [==============================] - 0s 39us/step - loss: 4.9754 - mean_squared_error: 4.9754 - mean_absolute_error: 1.4272 - val_loss: 5.7213 - val_mean_squared_error: 5.7213 - val_mean_absolute_error: 1.4865\n",
      "Epoch 20/40\n",
      "2739/2739 [==============================] - 0s 38us/step - loss: 4.8453 - mean_squared_error: 4.8453 - mean_absolute_error: 1.4054 - val_loss: 5.6146 - val_mean_squared_error: 5.6146 - val_mean_absolute_error: 1.4715\n",
      "Epoch 21/40\n",
      "2739/2739 [==============================] - 0s 32us/step - loss: 4.7354 - mean_squared_error: 4.7354 - mean_absolute_error: 1.3885 - val_loss: 5.5205 - val_mean_squared_error: 5.5205 - val_mean_absolute_error: 1.4569\n",
      "Epoch 22/40\n",
      "2739/2739 [==============================] - 0s 34us/step - loss: 4.6483 - mean_squared_error: 4.6483 - mean_absolute_error: 1.3679 - val_loss: 5.3961 - val_mean_squared_error: 5.3961 - val_mean_absolute_error: 1.4362\n",
      "Epoch 23/40\n",
      "2739/2739 [==============================] - 0s 31us/step - loss: 4.5453 - mean_squared_error: 4.5453 - mean_absolute_error: 1.3564 - val_loss: 5.3215 - val_mean_squared_error: 5.3215 - val_mean_absolute_error: 1.4241\n",
      "Epoch 24/40\n",
      "2739/2739 [==============================] - 0s 33us/step - loss: 4.4810 - mean_squared_error: 4.4810 - mean_absolute_error: 1.3357 - val_loss: 5.2059 - val_mean_squared_error: 5.2059 - val_mean_absolute_error: 1.3983\n",
      "Epoch 25/40\n",
      "2739/2739 [==============================] - 0s 28us/step - loss: 4.3678 - mean_squared_error: 4.3678 - mean_absolute_error: 1.3233 - val_loss: 5.1512 - val_mean_squared_error: 5.1512 - val_mean_absolute_error: 1.3961\n",
      "Epoch 26/40\n",
      "2739/2739 [==============================] - 0s 29us/step - loss: 4.2921 - mean_squared_error: 4.2922 - mean_absolute_error: 1.3090 - val_loss: 5.0356 - val_mean_squared_error: 5.0356 - val_mean_absolute_error: 1.3727\n",
      "Epoch 27/40\n",
      "2739/2739 [==============================] - 0s 30us/step - loss: 4.2418 - mean_squared_error: 4.2418 - mean_absolute_error: 1.2950 - val_loss: 4.9607 - val_mean_squared_error: 4.9607 - val_mean_absolute_error: 1.3605\n",
      "Epoch 28/40\n",
      "2739/2739 [==============================] - 0s 30us/step - loss: 4.1511 - mean_squared_error: 4.1511 - mean_absolute_error: 1.2821 - val_loss: 4.8940 - val_mean_squared_error: 4.8940 - val_mean_absolute_error: 1.3519\n",
      "Epoch 29/40\n",
      "2739/2739 [==============================] - 0s 28us/step - loss: 4.1138 - mean_squared_error: 4.1138 - mean_absolute_error: 1.2731 - val_loss: 4.8443 - val_mean_squared_error: 4.8443 - val_mean_absolute_error: 1.3433\n",
      "Epoch 30/40\n",
      "2739/2739 [==============================] - 0s 37us/step - loss: 4.0360 - mean_squared_error: 4.0360 - mean_absolute_error: 1.2656 - val_loss: 4.7683 - val_mean_squared_error: 4.7683 - val_mean_absolute_error: 1.3310\n",
      "Epoch 31/40\n",
      "2739/2739 [==============================] - 0s 37us/step - loss: 3.9696 - mean_squared_error: 3.9696 - mean_absolute_error: 1.2539 - val_loss: 4.6815 - val_mean_squared_error: 4.6815 - val_mean_absolute_error: 1.3181\n",
      "Epoch 32/40\n",
      "2739/2739 [==============================] - 0s 37us/step - loss: 3.9292 - mean_squared_error: 3.9292 - mean_absolute_error: 1.2437 - val_loss: 4.6133 - val_mean_squared_error: 4.6133 - val_mean_absolute_error: 1.3026\n",
      "Epoch 33/40\n",
      "2739/2739 [==============================] - 0s 37us/step - loss: 3.8749 - mean_squared_error: 3.8749 - mean_absolute_error: 1.2338 - val_loss: 4.5657 - val_mean_squared_error: 4.5657 - val_mean_absolute_error: 1.2982\n",
      "Epoch 34/40\n",
      "2739/2739 [==============================] - 0s 29us/step - loss: 3.8297 - mean_squared_error: 3.8297 - mean_absolute_error: 1.2257 - val_loss: 4.5220 - val_mean_squared_error: 4.5220 - val_mean_absolute_error: 1.2876\n",
      "Epoch 35/40\n",
      "2739/2739 [==============================] - 0s 31us/step - loss: 3.7974 - mean_squared_error: 3.7974 - mean_absolute_error: 1.2186 - val_loss: 4.4700 - val_mean_squared_error: 4.4700 - val_mean_absolute_error: 1.2804\n",
      "Epoch 36/40\n",
      "2739/2739 [==============================] - 0s 35us/step - loss: 3.7499 - mean_squared_error: 3.7499 - mean_absolute_error: 1.2122 - val_loss: 4.4129 - val_mean_squared_error: 4.4129 - val_mean_absolute_error: 1.2721\n",
      "Epoch 37/40\n",
      "2739/2739 [==============================] - 0s 28us/step - loss: 3.7009 - mean_squared_error: 3.7009 - mean_absolute_error: 1.2028 - val_loss: 4.3847 - val_mean_squared_error: 4.3847 - val_mean_absolute_error: 1.2665\n",
      "Epoch 38/40\n",
      "2739/2739 [==============================] - 0s 37us/step - loss: 3.6786 - mean_squared_error: 3.6786 - mean_absolute_error: 1.2010 - val_loss: 4.3697 - val_mean_squared_error: 4.3697 - val_mean_absolute_error: 1.2667\n",
      "Epoch 39/40\n",
      "2739/2739 [==============================] - 0s 30us/step - loss: 3.6374 - mean_squared_error: 3.6374 - mean_absolute_error: 1.1902 - val_loss: 4.3401 - val_mean_squared_error: 4.3401 - val_mean_absolute_error: 1.2609\n",
      "Epoch 40/40\n",
      "2739/2739 [==============================] - 0s 35us/step - loss: 3.5959 - mean_squared_error: 3.5959 - mean_absolute_error: 1.1852 - val_loss: 4.3284 - val_mean_squared_error: 4.3284 - val_mean_absolute_error: 1.2610\n"
     ]
    }
   ],
   "source": [
    "model = Sequential()\n",
    "model.add(Dense(54, input_dim = 54, kernel_initializer='normal', activation = 'relu'))\n",
    "model.add(Dense(54, kernel_initializer='normal', activation = 'relu'))\n",
    "model.add(Dense(13, kernel_initializer='normal', activation = 'relu'))\n",
    "model.add(Dense(1, kernel_initializer='normal'))\n",
    "opt = keras.optimizers.Adam(learning_rate = 0.001)\n",
    "model.compile(loss = 'mean_squared_error', optimizer = opt, metrics = ['mean_squared_error', 'mean_absolute_error'])\n",
    "model.summary()\n",
    "history = model.fit(XTrain, yTrain, epochs= 40, batch_size= 256,  verbose=1, validation_split=0.3)"
   ]
  },
  {
   "cell_type": "code",
   "execution_count": 443,
   "metadata": {
    "colab": {
     "base_uri": "https://localhost:8080/",
     "height": 34
    },
    "colab_type": "code",
    "id": "bEwIhdYWPRfW",
    "outputId": "9c83f716-c2ae-481e-a515-f1c4bdd2980e"
   },
   "outputs": [
    {
     "data": {
      "text/plain": [
       "(0.9283081843560184, 0.9016074605230272)"
      ]
     },
     "execution_count": 443,
     "metadata": {
      "tags": []
     },
     "output_type": "execute_result"
    }
   ],
   "source": [
    "yPred = model.predict(XTrain)\n",
    "yPredTest = model.predict(XTest)\n",
    "r2_score(yTrain, yPred), r2_score(yTest, yPredTest)\n"
   ]
  },
  {
   "cell_type": "code",
   "execution_count": 485,
   "metadata": {
    "colab": {
     "base_uri": "https://localhost:8080/",
     "height": 1000
    },
    "colab_type": "code",
    "id": "9nfYOi43PRpc",
    "outputId": "072f216a-9e1b-40dc-cf11-9ed53b493491"
   },
   "outputs": [
    {
     "name": "stdout",
     "output_type": "stream",
     "text": [
      "Model: \"sequential_114\"\n",
      "_________________________________________________________________\n",
      "Layer (type)                 Output Shape              Param #   \n",
      "=================================================================\n",
      "dense_402 (Dense)            (None, 128)               7040      \n",
      "_________________________________________________________________\n",
      "dense_403 (Dense)            (None, 256)               33024     \n",
      "_________________________________________________________________\n",
      "dense_404 (Dense)            (None, 256)               65792     \n",
      "_________________________________________________________________\n",
      "dense_405 (Dense)            (None, 256)               65792     \n",
      "_________________________________________________________________\n",
      "dense_406 (Dense)            (None, 1)                 257       \n",
      "=================================================================\n",
      "Total params: 171,905\n",
      "Trainable params: 171,905\n",
      "Non-trainable params: 0\n",
      "_________________________________________________________________\n",
      "Train on 2739 samples, validate on 1175 samples\n",
      "Epoch 1/120\n",
      "2739/2739 [==============================] - 2s 749us/step - loss: 75.4823 - mean_squared_error: 71.4570 - mean_absolute_error: 5.7459 - val_loss: 23.6983 - val_mean_squared_error: 19.9584 - val_mean_absolute_error: 2.7976\n",
      "Epoch 2/120\n",
      "2739/2739 [==============================] - 0s 115us/step - loss: 19.1621 - mean_squared_error: 15.6576 - mean_absolute_error: 2.4725 - val_loss: 17.0316 - val_mean_squared_error: 13.7772 - val_mean_absolute_error: 2.3869\n",
      "Epoch 3/120\n",
      "2739/2739 [==============================] - 0s 119us/step - loss: 12.1988 - mean_squared_error: 9.0909 - mean_absolute_error: 1.9286 - val_loss: 10.5752 - val_mean_squared_error: 7.6244 - val_mean_absolute_error: 1.7498\n",
      "Epoch 4/120\n",
      "2739/2739 [==============================] - 0s 113us/step - loss: 9.3966 - mean_squared_error: 6.5541 - mean_absolute_error: 1.6541 - val_loss: 9.1032 - val_mean_squared_error: 6.3728 - val_mean_absolute_error: 1.5516\n",
      "Epoch 5/120\n",
      "2739/2739 [==============================] - 0s 111us/step - loss: 7.5897 - mean_squared_error: 4.9389 - mean_absolute_error: 1.4184 - val_loss: 8.2312 - val_mean_squared_error: 5.6587 - val_mean_absolute_error: 1.4401\n",
      "Epoch 6/120\n",
      "2739/2739 [==============================] - 0s 120us/step - loss: 6.8049 - mean_squared_error: 4.2878 - mean_absolute_error: 1.3508 - val_loss: 7.7231 - val_mean_squared_error: 5.2699 - val_mean_absolute_error: 1.3551\n",
      "Epoch 7/120\n",
      "2739/2739 [==============================] - 0s 114us/step - loss: 6.2928 - mean_squared_error: 3.8832 - mean_absolute_error: 1.2603 - val_loss: 7.3186 - val_mean_squared_error: 4.9551 - val_mean_absolute_error: 1.3000\n",
      "Epoch 8/120\n",
      "2739/2739 [==============================] - 0s 110us/step - loss: 5.9330 - mean_squared_error: 3.6078 - mean_absolute_error: 1.2186 - val_loss: 7.1015 - val_mean_squared_error: 4.8148 - val_mean_absolute_error: 1.2421\n",
      "Epoch 9/120\n",
      "2739/2739 [==============================] - 0s 112us/step - loss: 5.5053 - mean_squared_error: 3.2478 - mean_absolute_error: 1.1514 - val_loss: 7.7485 - val_mean_squared_error: 5.5197 - val_mean_absolute_error: 1.3298\n",
      "Epoch 10/120\n",
      "2739/2739 [==============================] - 0s 113us/step - loss: 5.3702 - mean_squared_error: 3.1729 - mean_absolute_error: 1.1272 - val_loss: 6.7387 - val_mean_squared_error: 4.5721 - val_mean_absolute_error: 1.1850\n",
      "Epoch 11/120\n",
      "2739/2739 [==============================] - 0s 109us/step - loss: 5.1175 - mean_squared_error: 2.9724 - mean_absolute_error: 1.0880 - val_loss: 6.7706 - val_mean_squared_error: 4.6520 - val_mean_absolute_error: 1.1944\n",
      "Epoch 12/120\n",
      "2739/2739 [==============================] - 0s 114us/step - loss: 4.8873 - mean_squared_error: 2.7935 - mean_absolute_error: 1.0545 - val_loss: 6.6242 - val_mean_squared_error: 4.5536 - val_mean_absolute_error: 1.1928\n",
      "Epoch 13/120\n",
      "2739/2739 [==============================] - 0s 125us/step - loss: 4.7387 - mean_squared_error: 2.6947 - mean_absolute_error: 1.0309 - val_loss: 6.3985 - val_mean_squared_error: 4.3793 - val_mean_absolute_error: 1.1550\n",
      "Epoch 14/120\n",
      "2739/2739 [==============================] - 0s 114us/step - loss: 4.6284 - mean_squared_error: 2.6278 - mean_absolute_error: 1.0122 - val_loss: 6.2244 - val_mean_squared_error: 4.2474 - val_mean_absolute_error: 1.1281\n",
      "Epoch 15/120\n",
      "2739/2739 [==============================] - 0s 114us/step - loss: 4.6571 - mean_squared_error: 2.6972 - mean_absolute_error: 1.0163 - val_loss: 7.5271 - val_mean_squared_error: 5.5961 - val_mean_absolute_error: 1.3342\n",
      "Epoch 16/120\n",
      "2739/2739 [==============================] - 0s 113us/step - loss: 4.8257 - mean_squared_error: 2.9081 - mean_absolute_error: 1.0697 - val_loss: 6.1507 - val_mean_squared_error: 4.2548 - val_mean_absolute_error: 1.1323\n",
      "Epoch 17/120\n",
      "2739/2739 [==============================] - 0s 114us/step - loss: 4.4927 - mean_squared_error: 2.6174 - mean_absolute_error: 1.0187 - val_loss: 6.2553 - val_mean_squared_error: 4.3977 - val_mean_absolute_error: 1.1663\n",
      "Epoch 18/120\n",
      "2739/2739 [==============================] - 0s 110us/step - loss: 4.3227 - mean_squared_error: 2.4816 - mean_absolute_error: 0.9881 - val_loss: 6.6701 - val_mean_squared_error: 4.8439 - val_mean_absolute_error: 1.2537\n",
      "Epoch 19/120\n",
      "2739/2739 [==============================] - 0s 114us/step - loss: 4.1679 - mean_squared_error: 2.3641 - mean_absolute_error: 0.9619 - val_loss: 5.6895 - val_mean_squared_error: 3.9028 - val_mean_absolute_error: 1.1127\n",
      "Epoch 20/120\n",
      "2739/2739 [==============================] - 0s 113us/step - loss: 4.1551 - mean_squared_error: 2.3863 - mean_absolute_error: 0.9705 - val_loss: 5.7406 - val_mean_squared_error: 3.9874 - val_mean_absolute_error: 1.1345\n",
      "Epoch 21/120\n",
      "2739/2739 [==============================] - 0s 111us/step - loss: 4.0742 - mean_squared_error: 2.3394 - mean_absolute_error: 0.9588 - val_loss: 5.7104 - val_mean_squared_error: 3.9912 - val_mean_absolute_error: 1.1393\n",
      "Epoch 22/120\n",
      "2739/2739 [==============================] - 0s 116us/step - loss: 4.2314 - mean_squared_error: 2.5265 - mean_absolute_error: 0.9866 - val_loss: 6.1441 - val_mean_squared_error: 4.4513 - val_mean_absolute_error: 1.2033\n",
      "Epoch 23/120\n",
      "2739/2739 [==============================] - 0s 117us/step - loss: 4.0326 - mean_squared_error: 2.3576 - mean_absolute_error: 0.9811 - val_loss: 5.2321 - val_mean_squared_error: 3.5731 - val_mean_absolute_error: 1.0710\n",
      "Epoch 24/120\n",
      "2739/2739 [==============================] - 0s 114us/step - loss: 3.8566 - mean_squared_error: 2.2099 - mean_absolute_error: 0.9319 - val_loss: 5.4777 - val_mean_squared_error: 3.8453 - val_mean_absolute_error: 1.1470\n",
      "Epoch 25/120\n",
      "2739/2739 [==============================] - 0s 120us/step - loss: 3.7446 - mean_squared_error: 2.1276 - mean_absolute_error: 0.9107 - val_loss: 5.4682 - val_mean_squared_error: 3.8624 - val_mean_absolute_error: 1.1208\n",
      "Epoch 26/120\n",
      "2739/2739 [==============================] - 0s 114us/step - loss: 3.6472 - mean_squared_error: 2.0578 - mean_absolute_error: 0.8928 - val_loss: 5.0380 - val_mean_squared_error: 3.4636 - val_mean_absolute_error: 1.0748\n",
      "Epoch 27/120\n",
      "2739/2739 [==============================] - 0s 115us/step - loss: 3.6552 - mean_squared_error: 2.0906 - mean_absolute_error: 0.8963 - val_loss: 4.9620 - val_mean_squared_error: 3.4121 - val_mean_absolute_error: 1.0718\n",
      "Epoch 28/120\n",
      "2739/2739 [==============================] - 0s 113us/step - loss: 3.5413 - mean_squared_error: 2.0010 - mean_absolute_error: 0.8874 - val_loss: 4.9540 - val_mean_squared_error: 3.4269 - val_mean_absolute_error: 1.0918\n",
      "Epoch 29/120\n",
      "2739/2739 [==============================] - 0s 112us/step - loss: 3.5299 - mean_squared_error: 2.0160 - mean_absolute_error: 0.8847 - val_loss: 5.0249 - val_mean_squared_error: 3.5250 - val_mean_absolute_error: 1.0925\n",
      "Epoch 30/120\n",
      "2739/2739 [==============================] - 0s 114us/step - loss: 3.3904 - mean_squared_error: 1.8993 - mean_absolute_error: 0.8672 - val_loss: 4.9304 - val_mean_squared_error: 3.4525 - val_mean_absolute_error: 1.0816\n",
      "Epoch 31/120\n",
      "2739/2739 [==============================] - 0s 119us/step - loss: 3.6831 - mean_squared_error: 2.2159 - mean_absolute_error: 0.9283 - val_loss: 5.1363 - val_mean_squared_error: 3.6782 - val_mean_absolute_error: 1.0993\n",
      "Epoch 32/120\n",
      "2739/2739 [==============================] - 0s 117us/step - loss: 3.7121 - mean_squared_error: 2.2661 - mean_absolute_error: 0.9531 - val_loss: 4.9635 - val_mean_squared_error: 3.5299 - val_mean_absolute_error: 1.0902\n",
      "Epoch 33/120\n",
      "2739/2739 [==============================] - 0s 115us/step - loss: 3.2220 - mean_squared_error: 1.8015 - mean_absolute_error: 0.8516 - val_loss: 4.7732 - val_mean_squared_error: 3.3629 - val_mean_absolute_error: 1.0732\n",
      "Epoch 34/120\n",
      "2739/2739 [==============================] - 0s 115us/step - loss: 3.1435 - mean_squared_error: 1.7424 - mean_absolute_error: 0.8363 - val_loss: 4.9465 - val_mean_squared_error: 3.5572 - val_mean_absolute_error: 1.1001\n",
      "Epoch 35/120\n",
      "2739/2739 [==============================] - 0s 112us/step - loss: 3.5092 - mean_squared_error: 2.1287 - mean_absolute_error: 0.9000 - val_loss: 6.6557 - val_mean_squared_error: 5.2790 - val_mean_absolute_error: 1.4223\n",
      "Epoch 36/120\n",
      "2739/2739 [==============================] - 0s 110us/step - loss: 3.2673 - mean_squared_error: 1.9070 - mean_absolute_error: 0.8816 - val_loss: 4.6016 - val_mean_squared_error: 3.2528 - val_mean_absolute_error: 1.0563\n",
      "Epoch 37/120\n",
      "2739/2739 [==============================] - 0s 112us/step - loss: 3.2600 - mean_squared_error: 1.9194 - mean_absolute_error: 0.8625 - val_loss: 4.8009 - val_mean_squared_error: 3.4692 - val_mean_absolute_error: 1.1420\n",
      "Epoch 38/120\n",
      "2739/2739 [==============================] - 0s 114us/step - loss: 3.0419 - mean_squared_error: 1.7227 - mean_absolute_error: 0.8358 - val_loss: 4.6844 - val_mean_squared_error: 3.3743 - val_mean_absolute_error: 1.0708\n",
      "Epoch 39/120\n",
      "2739/2739 [==============================] - 0s 115us/step - loss: 2.9694 - mean_squared_error: 1.6675 - mean_absolute_error: 0.8116 - val_loss: 4.4985 - val_mean_squared_error: 3.2068 - val_mean_absolute_error: 1.0478\n",
      "Epoch 40/120\n",
      "2739/2739 [==============================] - 0s 119us/step - loss: 3.1601 - mean_squared_error: 1.8776 - mean_absolute_error: 0.8444 - val_loss: 4.4404 - val_mean_squared_error: 3.1677 - val_mean_absolute_error: 1.0529\n",
      "Epoch 41/120\n",
      "2739/2739 [==============================] - 0s 121us/step - loss: 3.0815 - mean_squared_error: 1.8160 - mean_absolute_error: 0.8407 - val_loss: 4.6952 - val_mean_squared_error: 3.4423 - val_mean_absolute_error: 1.0805\n",
      "Epoch 42/120\n",
      "2739/2739 [==============================] - 0s 111us/step - loss: 3.5065 - mean_squared_error: 2.2631 - mean_absolute_error: 0.9186 - val_loss: 4.5448 - val_mean_squared_error: 3.3140 - val_mean_absolute_error: 1.0650\n",
      "Epoch 43/120\n",
      "2739/2739 [==============================] - 0s 114us/step - loss: 2.8809 - mean_squared_error: 1.6547 - mean_absolute_error: 0.8033 - val_loss: 4.5068 - val_mean_squared_error: 3.2877 - val_mean_absolute_error: 1.0561\n",
      "Epoch 44/120\n",
      "2739/2739 [==============================] - 0s 121us/step - loss: 2.8012 - mean_squared_error: 1.5884 - mean_absolute_error: 0.7873 - val_loss: 4.4863 - val_mean_squared_error: 3.2824 - val_mean_absolute_error: 1.0586\n",
      "Epoch 45/120\n",
      "2739/2739 [==============================] - 0s 119us/step - loss: 2.8156 - mean_squared_error: 1.6201 - mean_absolute_error: 0.8015 - val_loss: 4.3915 - val_mean_squared_error: 3.2051 - val_mean_absolute_error: 1.0425\n",
      "Epoch 46/120\n",
      "2739/2739 [==============================] - 0s 122us/step - loss: 2.7545 - mean_squared_error: 1.5750 - mean_absolute_error: 0.7809 - val_loss: 4.3016 - val_mean_squared_error: 3.1297 - val_mean_absolute_error: 1.0425\n",
      "Epoch 47/120\n",
      "2739/2739 [==============================] - 0s 118us/step - loss: 2.8966 - mean_squared_error: 1.7303 - mean_absolute_error: 0.8225 - val_loss: 4.3235 - val_mean_squared_error: 3.1665 - val_mean_absolute_error: 1.0482\n",
      "Epoch 48/120\n",
      "2739/2739 [==============================] - 0s 112us/step - loss: 2.7006 - mean_squared_error: 1.5510 - mean_absolute_error: 0.7843 - val_loss: 4.9271 - val_mean_squared_error: 3.7807 - val_mean_absolute_error: 1.1423\n",
      "Epoch 49/120\n",
      "2739/2739 [==============================] - 0s 121us/step - loss: 2.8122 - mean_squared_error: 1.6764 - mean_absolute_error: 0.8094 - val_loss: 4.4497 - val_mean_squared_error: 3.3232 - val_mean_absolute_error: 1.0638\n",
      "Epoch 50/120\n",
      "2739/2739 [==============================] - 0s 122us/step - loss: 2.7936 - mean_squared_error: 1.6724 - mean_absolute_error: 0.8191 - val_loss: 5.4101 - val_mean_squared_error: 4.2907 - val_mean_absolute_error: 1.2549\n",
      "Epoch 51/120\n",
      "2739/2739 [==============================] - 0s 121us/step - loss: 2.7571 - mean_squared_error: 1.6482 - mean_absolute_error: 0.7994 - val_loss: 4.4852 - val_mean_squared_error: 3.3850 - val_mean_absolute_error: 1.0568\n",
      "Epoch 52/120\n",
      "2739/2739 [==============================] - 0s 117us/step - loss: 2.6171 - mean_squared_error: 1.5229 - mean_absolute_error: 0.7838 - val_loss: 4.4922 - val_mean_squared_error: 3.4017 - val_mean_absolute_error: 1.0902\n",
      "Epoch 53/120\n",
      "2739/2739 [==============================] - 0s 120us/step - loss: 2.8577 - mean_squared_error: 1.7766 - mean_absolute_error: 0.8394 - val_loss: 4.4606 - val_mean_squared_error: 3.3879 - val_mean_absolute_error: 1.0718\n",
      "Epoch 54/120\n",
      "2739/2739 [==============================] - 0s 111us/step - loss: 2.5368 - mean_squared_error: 1.4709 - mean_absolute_error: 0.7746 - val_loss: 4.2159 - val_mean_squared_error: 3.1560 - val_mean_absolute_error: 1.0395\n",
      "Epoch 55/120\n",
      "2739/2739 [==============================] - 0s 116us/step - loss: 2.5328 - mean_squared_error: 1.4779 - mean_absolute_error: 0.7691 - val_loss: 4.2514 - val_mean_squared_error: 3.2011 - val_mean_absolute_error: 1.0462\n",
      "Epoch 56/120\n",
      "2739/2739 [==============================] - 0s 113us/step - loss: 2.5660 - mean_squared_error: 1.5201 - mean_absolute_error: 0.7786 - val_loss: 4.4772 - val_mean_squared_error: 3.4361 - val_mean_absolute_error: 1.0806\n",
      "Epoch 57/120\n",
      "2739/2739 [==============================] - 0s 116us/step - loss: 2.4035 - mean_squared_error: 1.3700 - mean_absolute_error: 0.7471 - val_loss: 4.5601 - val_mean_squared_error: 3.5355 - val_mean_absolute_error: 1.0893\n",
      "Epoch 58/120\n",
      "2739/2739 [==============================] - 0s 113us/step - loss: 2.3699 - mean_squared_error: 1.3469 - mean_absolute_error: 0.7354 - val_loss: 4.2044 - val_mean_squared_error: 3.1883 - val_mean_absolute_error: 1.0337\n",
      "Epoch 59/120\n",
      "2739/2739 [==============================] - 0s 123us/step - loss: 2.4706 - mean_squared_error: 1.4589 - mean_absolute_error: 0.7593 - val_loss: 4.4581 - val_mean_squared_error: 3.4567 - val_mean_absolute_error: 1.0874\n",
      "Epoch 60/120\n",
      "2739/2739 [==============================] - 0s 118us/step - loss: 3.0078 - mean_squared_error: 2.0122 - mean_absolute_error: 0.8647 - val_loss: 5.3308 - val_mean_squared_error: 4.3373 - val_mean_absolute_error: 1.2088\n",
      "Epoch 61/120\n",
      "2739/2739 [==============================] - 0s 121us/step - loss: 2.7499 - mean_squared_error: 1.7675 - mean_absolute_error: 0.8289 - val_loss: 4.2104 - val_mean_squared_error: 3.2338 - val_mean_absolute_error: 1.0420\n",
      "Epoch 62/120\n",
      "2739/2739 [==============================] - 0s 121us/step - loss: 2.3163 - mean_squared_error: 1.3418 - mean_absolute_error: 0.7332 - val_loss: 4.2507 - val_mean_squared_error: 3.2803 - val_mean_absolute_error: 1.0466\n",
      "Epoch 63/120\n",
      "2739/2739 [==============================] - 0s 117us/step - loss: 2.4626 - mean_squared_error: 1.4971 - mean_absolute_error: 0.7680 - val_loss: 4.3155 - val_mean_squared_error: 3.3523 - val_mean_absolute_error: 1.0649\n",
      "Epoch 64/120\n",
      "2739/2739 [==============================] - 0s 114us/step - loss: 2.2603 - mean_squared_error: 1.3013 - mean_absolute_error: 0.7283 - val_loss: 4.2213 - val_mean_squared_error: 3.2693 - val_mean_absolute_error: 1.0502\n",
      "Epoch 65/120\n",
      "2739/2739 [==============================] - 0s 115us/step - loss: 2.2383 - mean_squared_error: 1.2904 - mean_absolute_error: 0.7150 - val_loss: 4.5815 - val_mean_squared_error: 3.6449 - val_mean_absolute_error: 1.1036\n",
      "Epoch 66/120\n",
      "2739/2739 [==============================] - 0s 117us/step - loss: 2.6284 - mean_squared_error: 1.6930 - mean_absolute_error: 0.8120 - val_loss: 5.0584 - val_mean_squared_error: 4.1220 - val_mean_absolute_error: 1.1731\n",
      "Epoch 67/120\n",
      "2739/2739 [==============================] - 0s 118us/step - loss: 2.5396 - mean_squared_error: 1.6129 - mean_absolute_error: 0.8139 - val_loss: 4.4057 - val_mean_squared_error: 3.4860 - val_mean_absolute_error: 1.0874\n",
      "Epoch 68/120\n",
      "2739/2739 [==============================] - 0s 119us/step - loss: 2.2974 - mean_squared_error: 1.3784 - mean_absolute_error: 0.7412 - val_loss: 4.1313 - val_mean_squared_error: 3.2165 - val_mean_absolute_error: 1.0412\n",
      "Epoch 69/120\n",
      "2739/2739 [==============================] - 0s 116us/step - loss: 2.2409 - mean_squared_error: 1.3307 - mean_absolute_error: 0.7370 - val_loss: 4.4465 - val_mean_squared_error: 3.5391 - val_mean_absolute_error: 1.1225\n",
      "Epoch 70/120\n",
      "2739/2739 [==============================] - 0s 113us/step - loss: 2.3376 - mean_squared_error: 1.4384 - mean_absolute_error: 0.7547 - val_loss: 4.2464 - val_mean_squared_error: 3.3529 - val_mean_absolute_error: 1.0626\n",
      "Epoch 71/120\n",
      "2739/2739 [==============================] - 0s 118us/step - loss: 2.1718 - mean_squared_error: 1.2804 - mean_absolute_error: 0.7151 - val_loss: 4.0156 - val_mean_squared_error: 3.1277 - val_mean_absolute_error: 1.0364\n",
      "Epoch 72/120\n",
      "2739/2739 [==============================] - 0s 113us/step - loss: 2.1538 - mean_squared_error: 1.2713 - mean_absolute_error: 0.7114 - val_loss: 5.1339 - val_mean_squared_error: 4.2499 - val_mean_absolute_error: 1.2049\n",
      "Epoch 73/120\n",
      "2739/2739 [==============================] - 0s 114us/step - loss: 2.2946 - mean_squared_error: 1.4174 - mean_absolute_error: 0.7485 - val_loss: 4.1717 - val_mean_squared_error: 3.2992 - val_mean_absolute_error: 1.0463\n",
      "Epoch 74/120\n",
      "2739/2739 [==============================] - 0s 119us/step - loss: 2.0703 - mean_squared_error: 1.2004 - mean_absolute_error: 0.6982 - val_loss: 4.2023 - val_mean_squared_error: 3.3379 - val_mean_absolute_error: 1.0535\n",
      "Epoch 75/120\n",
      "2739/2739 [==============================] - 0s 111us/step - loss: 2.1020 - mean_squared_error: 1.2413 - mean_absolute_error: 0.7118 - val_loss: 4.0332 - val_mean_squared_error: 3.1758 - val_mean_absolute_error: 1.0359\n",
      "Epoch 76/120\n",
      "2739/2739 [==============================] - 0s 113us/step - loss: 2.2245 - mean_squared_error: 1.3715 - mean_absolute_error: 0.7447 - val_loss: 4.1976 - val_mean_squared_error: 3.3509 - val_mean_absolute_error: 1.0622\n",
      "Epoch 77/120\n",
      "2739/2739 [==============================] - 0s 118us/step - loss: 2.2977 - mean_squared_error: 1.4543 - mean_absolute_error: 0.7515 - val_loss: 4.3369 - val_mean_squared_error: 3.4947 - val_mean_absolute_error: 1.0661\n",
      "Epoch 78/120\n",
      "2739/2739 [==============================] - 0s 121us/step - loss: 2.1498 - mean_squared_error: 1.3132 - mean_absolute_error: 0.7205 - val_loss: 4.3287 - val_mean_squared_error: 3.4939 - val_mean_absolute_error: 1.0847\n",
      "Epoch 79/120\n",
      "2739/2739 [==============================] - 0s 111us/step - loss: 2.1157 - mean_squared_error: 1.2844 - mean_absolute_error: 0.7310 - val_loss: 4.2218 - val_mean_squared_error: 3.3953 - val_mean_absolute_error: 1.0953\n",
      "Epoch 80/120\n",
      "2739/2739 [==============================] - 0s 110us/step - loss: 1.9901 - mean_squared_error: 1.1672 - mean_absolute_error: 0.6906 - val_loss: 4.2332 - val_mean_squared_error: 3.4133 - val_mean_absolute_error: 1.0681\n",
      "Epoch 81/120\n",
      "2739/2739 [==============================] - 0s 117us/step - loss: 2.1491 - mean_squared_error: 1.3348 - mean_absolute_error: 0.7285 - val_loss: 4.3256 - val_mean_squared_error: 3.5136 - val_mean_absolute_error: 1.1047\n",
      "Epoch 82/120\n",
      "2739/2739 [==============================] - 0s 111us/step - loss: 2.0166 - mean_squared_error: 1.2081 - mean_absolute_error: 0.7116 - val_loss: 4.1202 - val_mean_squared_error: 3.3166 - val_mean_absolute_error: 1.0595\n",
      "Epoch 83/120\n",
      "2739/2739 [==============================] - 0s 115us/step - loss: 1.9390 - mean_squared_error: 1.1357 - mean_absolute_error: 0.6813 - val_loss: 4.0956 - val_mean_squared_error: 3.2945 - val_mean_absolute_error: 1.0406\n",
      "Epoch 84/120\n",
      "2739/2739 [==============================] - 0s 117us/step - loss: 1.9022 - mean_squared_error: 1.1048 - mean_absolute_error: 0.6658 - val_loss: 4.1750 - val_mean_squared_error: 3.3834 - val_mean_absolute_error: 1.0560\n",
      "Epoch 85/120\n",
      "2739/2739 [==============================] - 0s 110us/step - loss: 2.0030 - mean_squared_error: 1.2132 - mean_absolute_error: 0.6876 - val_loss: 4.0119 - val_mean_squared_error: 3.2231 - val_mean_absolute_error: 1.0476\n",
      "Epoch 86/120\n",
      "2739/2739 [==============================] - 0s 112us/step - loss: 1.9267 - mean_squared_error: 1.1412 - mean_absolute_error: 0.6799 - val_loss: 4.1069 - val_mean_squared_error: 3.3273 - val_mean_absolute_error: 1.0523\n",
      "Epoch 87/120\n",
      "2739/2739 [==============================] - 0s 114us/step - loss: 2.2595 - mean_squared_error: 1.4815 - mean_absolute_error: 0.7675 - val_loss: 4.5897 - val_mean_squared_error: 3.8125 - val_mean_absolute_error: 1.1157\n",
      "Epoch 88/120\n",
      "2739/2739 [==============================] - 0s 118us/step - loss: 2.2317 - mean_squared_error: 1.4614 - mean_absolute_error: 0.7606 - val_loss: 3.9826 - val_mean_squared_error: 3.2143 - val_mean_absolute_error: 1.0309\n",
      "Epoch 89/120\n",
      "2739/2739 [==============================] - 0s 117us/step - loss: 1.9319 - mean_squared_error: 1.1665 - mean_absolute_error: 0.6884 - val_loss: 3.9852 - val_mean_squared_error: 3.2239 - val_mean_absolute_error: 1.0298\n",
      "Epoch 90/120\n",
      "2739/2739 [==============================] - 0s 115us/step - loss: 1.8432 - mean_squared_error: 1.0825 - mean_absolute_error: 0.6566 - val_loss: 4.0320 - val_mean_squared_error: 3.2748 - val_mean_absolute_error: 1.0329\n",
      "Epoch 91/120\n",
      "2739/2739 [==============================] - 0s 113us/step - loss: 1.9087 - mean_squared_error: 1.1524 - mean_absolute_error: 0.6746 - val_loss: 3.9305 - val_mean_squared_error: 3.1783 - val_mean_absolute_error: 1.0324\n",
      "Epoch 92/120\n",
      "2739/2739 [==============================] - 0s 113us/step - loss: 1.8897 - mean_squared_error: 1.1392 - mean_absolute_error: 0.6786 - val_loss: 4.0033 - val_mean_squared_error: 3.2527 - val_mean_absolute_error: 1.0411\n",
      "Epoch 93/120\n",
      "2739/2739 [==============================] - 0s 118us/step - loss: 1.9248 - mean_squared_error: 1.1764 - mean_absolute_error: 0.6850 - val_loss: 4.2461 - val_mean_squared_error: 3.4987 - val_mean_absolute_error: 1.0893\n",
      "Epoch 94/120\n",
      "2739/2739 [==============================] - 0s 117us/step - loss: 1.8137 - mean_squared_error: 1.0715 - mean_absolute_error: 0.6689 - val_loss: 3.9747 - val_mean_squared_error: 3.2374 - val_mean_absolute_error: 1.0297\n",
      "Epoch 95/120\n",
      "2739/2739 [==============================] - 0s 114us/step - loss: 1.7671 - mean_squared_error: 1.0309 - mean_absolute_error: 0.6543 - val_loss: 3.9473 - val_mean_squared_error: 3.2124 - val_mean_absolute_error: 1.0290\n",
      "Epoch 96/120\n",
      "2739/2739 [==============================] - 0s 119us/step - loss: 1.8957 - mean_squared_error: 1.1632 - mean_absolute_error: 0.6779 - val_loss: 3.9242 - val_mean_squared_error: 3.1962 - val_mean_absolute_error: 1.0323\n",
      "Epoch 97/120\n",
      "2739/2739 [==============================] - 0s 118us/step - loss: 1.8856 - mean_squared_error: 1.1595 - mean_absolute_error: 0.6868 - val_loss: 4.2459 - val_mean_squared_error: 3.5207 - val_mean_absolute_error: 1.0891\n",
      "Epoch 98/120\n",
      "2739/2739 [==============================] - 0s 115us/step - loss: 1.8739 - mean_squared_error: 1.1537 - mean_absolute_error: 0.6720 - val_loss: 3.9624 - val_mean_squared_error: 3.2453 - val_mean_absolute_error: 1.0411\n",
      "Epoch 99/120\n",
      "2739/2739 [==============================] - 0s 123us/step - loss: 2.0894 - mean_squared_error: 1.3710 - mean_absolute_error: 0.7401 - val_loss: 4.2575 - val_mean_squared_error: 3.5457 - val_mean_absolute_error: 1.0900\n",
      "Epoch 100/120\n",
      "2739/2739 [==============================] - 0s 113us/step - loss: 2.0242 - mean_squared_error: 1.3137 - mean_absolute_error: 0.7268 - val_loss: 4.0742 - val_mean_squared_error: 3.3714 - val_mean_absolute_error: 1.0506\n",
      "Epoch 101/120\n",
      "2739/2739 [==============================] - 0s 124us/step - loss: 2.0292 - mean_squared_error: 1.3271 - mean_absolute_error: 0.7179 - val_loss: 4.8435 - val_mean_squared_error: 4.1378 - val_mean_absolute_error: 1.2039\n",
      "Epoch 102/120\n",
      "2739/2739 [==============================] - 0s 122us/step - loss: 2.4125 - mean_squared_error: 1.7125 - mean_absolute_error: 0.8127 - val_loss: 4.1547 - val_mean_squared_error: 3.4599 - val_mean_absolute_error: 1.0760\n",
      "Epoch 103/120\n",
      "2739/2739 [==============================] - 0s 122us/step - loss: 2.1779 - mean_squared_error: 1.4874 - mean_absolute_error: 0.7325 - val_loss: 4.3477 - val_mean_squared_error: 3.6641 - val_mean_absolute_error: 1.0830\n",
      "Epoch 104/120\n",
      "2739/2739 [==============================] - 0s 124us/step - loss: 1.9446 - mean_squared_error: 1.2559 - mean_absolute_error: 0.7069 - val_loss: 3.9536 - val_mean_squared_error: 3.2641 - val_mean_absolute_error: 1.0336\n",
      "Epoch 105/120\n",
      "2739/2739 [==============================] - 0s 124us/step - loss: 2.0510 - mean_squared_error: 1.3620 - mean_absolute_error: 0.7345 - val_loss: 4.3035 - val_mean_squared_error: 3.6126 - val_mean_absolute_error: 1.1089\n",
      "Epoch 106/120\n",
      "2739/2739 [==============================] - 0s 123us/step - loss: 2.0531 - mean_squared_error: 1.3673 - mean_absolute_error: 0.7411 - val_loss: 4.1854 - val_mean_squared_error: 3.5072 - val_mean_absolute_error: 1.0767\n",
      "Epoch 107/120\n",
      "2739/2739 [==============================] - 0s 122us/step - loss: 2.0996 - mean_squared_error: 1.4231 - mean_absolute_error: 0.7599 - val_loss: 4.5002 - val_mean_squared_error: 3.8213 - val_mean_absolute_error: 1.1451\n",
      "Epoch 108/120\n",
      "2739/2739 [==============================] - 0s 123us/step - loss: 1.9253 - mean_squared_error: 1.2479 - mean_absolute_error: 0.7064 - val_loss: 4.3713 - val_mean_squared_error: 3.6992 - val_mean_absolute_error: 1.1070\n",
      "Epoch 109/120\n",
      "2739/2739 [==============================] - 0s 123us/step - loss: 2.0914 - mean_squared_error: 1.4165 - mean_absolute_error: 0.7532 - val_loss: 5.7868 - val_mean_squared_error: 5.1089 - val_mean_absolute_error: 1.3309\n",
      "Epoch 110/120\n",
      "2739/2739 [==============================] - 0s 126us/step - loss: 1.9884 - mean_squared_error: 1.3200 - mean_absolute_error: 0.7311 - val_loss: 3.9968 - val_mean_squared_error: 3.3321 - val_mean_absolute_error: 1.0328\n",
      "Epoch 111/120\n",
      "2739/2739 [==============================] - 0s 120us/step - loss: 1.7941 - mean_squared_error: 1.1276 - mean_absolute_error: 0.6669 - val_loss: 3.9904 - val_mean_squared_error: 3.3245 - val_mean_absolute_error: 1.0388\n",
      "Epoch 112/120\n",
      "2739/2739 [==============================] - 0s 121us/step - loss: 1.7313 - mean_squared_error: 1.0668 - mean_absolute_error: 0.6560 - val_loss: 4.1085 - val_mean_squared_error: 3.4448 - val_mean_absolute_error: 1.0494\n",
      "Epoch 113/120\n",
      "2739/2739 [==============================] - 0s 120us/step - loss: 1.7282 - mean_squared_error: 1.0649 - mean_absolute_error: 0.6538 - val_loss: 4.3209 - val_mean_squared_error: 3.6552 - val_mean_absolute_error: 1.0968\n",
      "Epoch 114/120\n",
      "2739/2739 [==============================] - 0s 118us/step - loss: 1.8258 - mean_squared_error: 1.1660 - mean_absolute_error: 0.6737 - val_loss: 4.0803 - val_mean_squared_error: 3.4212 - val_mean_absolute_error: 1.0585\n",
      "Epoch 115/120\n",
      "2739/2739 [==============================] - 0s 117us/step - loss: 1.7602 - mean_squared_error: 1.1016 - mean_absolute_error: 0.6609 - val_loss: 3.9309 - val_mean_squared_error: 3.2733 - val_mean_absolute_error: 1.0400\n",
      "Epoch 116/120\n",
      "2739/2739 [==============================] - 0s 120us/step - loss: 1.6069 - mean_squared_error: 0.9515 - mean_absolute_error: 0.6296 - val_loss: 4.0033 - val_mean_squared_error: 3.3464 - val_mean_absolute_error: 1.0517\n",
      "Epoch 117/120\n",
      "2739/2739 [==============================] - 0s 125us/step - loss: 1.6687 - mean_squared_error: 1.0142 - mean_absolute_error: 0.6525 - val_loss: 4.2826 - val_mean_squared_error: 3.6267 - val_mean_absolute_error: 1.0742\n",
      "Epoch 118/120\n",
      "2739/2739 [==============================] - 0s 119us/step - loss: 1.5751 - mean_squared_error: 0.9219 - mean_absolute_error: 0.6264 - val_loss: 4.0936 - val_mean_squared_error: 3.4414 - val_mean_absolute_error: 1.0699\n",
      "Epoch 119/120\n",
      "2739/2739 [==============================] - 0s 120us/step - loss: 1.6378 - mean_squared_error: 0.9892 - mean_absolute_error: 0.6295 - val_loss: 3.9664 - val_mean_squared_error: 3.3200 - val_mean_absolute_error: 1.0555\n",
      "Epoch 120/120\n",
      "2739/2739 [==============================] - 0s 126us/step - loss: 1.7186 - mean_squared_error: 1.0756 - mean_absolute_error: 0.6463 - val_loss: 3.9975 - val_mean_squared_error: 3.3551 - val_mean_absolute_error: 1.0438\n"
     ]
    }
   ],
   "source": [
    "from keras.regularizers import l2\n",
    "model1 = Sequential()\n",
    "model1.add(Dense(128, input_dim = XTrain.shape[1], kernel_initializer='normal', activation = 'relu', kernel_regularizer=l2(0.01)))\n",
    "model1.add(Dense(256, kernel_initializer='normal', activation = 'relu', kernel_regularizer=l2(0.01)))\n",
    "model1.add(Dense(256, kernel_initializer='normal', activation = 'relu', kernel_regularizer=l2(0.01)))\n",
    "model1.add(Dense(256, kernel_initializer = 'normal', activation = 'relu', kernel_regularizer=l2(0.01)))\n",
    "model1.add(Dense(1, kernel_initializer='normal', activation='linear'))\n",
    "opt = keras.optimizers.Adam(learning_rate = 0.001)\n",
    "model1.compile(loss = 'mean_squared_error', optimizer = opt, metrics = ['mean_squared_error', 'mean_absolute_error'])\n",
    "model1.summary()\n",
    "history = model1.fit(XTrain, yTrain, epochs= 120, batch_size= 128,  verbose=1, validation_split=0.3)\n"
   ]
  },
  {
   "cell_type": "code",
   "execution_count": 486,
   "metadata": {
    "colab": {
     "base_uri": "https://localhost:8080/",
     "height": 34
    },
    "colab_type": "code",
    "id": "8HVU9xhgPRyQ",
    "outputId": "dea05b6c-3b17-4371-c6df-4331bcdd9e12"
   },
   "outputs": [
    {
     "data": {
      "text/plain": [
       "(0.9688782342776531, 0.9186685900936)"
      ]
     },
     "execution_count": 486,
     "metadata": {
      "tags": []
     },
     "output_type": "execute_result"
    }
   ],
   "source": [
    "yPred = model1.predict(XTrain)\n",
    "yPredTest = model1.predict(XTest)\n",
    "r2_score(yTrain, yPred), r2_score(yTest, yPredTest)\n"
   ]
  },
  {
   "cell_type": "code",
   "execution_count": 0,
   "metadata": {
    "colab": {},
    "colab_type": "code",
    "id": "sMP7Op9zPR7G"
   },
   "outputs": [],
   "source": []
  },
  {
   "cell_type": "code",
   "execution_count": 0,
   "metadata": {
    "colab": {},
    "colab_type": "code",
    "id": "bvLSJ3NXPSEH"
   },
   "outputs": [],
   "source": []
  },
  {
   "cell_type": "code",
   "execution_count": 0,
   "metadata": {
    "colab": {},
    "colab_type": "code",
    "id": "2AtblKRXPSMw"
   },
   "outputs": [],
   "source": []
  },
  {
   "cell_type": "code",
   "execution_count": 0,
   "metadata": {
    "colab": {},
    "colab_type": "code",
    "id": "dWp3ntxnPSU6"
   },
   "outputs": [],
   "source": []
  },
  {
   "cell_type": "code",
   "execution_count": 0,
   "metadata": {
    "colab": {},
    "colab_type": "code",
    "id": "ZihSFZJaPSfL"
   },
   "outputs": [],
   "source": []
  },
  {
   "cell_type": "code",
   "execution_count": 0,
   "metadata": {
    "colab": {},
    "colab_type": "code",
    "id": "jggsqrJSPSm8"
   },
   "outputs": [],
   "source": []
  },
  {
   "cell_type": "code",
   "execution_count": 0,
   "metadata": {
    "colab": {},
    "colab_type": "code",
    "id": "n-7ZLKLmPSvd"
   },
   "outputs": [],
   "source": []
  },
  {
   "cell_type": "code",
   "execution_count": 0,
   "metadata": {
    "colab": {},
    "colab_type": "code",
    "id": "rIXJhqDLPS4G"
   },
   "outputs": [],
   "source": []
  },
  {
   "cell_type": "code",
   "execution_count": 0,
   "metadata": {
    "colab": {},
    "colab_type": "code",
    "id": "JGLGBDXOPTAy"
   },
   "outputs": [],
   "source": []
  },
  {
   "cell_type": "code",
   "execution_count": 0,
   "metadata": {
    "colab": {},
    "colab_type": "code",
    "id": "nM78nwG6PTPu"
   },
   "outputs": [],
   "source": []
  },
  {
   "cell_type": "code",
   "execution_count": 0,
   "metadata": {
    "colab": {},
    "colab_type": "code",
    "id": "id29IyHbPTYC"
   },
   "outputs": [],
   "source": []
  },
  {
   "cell_type": "code",
   "execution_count": 0,
   "metadata": {
    "colab": {},
    "colab_type": "code",
    "id": "oruoEKg9PTfP"
   },
   "outputs": [],
   "source": []
  },
  {
   "cell_type": "code",
   "execution_count": 0,
   "metadata": {
    "colab": {},
    "colab_type": "code",
    "id": "1_K7abTCPTnw"
   },
   "outputs": [],
   "source": []
  },
  {
   "cell_type": "code",
   "execution_count": 0,
   "metadata": {
    "colab": {},
    "colab_type": "code",
    "id": "pP3O1wGuPTx0"
   },
   "outputs": [],
   "source": []
  },
  {
   "cell_type": "code",
   "execution_count": 0,
   "metadata": {
    "colab": {},
    "colab_type": "code",
    "id": "Cc1gF-HoPT4w"
   },
   "outputs": [],
   "source": []
  },
  {
   "cell_type": "code",
   "execution_count": 0,
   "metadata": {
    "colab": {},
    "colab_type": "code",
    "id": "zqZzYr9SPUCZ"
   },
   "outputs": [],
   "source": []
  },
  {
   "cell_type": "code",
   "execution_count": 0,
   "metadata": {
    "colab": {},
    "colab_type": "code",
    "id": "e6tsRZGyPUJ1"
   },
   "outputs": [],
   "source": []
  },
  {
   "cell_type": "code",
   "execution_count": 0,
   "metadata": {
    "colab": {},
    "colab_type": "code",
    "id": "c293kviHPURv"
   },
   "outputs": [],
   "source": []
  },
  {
   "cell_type": "code",
   "execution_count": 0,
   "metadata": {
    "colab": {},
    "colab_type": "code",
    "id": "JCwWqR-4PUav"
   },
   "outputs": [],
   "source": []
  },
  {
   "cell_type": "code",
   "execution_count": 0,
   "metadata": {
    "colab": {},
    "colab_type": "code",
    "id": "ayFcnlwvPUjA"
   },
   "outputs": [],
   "source": []
  },
  {
   "cell_type": "code",
   "execution_count": 0,
   "metadata": {
    "colab": {},
    "colab_type": "code",
    "id": "A8kZHuigPUrM"
   },
   "outputs": [],
   "source": []
  },
  {
   "cell_type": "code",
   "execution_count": 0,
   "metadata": {
    "colab": {},
    "colab_type": "code",
    "id": "RFnIk9D3PUy_"
   },
   "outputs": [],
   "source": []
  }
 ],
 "metadata": {
  "colab": {
   "name": "carPricePrediction.ipynb",
   "provenance": []
  },
  "kernelspec": {
   "display_name": "Python 3",
   "language": "python",
   "name": "python3"
  },
  "language_info": {
   "codemirror_mode": {
    "name": "ipython",
    "version": 3
   },
   "file_extension": ".py",
   "mimetype": "text/x-python",
   "name": "python",
   "nbconvert_exporter": "python",
   "pygments_lexer": "ipython3",
   "version": "3.7.6"
  }
 },
 "nbformat": 4,
 "nbformat_minor": 1
}
